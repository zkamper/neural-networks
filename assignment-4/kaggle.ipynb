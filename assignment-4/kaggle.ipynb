{
 "cells": [
  {
   "metadata": {
    "ExecuteTime": {
     "end_time": "2024-12-01T18:40:57.444582Z",
     "start_time": "2024-12-01T18:40:57.441951Z"
    }
   },
   "cell_type": "code",
   "source": [
    "import torch\n",
    "import torchvision\n",
    "import torchvision.transforms as transforms\n",
    "from torch.nn import Module, Sequential\n",
    "from torch.utils.data import DataLoader, Subset\n",
    "from torch import optim\n",
    "from tqdm import tqdm\n",
    "import pandas as pd\n",
    "import wandb"
   ],
   "id": "f0a41220ca86fcaa",
   "outputs": [],
   "execution_count": 11
  },
  {
   "metadata": {},
   "cell_type": "markdown",
   "source": "### Descărcare și normalizare date",
   "id": "70f0f0c63fb78eb2"
  },
  {
   "metadata": {
    "ExecuteTime": {
     "end_time": "2024-12-01T22:30:12.424457Z",
     "start_time": "2024-12-01T22:30:12.357292Z"
    }
   },
   "cell_type": "code",
   "source": [
    "image_to_tensor = transforms.Compose([\n",
    "    transforms.ToTensor(),\n",
    "    transforms.Normalize((0.5,), (0.5,)),\n",
    "    transforms.Lambda(torch.flatten)\n",
    "])\n",
    "train_set = torchvision.datasets.MNIST(\n",
    "    root='./training',\n",
    "    train=True,\n",
    "    download=True,\n",
    "    transform=image_to_tensor,\n",
    ")\n",
    "\n",
    "test_set = torchvision.datasets.MNIST(\n",
    "    root='./test',\n",
    "    train=False,\n",
    "    download=True,\n",
    "    transform=image_to_tensor\n",
    ")\n",
    "\n",
    "device = torch.device('cuda' if torch.cuda.is_available() else 'cpu')"
   ],
   "id": "8ff2c3563da08f3b",
   "outputs": [],
   "execution_count": 23
  },
  {
   "metadata": {},
   "cell_type": "markdown",
   "source": "### Definirea modelului",
   "id": "bff26a589226554"
  },
  {
   "metadata": {
    "ExecuteTime": {
     "end_time": "2024-12-01T22:30:14.460180Z",
     "start_time": "2024-12-01T22:30:14.456012Z"
    }
   },
   "cell_type": "code",
   "source": [
    "class MyNN(Module):\n",
    "    def __init__(self, input_size, num_classes, dropout_rate=0.2):\n",
    "        super(MyNN, self).__init__()\n",
    "        self.model = Sequential(\n",
    "            torch.nn.Linear(input_size, 256),\n",
    "            torch.nn.LeakyReLU(),\n",
    "            torch.nn.AlphaDropout(dropout_rate, inplace=True),\n",
    "            torch.nn.Linear(256, 100),\n",
    "            torch.nn.LeakyReLU(),\n",
    "            torch.nn.AlphaDropout(dropout_rate, inplace=True),\n",
    "            torch.nn.Linear(100, num_classes)\n",
    "        )\n",
    "    def forward(self, x):\n",
    "        return self.model(x)"
   ],
   "id": "10a69fb179aeb99",
   "outputs": [],
   "execution_count": 24
  },
  {
   "metadata": {},
   "cell_type": "markdown",
   "source": "### Dataloaders, optimizatori, hiperparametrii",
   "id": "a1a91a15a39a3257"
  },
  {
   "metadata": {
    "ExecuteTime": {
     "end_time": "2024-12-01T22:53:34.040018Z",
     "start_time": "2024-12-01T22:53:34.036346Z"
    }
   },
   "cell_type": "code",
   "source": [
    "# OPTIMAL HYPERPARAMETERS\n",
    "INPUT_SIZE = 784\n",
    "OUTPUT_CLASSES = 10\n",
    "LEARNING_RATE = 0.0015\n",
    "BATCH_SIZE = 256\n",
    "LR_DECAY_RATE = 0.2\n",
    "DROPOUT_RATE = 0.14\n",
    "\n",
    "EPOCHS = 100\n",
    "\n",
    "criterion = torch.nn.CrossEntropyLoss()"
   ],
   "id": "c91ae7ad26b11b5e",
   "outputs": [],
   "execution_count": 29
  },
  {
   "metadata": {
    "ExecuteTime": {
     "end_time": "2024-12-01T18:40:57.580014Z",
     "start_time": "2024-12-01T18:40:57.575007Z"
    }
   },
   "cell_type": "code",
   "source": [
    "def check_accuracy(loader, model: Module):\n",
    "    num_correct = 0\n",
    "    num_samples = 0\n",
    "    model.eval()\n",
    "    \n",
    "    with torch.no_grad():\n",
    "        for image, target in loader:\n",
    "            image, target = image.to(device), target.to(device)\n",
    "            output = model(image)\n",
    "            pred = output.argmax(dim=1, keepdim=True)\n",
    "            num_correct += pred.eq(target.view_as(pred)).sum().item()\n",
    "            num_samples += image.size()[0]\n",
    "            \n",
    "    model.train()\n",
    "    return num_correct / num_samples"
   ],
   "id": "e349b5ed6b8d7072",
   "outputs": [],
   "execution_count": 15
  },
  {
   "metadata": {
    "ExecuteTime": {
     "end_time": "2024-12-01T18:40:57.594290Z",
     "start_time": "2024-12-01T18:40:57.589459Z"
    }
   },
   "cell_type": "code",
   "source": [
    "def generate_submission(test_set, model: Module):\n",
    "    model.eval()\n",
    "    \n",
    "    with torch.no_grad():\n",
    "        for i, (image, _) in enumerate(test_set):\n",
    "            image = image.to(device)\n",
    "            output = model(image)\n",
    "            pred = output.argmax(dim=0)\n",
    "            submission_data[\"ID\"].append(i)\n",
    "            submission_data[\"target\"].append(pred.item())\n",
    "    data_frame = pd.DataFrame(submission_data)\n",
    "    data_frame.to_csv('submission.csv', index=False)\n",
    "    model.train()"
   ],
   "id": "f682e107aa7509ba",
   "outputs": [],
   "execution_count": 16
  },
  {
   "metadata": {},
   "cell_type": "markdown",
   "source": "### Configurarea w&b pentru a găsi cea mai bună configurație",
   "id": "e92d52d5555ac061"
  },
  {
   "metadata": {
    "ExecuteTime": {
     "end_time": "2024-12-01T18:40:57.619112Z",
     "start_time": "2024-12-01T18:40:57.609997Z"
    }
   },
   "cell_type": "code",
   "source": [
    "wandb.login()\n",
    "sweep_config = {\n",
    "    'method': 'random',\n",
    "    'metric': {\n",
    "        'name': 'accuracy',\n",
    "        'goal': 'maximize'\n",
    "    },\n",
    "    'parameters': {\n",
    "        'optimizer': {\n",
    "            'value': 'adam'\n",
    "        },\n",
    "        'learning_rate': {\n",
    "            'distribution': 'uniform',\n",
    "            'min': 0.0001,\n",
    "            'max': 0.01\n",
    "        },\n",
    "        'batch_size': {\n",
    "            'values': [128, 256, 512]\n",
    "        },\n",
    "        'dropout_rate': {\n",
    "            'distribution': 'uniform',\n",
    "            'min': 0.1,\n",
    "            'max': 0.5\n",
    "        },\n",
    "        'lr_decay_rate': {\n",
    "            'distribution': 'uniform',\n",
    "            'min': 0.1,\n",
    "            'max': 0.5\n",
    "        },\n",
    "        'epochs': {\n",
    "            'value': 25\n",
    "        }\n",
    "    }\n",
    "}"
   ],
   "id": "c2b95ab95f15cd94",
   "outputs": [],
   "execution_count": 17
  },
  {
   "metadata": {},
   "cell_type": "markdown",
   "source": "### Antrenarea și uploadarea modelului",
   "id": "4b9935e161c30583"
  },
  {
   "metadata": {
    "ExecuteTime": {
     "end_time": "2024-12-01T22:30:24.392861Z",
     "start_time": "2024-12-01T22:30:24.385201Z"
    }
   },
   "cell_type": "code",
   "source": [
    "def gen_model(learning_rate, optimizer_name, dropout_rate, lr_decay_rate) -> tuple[Module, optim.Optimizer, optim.lr_scheduler.StepLR]:\n",
    "    model = MyNN(INPUT_SIZE, OUTPUT_CLASSES, dropout_rate).to(device)\n",
    "    if optimizer_name == 'adam':\n",
    "        optimizer = optim.AdamW(model.parameters(), lr=learning_rate, weight_decay=0.0001)\n",
    "    else:\n",
    "        optimizer = optim.SGD(model.parameters(), lr=learning_rate,momentum=0.9)\n",
    "    rate_reducer = optim.lr_scheduler.StepLR(optimizer, step_size=10, gamma=lr_decay_rate)\n",
    "    return model, optimizer, rate_reducer\n",
    "\n",
    "def gen_loader(batch_size) -> tuple[DataLoader, DataLoader]:\n",
    "    train_loader = DataLoader(train_set, batch_size=batch_size, shuffle=True, drop_last=True, num_workers=4)\n",
    "    test_loader = DataLoader(test_set, batch_size=batch_size, shuffle=True, drop_last=True, num_workers=4)\n",
    "    return train_loader, test_loader\n",
    "\n",
    "def train_epoch(loader, model: Module, optimizer):\n",
    "    model.train()\n",
    "    for _, (images, labels) in enumerate(tqdm(loader)):\n",
    "        images = images.to(device)\n",
    "        labels = labels.to(device)\n",
    "        \n",
    "        scores = model(images)\n",
    "        loss = criterion(scores, labels)\n",
    "        \n",
    "        optimizer.zero_grad()\n",
    "        loss.backward()\n",
    "        \n",
    "        optimizer.step()"
   ],
   "id": "7db28cc976b9a734",
   "outputs": [],
   "execution_count": 26
  },
  {
   "metadata": {
    "ExecuteTime": {
     "end_time": "2024-12-01T18:40:57.659818Z",
     "start_time": "2024-12-01T18:40:57.654350Z"
    }
   },
   "cell_type": "code",
   "source": [
    "def train(config=None):\n",
    "    with wandb.init(config=config):\n",
    "        config = wandb.config\n",
    "        \n",
    "        model, optimizer, rate_reducer = gen_model(config.learning_rate, config.optimizer, config.dropout_rate, config.lr_decay_rate)\n",
    "        train_loader, test_loader = gen_loader(config.batch_size)\n",
    "        \n",
    "        for epoch in range(config.epochs):\n",
    "            train_epoch(train_loader, model, optimizer)\n",
    "            accuracy = check_accuracy(test_loader, model)\n",
    "            wandb.log({'accuracy': accuracy, 'epoch': epoch})\n",
    "        "
   ],
   "id": "a4a998f9d3a7e4b0",
   "outputs": [],
   "execution_count": 19
  },
  {
   "metadata": {
    "ExecuteTime": {
     "end_time": "2024-12-01T21:31:39.517681Z",
     "start_time": "2024-12-01T18:40:57.669820Z"
    }
   },
   "cell_type": "code",
   "source": [
    "sweep_id = wandb.sweep(sweep_config, project='assignment-4')\n",
    "wandb.agent(sweep_id, function=train, count=32)"
   ],
   "id": "5c4ac24e3d5a4688",
   "outputs": [
    {
     "name": "stdout",
     "output_type": "stream",
     "text": [
      "Create sweep with ID: 2hr7fem4\n",
      "Sweep URL: https://wandb.ai/ionut-calin-uaic/assignment-4/sweeps/2hr7fem4\n"
     ]
    },
    {
     "name": "stderr",
     "output_type": "stream",
     "text": [
      "wandb: Agent Starting Run: gr0f6g3p with config:\n",
      "wandb: \tbatch_size: 128\n",
      "wandb: \tdropout_rate: 0.2234705600614241\n",
      "wandb: \tepochs: 25\n",
      "wandb: \tlearning_rate: 0.006419541136053063\n",
      "wandb: \tlr_decay_rate: 0.18230544662975137\n",
      "wandb: \toptimizer: adam\n"
     ]
    },
    {
     "data": {
      "text/plain": [
       "<IPython.core.display.HTML object>"
      ],
      "text/html": [
       "Tracking run with wandb version 0.18.7"
      ]
     },
     "metadata": {},
     "output_type": "display_data"
    },
    {
     "data": {
      "text/plain": [
       "<IPython.core.display.HTML object>"
      ],
      "text/html": [
       "Run data is saved locally in <code>C:\\Users\\Ionut\\Documents\\Facultate\\An 3\\RN\\neural-networks\\assignment-4\\wandb\\run-20241201_204059-gr0f6g3p</code>"
      ]
     },
     "metadata": {},
     "output_type": "display_data"
    },
    {
     "data": {
      "text/plain": [
       "<IPython.core.display.HTML object>"
      ],
      "text/html": [
       "Syncing run <strong><a href='https://wandb.ai/ionut-calin-uaic/assignment-4/runs/gr0f6g3p' target=\"_blank\">warm-sweep-1</a></strong> to <a href='https://wandb.ai/ionut-calin-uaic/assignment-4' target=\"_blank\">Weights & Biases</a> (<a href='https://wandb.me/developer-guide' target=\"_blank\">docs</a>)<br/>Sweep page: <a href='https://wandb.ai/ionut-calin-uaic/assignment-4/sweeps/2hr7fem4' target=\"_blank\">https://wandb.ai/ionut-calin-uaic/assignment-4/sweeps/2hr7fem4</a>"
      ]
     },
     "metadata": {},
     "output_type": "display_data"
    },
    {
     "data": {
      "text/plain": [
       "<IPython.core.display.HTML object>"
      ],
      "text/html": [
       " View project at <a href='https://wandb.ai/ionut-calin-uaic/assignment-4' target=\"_blank\">https://wandb.ai/ionut-calin-uaic/assignment-4</a>"
      ]
     },
     "metadata": {},
     "output_type": "display_data"
    },
    {
     "data": {
      "text/plain": [
       "<IPython.core.display.HTML object>"
      ],
      "text/html": [
       " View sweep at <a href='https://wandb.ai/ionut-calin-uaic/assignment-4/sweeps/2hr7fem4' target=\"_blank\">https://wandb.ai/ionut-calin-uaic/assignment-4/sweeps/2hr7fem4</a>"
      ]
     },
     "metadata": {},
     "output_type": "display_data"
    },
    {
     "data": {
      "text/plain": [
       "<IPython.core.display.HTML object>"
      ],
      "text/html": [
       " View run at <a href='https://wandb.ai/ionut-calin-uaic/assignment-4/runs/gr0f6g3p' target=\"_blank\">https://wandb.ai/ionut-calin-uaic/assignment-4/runs/gr0f6g3p</a>"
      ]
     },
     "metadata": {},
     "output_type": "display_data"
    },
    {
     "name": "stderr",
     "output_type": "stream",
     "text": [
      "100%|██████████| 468/468 [00:07<00:00, 64.56it/s] \n",
      "100%|██████████| 468/468 [00:07<00:00, 65.16it/s] \n",
      "100%|██████████| 468/468 [00:07<00:00, 64.92it/s] \n",
      "100%|██████████| 468/468 [00:07<00:00, 64.29it/s] \n",
      "100%|██████████| 468/468 [00:07<00:00, 65.10it/s] \n",
      "100%|██████████| 468/468 [00:07<00:00, 61.34it/s] \n",
      "100%|██████████| 468/468 [00:07<00:00, 65.19it/s] \n",
      "100%|██████████| 468/468 [00:07<00:00, 65.39it/s] \n",
      "100%|██████████| 468/468 [00:07<00:00, 63.71it/s] \n",
      "100%|██████████| 468/468 [00:07<00:00, 65.36it/s] \n",
      "100%|██████████| 468/468 [00:07<00:00, 64.36it/s] \n",
      "100%|██████████| 468/468 [00:07<00:00, 64.83it/s] \n",
      "100%|██████████| 468/468 [00:07<00:00, 65.24it/s] \n",
      "100%|██████████| 468/468 [00:07<00:00, 63.09it/s] \n",
      "100%|██████████| 468/468 [00:07<00:00, 64.46it/s] \n",
      "100%|██████████| 468/468 [00:07<00:00, 64.85it/s] \n",
      "100%|██████████| 468/468 [00:07<00:00, 63.88it/s] \n",
      "100%|██████████| 468/468 [00:07<00:00, 64.06it/s] \n",
      "100%|██████████| 468/468 [00:07<00:00, 64.21it/s] \n",
      "100%|██████████| 468/468 [00:07<00:00, 64.14it/s] \n",
      "100%|██████████| 468/468 [00:07<00:00, 63.84it/s] \n",
      "100%|██████████| 468/468 [00:07<00:00, 62.86it/s] \n",
      "100%|██████████| 468/468 [00:07<00:00, 62.85it/s] \n",
      "100%|██████████| 468/468 [00:07<00:00, 64.12it/s] \n",
      "100%|██████████| 468/468 [00:07<00:00, 63.17it/s] \n"
     ]
    },
    {
     "data": {
      "text/plain": [
       "<IPython.core.display.HTML object>"
      ],
      "text/html": [
       "\n",
       "    <style>\n",
       "        .wandb-row {\n",
       "            display: flex;\n",
       "            flex-direction: row;\n",
       "            flex-wrap: wrap;\n",
       "            justify-content: flex-start;\n",
       "            width: 100%;\n",
       "        }\n",
       "        .wandb-col {\n",
       "            display: flex;\n",
       "            flex-direction: column;\n",
       "            flex-basis: 100%;\n",
       "            flex: 1;\n",
       "            padding: 10px;\n",
       "        }\n",
       "    </style>\n",
       "<div class=\"wandb-row\"><div class=\"wandb-col\"><h3>Run history:</h3><br/><table class=\"wandb\"><tr><td>accuracy</td><td>▂▁▄▄▅▅▅▆▆▆▇▆▆▆▇▇▆▇▇▃▇▆█▇█</td></tr><tr><td>epoch</td><td>▁▁▂▂▂▂▃▃▃▄▄▄▅▅▅▅▆▆▆▇▇▇▇██</td></tr></table><br/></div><div class=\"wandb-col\"><h3>Run summary:</h3><br/><table class=\"wandb\"><tr><td>accuracy</td><td>0.97246</td></tr><tr><td>epoch</td><td>24</td></tr></table><br/></div></div>"
      ]
     },
     "metadata": {},
     "output_type": "display_data"
    },
    {
     "data": {
      "text/plain": [
       "<IPython.core.display.HTML object>"
      ],
      "text/html": [
       " View run <strong style=\"color:#cdcd00\">warm-sweep-1</strong> at: <a href='https://wandb.ai/ionut-calin-uaic/assignment-4/runs/gr0f6g3p' target=\"_blank\">https://wandb.ai/ionut-calin-uaic/assignment-4/runs/gr0f6g3p</a><br/> View project at: <a href='https://wandb.ai/ionut-calin-uaic/assignment-4' target=\"_blank\">https://wandb.ai/ionut-calin-uaic/assignment-4</a><br/>Synced 5 W&B file(s), 0 media file(s), 0 artifact file(s) and 0 other file(s)"
      ]
     },
     "metadata": {},
     "output_type": "display_data"
    },
    {
     "data": {
      "text/plain": [
       "<IPython.core.display.HTML object>"
      ],
      "text/html": [
       "Find logs at: <code>.\\wandb\\run-20241201_204059-gr0f6g3p\\logs</code>"
      ]
     },
     "metadata": {},
     "output_type": "display_data"
    },
    {
     "name": "stderr",
     "output_type": "stream",
     "text": [
      "wandb: Agent Starting Run: khw8ar4t with config:\n",
      "wandb: \tbatch_size: 128\n",
      "wandb: \tdropout_rate: 0.47166891949594303\n",
      "wandb: \tepochs: 25\n",
      "wandb: \tlearning_rate: 0.003448618994183813\n",
      "wandb: \tlr_decay_rate: 0.3200344549602876\n",
      "wandb: \toptimizer: adam\n"
     ]
    },
    {
     "data": {
      "text/plain": [
       "<IPython.core.display.HTML object>"
      ],
      "text/html": [
       "Tracking run with wandb version 0.18.7"
      ]
     },
     "metadata": {},
     "output_type": "display_data"
    },
    {
     "data": {
      "text/plain": [
       "<IPython.core.display.HTML object>"
      ],
      "text/html": [
       "Run data is saved locally in <code>C:\\Users\\Ionut\\Documents\\Facultate\\An 3\\RN\\neural-networks\\assignment-4\\wandb\\run-20241201_204606-khw8ar4t</code>"
      ]
     },
     "metadata": {},
     "output_type": "display_data"
    },
    {
     "data": {
      "text/plain": [
       "<IPython.core.display.HTML object>"
      ],
      "text/html": [
       "Syncing run <strong><a href='https://wandb.ai/ionut-calin-uaic/assignment-4/runs/khw8ar4t' target=\"_blank\">different-sweep-2</a></strong> to <a href='https://wandb.ai/ionut-calin-uaic/assignment-4' target=\"_blank\">Weights & Biases</a> (<a href='https://wandb.me/developer-guide' target=\"_blank\">docs</a>)<br/>Sweep page: <a href='https://wandb.ai/ionut-calin-uaic/assignment-4/sweeps/2hr7fem4' target=\"_blank\">https://wandb.ai/ionut-calin-uaic/assignment-4/sweeps/2hr7fem4</a>"
      ]
     },
     "metadata": {},
     "output_type": "display_data"
    },
    {
     "data": {
      "text/plain": [
       "<IPython.core.display.HTML object>"
      ],
      "text/html": [
       " View project at <a href='https://wandb.ai/ionut-calin-uaic/assignment-4' target=\"_blank\">https://wandb.ai/ionut-calin-uaic/assignment-4</a>"
      ]
     },
     "metadata": {},
     "output_type": "display_data"
    },
    {
     "data": {
      "text/plain": [
       "<IPython.core.display.HTML object>"
      ],
      "text/html": [
       " View sweep at <a href='https://wandb.ai/ionut-calin-uaic/assignment-4/sweeps/2hr7fem4' target=\"_blank\">https://wandb.ai/ionut-calin-uaic/assignment-4/sweeps/2hr7fem4</a>"
      ]
     },
     "metadata": {},
     "output_type": "display_data"
    },
    {
     "data": {
      "text/plain": [
       "<IPython.core.display.HTML object>"
      ],
      "text/html": [
       " View run at <a href='https://wandb.ai/ionut-calin-uaic/assignment-4/runs/khw8ar4t' target=\"_blank\">https://wandb.ai/ionut-calin-uaic/assignment-4/runs/khw8ar4t</a>"
      ]
     },
     "metadata": {},
     "output_type": "display_data"
    },
    {
     "name": "stderr",
     "output_type": "stream",
     "text": [
      "100%|██████████| 468/468 [00:07<00:00, 64.43it/s] \n",
      "100%|██████████| 468/468 [00:07<00:00, 64.51it/s] \n",
      "100%|██████████| 468/468 [00:07<00:00, 65.26it/s] \n",
      "100%|██████████| 468/468 [00:07<00:00, 65.33it/s] \n",
      "100%|██████████| 468/468 [00:07<00:00, 64.39it/s] \n",
      "100%|██████████| 468/468 [00:07<00:00, 61.21it/s] \n",
      "100%|██████████| 468/468 [00:07<00:00, 65.14it/s] \n",
      "100%|██████████| 468/468 [00:07<00:00, 64.90it/s] \n",
      "100%|██████████| 468/468 [00:07<00:00, 65.57it/s] \n",
      "100%|██████████| 468/468 [00:07<00:00, 64.81it/s] \n",
      "100%|██████████| 468/468 [00:07<00:00, 64.69it/s] \n",
      "100%|██████████| 468/468 [00:07<00:00, 65.23it/s] \n",
      "100%|██████████| 468/468 [00:08<00:00, 55.32it/s] \n",
      "100%|██████████| 468/468 [00:08<00:00, 52.31it/s] \n",
      "100%|██████████| 468/468 [00:07<00:00, 59.74it/s] \n",
      "100%|██████████| 468/468 [00:08<00:00, 58.33it/s] \n",
      "100%|██████████| 468/468 [00:08<00:00, 56.71it/s] \n",
      "100%|██████████| 468/468 [00:08<00:00, 52.61it/s] \n",
      "100%|██████████| 468/468 [00:08<00:00, 56.69it/s] \n",
      "100%|██████████| 468/468 [00:08<00:00, 58.01it/s] \n",
      "100%|██████████| 468/468 [00:07<00:00, 60.09it/s] \n",
      "100%|██████████| 468/468 [00:08<00:00, 53.15it/s] \n",
      "100%|██████████| 468/468 [00:08<00:00, 54.50it/s] \n",
      "100%|██████████| 468/468 [00:08<00:00, 54.47it/s] \n",
      "100%|██████████| 468/468 [00:08<00:00, 53.74it/s] \n"
     ]
    },
    {
     "data": {
      "text/plain": [
       "<IPython.core.display.HTML object>"
      ],
      "text/html": [
       "\n",
       "    <style>\n",
       "        .wandb-row {\n",
       "            display: flex;\n",
       "            flex-direction: row;\n",
       "            flex-wrap: wrap;\n",
       "            justify-content: flex-start;\n",
       "            width: 100%;\n",
       "        }\n",
       "        .wandb-col {\n",
       "            display: flex;\n",
       "            flex-direction: column;\n",
       "            flex-basis: 100%;\n",
       "            flex: 1;\n",
       "            padding: 10px;\n",
       "        }\n",
       "    </style>\n",
       "<div class=\"wandb-row\"><div class=\"wandb-col\"><h3>Run history:</h3><br/><table class=\"wandb\"><tr><td>accuracy</td><td>▁▃▅▅▆▆▆▇▇▆▇▇▇▇████▇██████</td></tr><tr><td>epoch</td><td>▁▁▂▂▂▂▃▃▃▄▄▄▅▅▅▅▆▆▆▇▇▇▇██</td></tr></table><br/></div><div class=\"wandb-col\"><h3>Run summary:</h3><br/><table class=\"wandb\"><tr><td>accuracy</td><td>0.96695</td></tr><tr><td>epoch</td><td>24</td></tr></table><br/></div></div>"
      ]
     },
     "metadata": {},
     "output_type": "display_data"
    },
    {
     "data": {
      "text/plain": [
       "<IPython.core.display.HTML object>"
      ],
      "text/html": [
       " View run <strong style=\"color:#cdcd00\">different-sweep-2</strong> at: <a href='https://wandb.ai/ionut-calin-uaic/assignment-4/runs/khw8ar4t' target=\"_blank\">https://wandb.ai/ionut-calin-uaic/assignment-4/runs/khw8ar4t</a><br/> View project at: <a href='https://wandb.ai/ionut-calin-uaic/assignment-4' target=\"_blank\">https://wandb.ai/ionut-calin-uaic/assignment-4</a><br/>Synced 5 W&B file(s), 0 media file(s), 0 artifact file(s) and 0 other file(s)"
      ]
     },
     "metadata": {},
     "output_type": "display_data"
    },
    {
     "data": {
      "text/plain": [
       "<IPython.core.display.HTML object>"
      ],
      "text/html": [
       "Find logs at: <code>.\\wandb\\run-20241201_204606-khw8ar4t\\logs</code>"
      ]
     },
     "metadata": {},
     "output_type": "display_data"
    },
    {
     "name": "stderr",
     "output_type": "stream",
     "text": [
      "wandb: Agent Starting Run: h0picrhp with config:\n",
      "wandb: \tbatch_size: 128\n",
      "wandb: \tdropout_rate: 0.4452585053855912\n",
      "wandb: \tepochs: 25\n",
      "wandb: \tlearning_rate: 0.005416545005088804\n",
      "wandb: \tlr_decay_rate: 0.27472533451701997\n",
      "wandb: \toptimizer: adam\n"
     ]
    },
    {
     "data": {
      "text/plain": [
       "<IPython.core.display.HTML object>"
      ],
      "text/html": [
       "Tracking run with wandb version 0.18.7"
      ]
     },
     "metadata": {},
     "output_type": "display_data"
    },
    {
     "data": {
      "text/plain": [
       "<IPython.core.display.HTML object>"
      ],
      "text/html": [
       "Run data is saved locally in <code>C:\\Users\\Ionut\\Documents\\Facultate\\An 3\\RN\\neural-networks\\assignment-4\\wandb\\run-20241201_205133-h0picrhp</code>"
      ]
     },
     "metadata": {},
     "output_type": "display_data"
    },
    {
     "data": {
      "text/plain": [
       "<IPython.core.display.HTML object>"
      ],
      "text/html": [
       "Syncing run <strong><a href='https://wandb.ai/ionut-calin-uaic/assignment-4/runs/h0picrhp' target=\"_blank\">earnest-sweep-3</a></strong> to <a href='https://wandb.ai/ionut-calin-uaic/assignment-4' target=\"_blank\">Weights & Biases</a> (<a href='https://wandb.me/developer-guide' target=\"_blank\">docs</a>)<br/>Sweep page: <a href='https://wandb.ai/ionut-calin-uaic/assignment-4/sweeps/2hr7fem4' target=\"_blank\">https://wandb.ai/ionut-calin-uaic/assignment-4/sweeps/2hr7fem4</a>"
      ]
     },
     "metadata": {},
     "output_type": "display_data"
    },
    {
     "data": {
      "text/plain": [
       "<IPython.core.display.HTML object>"
      ],
      "text/html": [
       " View project at <a href='https://wandb.ai/ionut-calin-uaic/assignment-4' target=\"_blank\">https://wandb.ai/ionut-calin-uaic/assignment-4</a>"
      ]
     },
     "metadata": {},
     "output_type": "display_data"
    },
    {
     "data": {
      "text/plain": [
       "<IPython.core.display.HTML object>"
      ],
      "text/html": [
       " View sweep at <a href='https://wandb.ai/ionut-calin-uaic/assignment-4/sweeps/2hr7fem4' target=\"_blank\">https://wandb.ai/ionut-calin-uaic/assignment-4/sweeps/2hr7fem4</a>"
      ]
     },
     "metadata": {},
     "output_type": "display_data"
    },
    {
     "data": {
      "text/plain": [
       "<IPython.core.display.HTML object>"
      ],
      "text/html": [
       " View run at <a href='https://wandb.ai/ionut-calin-uaic/assignment-4/runs/h0picrhp' target=\"_blank\">https://wandb.ai/ionut-calin-uaic/assignment-4/runs/h0picrhp</a>"
      ]
     },
     "metadata": {},
     "output_type": "display_data"
    },
    {
     "name": "stderr",
     "output_type": "stream",
     "text": [
      "100%|██████████| 468/468 [00:08<00:00, 54.52it/s] \n",
      "100%|██████████| 468/468 [00:07<00:00, 61.52it/s] \n",
      "100%|██████████| 468/468 [00:08<00:00, 57.11it/s] \n",
      "100%|██████████| 468/468 [00:07<00:00, 63.27it/s] \n",
      "100%|██████████| 468/468 [00:08<00:00, 58.36it/s] \n",
      "100%|██████████| 468/468 [00:07<00:00, 59.42it/s] \n",
      "100%|██████████| 468/468 [00:07<00:00, 60.16it/s] \n",
      "100%|██████████| 468/468 [00:08<00:00, 56.96it/s] \n",
      "100%|██████████| 468/468 [00:08<00:00, 57.24it/s] \n",
      "100%|██████████| 468/468 [00:08<00:00, 56.34it/s] \n",
      "100%|██████████| 468/468 [00:07<00:00, 63.02it/s] \n",
      "100%|██████████| 468/468 [00:07<00:00, 62.12it/s] \n",
      "100%|██████████| 468/468 [00:07<00:00, 64.58it/s] \n",
      "100%|██████████| 468/468 [00:07<00:00, 64.84it/s] \n",
      "100%|██████████| 468/468 [00:07<00:00, 62.07it/s] \n",
      "100%|██████████| 468/468 [00:07<00:00, 62.97it/s] \n",
      "100%|██████████| 468/468 [00:07<00:00, 62.85it/s] \n",
      "100%|██████████| 468/468 [00:07<00:00, 64.05it/s] \n",
      "100%|██████████| 468/468 [00:07<00:00, 65.57it/s] \n",
      "100%|██████████| 468/468 [00:07<00:00, 61.95it/s] \n",
      "100%|██████████| 468/468 [00:07<00:00, 63.96it/s] \n",
      "100%|██████████| 468/468 [00:07<00:00, 62.34it/s] \n",
      "100%|██████████| 468/468 [00:07<00:00, 65.63it/s] \n",
      "100%|██████████| 468/468 [00:08<00:00, 55.73it/s] \n",
      "100%|██████████| 468/468 [00:08<00:00, 55.65it/s] \n"
     ]
    },
    {
     "data": {
      "text/plain": [
       "<IPython.core.display.HTML object>"
      ],
      "text/html": [
       "\n",
       "    <style>\n",
       "        .wandb-row {\n",
       "            display: flex;\n",
       "            flex-direction: row;\n",
       "            flex-wrap: wrap;\n",
       "            justify-content: flex-start;\n",
       "            width: 100%;\n",
       "        }\n",
       "        .wandb-col {\n",
       "            display: flex;\n",
       "            flex-direction: column;\n",
       "            flex-basis: 100%;\n",
       "            flex: 1;\n",
       "            padding: 10px;\n",
       "        }\n",
       "    </style>\n",
       "<div class=\"wandb-row\"><div class=\"wandb-col\"><h3>Run history:</h3><br/><table class=\"wandb\"><tr><td>accuracy</td><td>▁▄▅▆▆▆▇▇▇▇▇▇▇▇▇█▇█▇▇▇█▇█▆</td></tr><tr><td>epoch</td><td>▁▁▂▂▂▂▃▃▃▄▄▄▅▅▅▅▆▆▆▇▇▇▇██</td></tr></table><br/></div><div class=\"wandb-col\"><h3>Run summary:</h3><br/><table class=\"wandb\"><tr><td>accuracy</td><td>0.95142</td></tr><tr><td>epoch</td><td>24</td></tr></table><br/></div></div>"
      ]
     },
     "metadata": {},
     "output_type": "display_data"
    },
    {
     "data": {
      "text/plain": [
       "<IPython.core.display.HTML object>"
      ],
      "text/html": [
       " View run <strong style=\"color:#cdcd00\">earnest-sweep-3</strong> at: <a href='https://wandb.ai/ionut-calin-uaic/assignment-4/runs/h0picrhp' target=\"_blank\">https://wandb.ai/ionut-calin-uaic/assignment-4/runs/h0picrhp</a><br/> View project at: <a href='https://wandb.ai/ionut-calin-uaic/assignment-4' target=\"_blank\">https://wandb.ai/ionut-calin-uaic/assignment-4</a><br/>Synced 5 W&B file(s), 0 media file(s), 0 artifact file(s) and 0 other file(s)"
      ]
     },
     "metadata": {},
     "output_type": "display_data"
    },
    {
     "data": {
      "text/plain": [
       "<IPython.core.display.HTML object>"
      ],
      "text/html": [
       "Find logs at: <code>.\\wandb\\run-20241201_205133-h0picrhp\\logs</code>"
      ]
     },
     "metadata": {},
     "output_type": "display_data"
    },
    {
     "name": "stderr",
     "output_type": "stream",
     "text": [
      "wandb: Sweep Agent: Waiting for job.\n",
      "wandb: Job received.\n",
      "wandb: Agent Starting Run: 1noreimz with config:\n",
      "wandb: \tbatch_size: 512\n",
      "wandb: \tdropout_rate: 0.1407694491846274\n",
      "wandb: \tepochs: 25\n",
      "wandb: \tlearning_rate: 0.0006457080719901652\n",
      "wandb: \tlr_decay_rate: 0.3079553454066999\n",
      "wandb: \toptimizer: adam\n"
     ]
    },
    {
     "data": {
      "text/plain": [
       "<IPython.core.display.HTML object>"
      ],
      "text/html": [
       "Tracking run with wandb version 0.18.7"
      ]
     },
     "metadata": {},
     "output_type": "display_data"
    },
    {
     "data": {
      "text/plain": [
       "<IPython.core.display.HTML object>"
      ],
      "text/html": [
       "Run data is saved locally in <code>C:\\Users\\Ionut\\Documents\\Facultate\\An 3\\RN\\neural-networks\\assignment-4\\wandb\\run-20241201_205705-1noreimz</code>"
      ]
     },
     "metadata": {},
     "output_type": "display_data"
    },
    {
     "data": {
      "text/plain": [
       "<IPython.core.display.HTML object>"
      ],
      "text/html": [
       "Syncing run <strong><a href='https://wandb.ai/ionut-calin-uaic/assignment-4/runs/1noreimz' target=\"_blank\">polar-sweep-4</a></strong> to <a href='https://wandb.ai/ionut-calin-uaic/assignment-4' target=\"_blank\">Weights & Biases</a> (<a href='https://wandb.me/developer-guide' target=\"_blank\">docs</a>)<br/>Sweep page: <a href='https://wandb.ai/ionut-calin-uaic/assignment-4/sweeps/2hr7fem4' target=\"_blank\">https://wandb.ai/ionut-calin-uaic/assignment-4/sweeps/2hr7fem4</a>"
      ]
     },
     "metadata": {},
     "output_type": "display_data"
    },
    {
     "data": {
      "text/plain": [
       "<IPython.core.display.HTML object>"
      ],
      "text/html": [
       " View project at <a href='https://wandb.ai/ionut-calin-uaic/assignment-4' target=\"_blank\">https://wandb.ai/ionut-calin-uaic/assignment-4</a>"
      ]
     },
     "metadata": {},
     "output_type": "display_data"
    },
    {
     "data": {
      "text/plain": [
       "<IPython.core.display.HTML object>"
      ],
      "text/html": [
       " View sweep at <a href='https://wandb.ai/ionut-calin-uaic/assignment-4/sweeps/2hr7fem4' target=\"_blank\">https://wandb.ai/ionut-calin-uaic/assignment-4/sweeps/2hr7fem4</a>"
      ]
     },
     "metadata": {},
     "output_type": "display_data"
    },
    {
     "data": {
      "text/plain": [
       "<IPython.core.display.HTML object>"
      ],
      "text/html": [
       " View run at <a href='https://wandb.ai/ionut-calin-uaic/assignment-4/runs/1noreimz' target=\"_blank\">https://wandb.ai/ionut-calin-uaic/assignment-4/runs/1noreimz</a>"
      ]
     },
     "metadata": {},
     "output_type": "display_data"
    },
    {
     "name": "stderr",
     "output_type": "stream",
     "text": [
      "100%|██████████| 117/117 [00:08<00:00, 13.31it/s]\n",
      "100%|██████████| 117/117 [00:08<00:00, 13.62it/s]\n",
      "100%|██████████| 117/117 [00:08<00:00, 14.10it/s]\n",
      "100%|██████████| 117/117 [00:07<00:00, 16.23it/s]\n",
      "100%|██████████| 117/117 [00:07<00:00, 16.06it/s]\n",
      "100%|██████████| 117/117 [00:07<00:00, 16.22it/s]\n",
      "100%|██████████| 117/117 [00:07<00:00, 15.90it/s]\n",
      "100%|██████████| 117/117 [00:07<00:00, 16.25it/s]\n",
      "100%|██████████| 117/117 [00:07<00:00, 16.53it/s]\n",
      "100%|██████████| 117/117 [00:07<00:00, 16.11it/s]\n",
      "100%|██████████| 117/117 [00:07<00:00, 15.76it/s]\n",
      "100%|██████████| 117/117 [00:08<00:00, 14.05it/s]\n",
      "100%|██████████| 117/117 [00:10<00:00, 11.29it/s]\n",
      "100%|██████████| 117/117 [00:07<00:00, 16.15it/s]\n",
      "100%|██████████| 117/117 [00:07<00:00, 16.18it/s]\n",
      "100%|██████████| 117/117 [00:07<00:00, 14.88it/s]\n",
      "100%|██████████| 117/117 [00:08<00:00, 14.40it/s]\n",
      "100%|██████████| 117/117 [00:07<00:00, 14.82it/s]\n",
      "100%|██████████| 117/117 [00:07<00:00, 14.72it/s]\n",
      "100%|██████████| 117/117 [00:07<00:00, 16.07it/s]\n",
      "100%|██████████| 117/117 [00:08<00:00, 14.06it/s]\n",
      "100%|██████████| 117/117 [00:08<00:00, 14.00it/s]\n",
      "100%|██████████| 117/117 [00:07<00:00, 16.42it/s]\n",
      "100%|██████████| 117/117 [00:08<00:00, 13.87it/s]\n",
      "100%|██████████| 117/117 [00:07<00:00, 15.46it/s]\n"
     ]
    },
    {
     "data": {
      "text/plain": [
       "<IPython.core.display.HTML object>"
      ],
      "text/html": [
       "\n",
       "    <style>\n",
       "        .wandb-row {\n",
       "            display: flex;\n",
       "            flex-direction: row;\n",
       "            flex-wrap: wrap;\n",
       "            justify-content: flex-start;\n",
       "            width: 100%;\n",
       "        }\n",
       "        .wandb-col {\n",
       "            display: flex;\n",
       "            flex-direction: column;\n",
       "            flex-basis: 100%;\n",
       "            flex: 1;\n",
       "            padding: 10px;\n",
       "        }\n",
       "    </style>\n",
       "<div class=\"wandb-row\"><div class=\"wandb-col\"><h3>Run history:</h3><br/><table class=\"wandb\"><tr><td>accuracy</td><td>▁▃▄▅▅▆▆▆▇▇▇▇▇▇███████████</td></tr><tr><td>epoch</td><td>▁▁▂▂▂▂▃▃▃▄▄▄▅▅▅▅▆▆▆▇▇▇▇██</td></tr></table><br/></div><div class=\"wandb-col\"><h3>Run summary:</h3><br/><table class=\"wandb\"><tr><td>accuracy</td><td>0.97605</td></tr><tr><td>epoch</td><td>24</td></tr></table><br/></div></div>"
      ]
     },
     "metadata": {},
     "output_type": "display_data"
    },
    {
     "data": {
      "text/plain": [
       "<IPython.core.display.HTML object>"
      ],
      "text/html": [
       " View run <strong style=\"color:#cdcd00\">polar-sweep-4</strong> at: <a href='https://wandb.ai/ionut-calin-uaic/assignment-4/runs/1noreimz' target=\"_blank\">https://wandb.ai/ionut-calin-uaic/assignment-4/runs/1noreimz</a><br/> View project at: <a href='https://wandb.ai/ionut-calin-uaic/assignment-4' target=\"_blank\">https://wandb.ai/ionut-calin-uaic/assignment-4</a><br/>Synced 5 W&B file(s), 0 media file(s), 0 artifact file(s) and 0 other file(s)"
      ]
     },
     "metadata": {},
     "output_type": "display_data"
    },
    {
     "data": {
      "text/plain": [
       "<IPython.core.display.HTML object>"
      ],
      "text/html": [
       "Find logs at: <code>.\\wandb\\run-20241201_205705-1noreimz\\logs</code>"
      ]
     },
     "metadata": {},
     "output_type": "display_data"
    },
    {
     "name": "stderr",
     "output_type": "stream",
     "text": [
      "wandb: Agent Starting Run: 0exsnozz with config:\n",
      "wandb: \tbatch_size: 128\n",
      "wandb: \tdropout_rate: 0.29053893256462604\n",
      "wandb: \tepochs: 25\n",
      "wandb: \tlearning_rate: 0.00990385617239464\n",
      "wandb: \tlr_decay_rate: 0.24755624546837163\n",
      "wandb: \toptimizer: adam\n"
     ]
    },
    {
     "data": {
      "text/plain": [
       "<IPython.core.display.HTML object>"
      ],
      "text/html": [
       "Tracking run with wandb version 0.18.7"
      ]
     },
     "metadata": {},
     "output_type": "display_data"
    },
    {
     "data": {
      "text/plain": [
       "<IPython.core.display.HTML object>"
      ],
      "text/html": [
       "Run data is saved locally in <code>C:\\Users\\Ionut\\Documents\\Facultate\\An 3\\RN\\neural-networks\\assignment-4\\wandb\\run-20241201_210234-0exsnozz</code>"
      ]
     },
     "metadata": {},
     "output_type": "display_data"
    },
    {
     "data": {
      "text/plain": [
       "<IPython.core.display.HTML object>"
      ],
      "text/html": [
       "Syncing run <strong><a href='https://wandb.ai/ionut-calin-uaic/assignment-4/runs/0exsnozz' target=\"_blank\">lilac-sweep-5</a></strong> to <a href='https://wandb.ai/ionut-calin-uaic/assignment-4' target=\"_blank\">Weights & Biases</a> (<a href='https://wandb.me/developer-guide' target=\"_blank\">docs</a>)<br/>Sweep page: <a href='https://wandb.ai/ionut-calin-uaic/assignment-4/sweeps/2hr7fem4' target=\"_blank\">https://wandb.ai/ionut-calin-uaic/assignment-4/sweeps/2hr7fem4</a>"
      ]
     },
     "metadata": {},
     "output_type": "display_data"
    },
    {
     "data": {
      "text/plain": [
       "<IPython.core.display.HTML object>"
      ],
      "text/html": [
       " View project at <a href='https://wandb.ai/ionut-calin-uaic/assignment-4' target=\"_blank\">https://wandb.ai/ionut-calin-uaic/assignment-4</a>"
      ]
     },
     "metadata": {},
     "output_type": "display_data"
    },
    {
     "data": {
      "text/plain": [
       "<IPython.core.display.HTML object>"
      ],
      "text/html": [
       " View sweep at <a href='https://wandb.ai/ionut-calin-uaic/assignment-4/sweeps/2hr7fem4' target=\"_blank\">https://wandb.ai/ionut-calin-uaic/assignment-4/sweeps/2hr7fem4</a>"
      ]
     },
     "metadata": {},
     "output_type": "display_data"
    },
    {
     "data": {
      "text/plain": [
       "<IPython.core.display.HTML object>"
      ],
      "text/html": [
       " View run at <a href='https://wandb.ai/ionut-calin-uaic/assignment-4/runs/0exsnozz' target=\"_blank\">https://wandb.ai/ionut-calin-uaic/assignment-4/runs/0exsnozz</a>"
      ]
     },
     "metadata": {},
     "output_type": "display_data"
    },
    {
     "name": "stderr",
     "output_type": "stream",
     "text": [
      "100%|██████████| 468/468 [00:08<00:00, 57.04it/s] \n",
      "100%|██████████| 468/468 [00:07<00:00, 62.00it/s] \n",
      "100%|██████████| 468/468 [00:07<00:00, 60.64it/s] \n",
      "100%|██████████| 468/468 [00:08<00:00, 58.48it/s] \n",
      "100%|██████████| 468/468 [00:07<00:00, 62.22it/s] \n",
      "100%|██████████| 468/468 [00:07<00:00, 65.46it/s] \n",
      "100%|██████████| 468/468 [00:07<00:00, 65.02it/s] \n",
      "100%|██████████| 468/468 [00:07<00:00, 62.28it/s] \n",
      "100%|██████████| 468/468 [00:07<00:00, 61.02it/s] \n",
      "100%|██████████| 468/468 [00:07<00:00, 61.30it/s] \n",
      "100%|██████████| 468/468 [00:07<00:00, 63.62it/s] \n",
      "100%|██████████| 468/468 [00:07<00:00, 63.83it/s] \n",
      "100%|██████████| 468/468 [00:08<00:00, 58.30it/s] \n",
      "100%|██████████| 468/468 [00:08<00:00, 54.28it/s] \n",
      "100%|██████████| 468/468 [00:07<00:00, 61.86it/s] \n",
      "100%|██████████| 468/468 [00:07<00:00, 61.01it/s] \n",
      "100%|██████████| 468/468 [00:08<00:00, 56.18it/s] \n",
      "100%|██████████| 468/468 [00:08<00:00, 55.92it/s] \n",
      "100%|██████████| 468/468 [00:10<00:00, 44.35it/s] \n",
      "100%|██████████| 468/468 [00:07<00:00, 62.55it/s] \n",
      "100%|██████████| 468/468 [00:08<00:00, 58.26it/s] \n",
      "100%|██████████| 468/468 [00:07<00:00, 59.42it/s] \n",
      "100%|██████████| 468/468 [00:09<00:00, 51.34it/s] \n",
      "100%|██████████| 468/468 [00:07<00:00, 64.00it/s] \n",
      "100%|██████████| 468/468 [00:07<00:00, 63.00it/s] \n"
     ]
    },
    {
     "data": {
      "text/plain": [
       "<IPython.core.display.HTML object>"
      ],
      "text/html": [
       "\n",
       "    <style>\n",
       "        .wandb-row {\n",
       "            display: flex;\n",
       "            flex-direction: row;\n",
       "            flex-wrap: wrap;\n",
       "            justify-content: flex-start;\n",
       "            width: 100%;\n",
       "        }\n",
       "        .wandb-col {\n",
       "            display: flex;\n",
       "            flex-direction: column;\n",
       "            flex-basis: 100%;\n",
       "            flex: 1;\n",
       "            padding: 10px;\n",
       "        }\n",
       "    </style>\n",
       "<div class=\"wandb-row\"><div class=\"wandb-col\"><h3>Run history:</h3><br/><table class=\"wandb\"><tr><td>accuracy</td><td>▁▃▃▃▄▅▄▄▆▆▃▇▇▆▇▇▆▆█▇█▇█▄▆</td></tr><tr><td>epoch</td><td>▁▁▂▂▂▂▃▃▃▄▄▄▅▅▅▅▆▆▆▇▇▇▇██</td></tr></table><br/></div><div class=\"wandb-col\"><h3>Run summary:</h3><br/><table class=\"wandb\"><tr><td>accuracy</td><td>0.95493</td></tr><tr><td>epoch</td><td>24</td></tr></table><br/></div></div>"
      ]
     },
     "metadata": {},
     "output_type": "display_data"
    },
    {
     "data": {
      "text/plain": [
       "<IPython.core.display.HTML object>"
      ],
      "text/html": [
       " View run <strong style=\"color:#cdcd00\">lilac-sweep-5</strong> at: <a href='https://wandb.ai/ionut-calin-uaic/assignment-4/runs/0exsnozz' target=\"_blank\">https://wandb.ai/ionut-calin-uaic/assignment-4/runs/0exsnozz</a><br/> View project at: <a href='https://wandb.ai/ionut-calin-uaic/assignment-4' target=\"_blank\">https://wandb.ai/ionut-calin-uaic/assignment-4</a><br/>Synced 5 W&B file(s), 0 media file(s), 0 artifact file(s) and 0 other file(s)"
      ]
     },
     "metadata": {},
     "output_type": "display_data"
    },
    {
     "data": {
      "text/plain": [
       "<IPython.core.display.HTML object>"
      ],
      "text/html": [
       "Find logs at: <code>.\\wandb\\run-20241201_210234-0exsnozz\\logs</code>"
      ]
     },
     "metadata": {},
     "output_type": "display_data"
    },
    {
     "name": "stderr",
     "output_type": "stream",
     "text": [
      "wandb: Agent Starting Run: 61c5gecr with config:\n",
      "wandb: \tbatch_size: 256\n",
      "wandb: \tdropout_rate: 0.15951986332277712\n",
      "wandb: \tepochs: 25\n",
      "wandb: \tlearning_rate: 0.005181853253209774\n",
      "wandb: \tlr_decay_rate: 0.2919905960763259\n",
      "wandb: \toptimizer: adam\n"
     ]
    },
    {
     "data": {
      "text/plain": [
       "<IPython.core.display.HTML object>"
      ],
      "text/html": [
       "Tracking run with wandb version 0.18.7"
      ]
     },
     "metadata": {},
     "output_type": "display_data"
    },
    {
     "data": {
      "text/plain": [
       "<IPython.core.display.HTML object>"
      ],
      "text/html": [
       "Run data is saved locally in <code>C:\\Users\\Ionut\\Documents\\Facultate\\An 3\\RN\\neural-networks\\assignment-4\\wandb\\run-20241201_210801-61c5gecr</code>"
      ]
     },
     "metadata": {},
     "output_type": "display_data"
    },
    {
     "data": {
      "text/plain": [
       "<IPython.core.display.HTML object>"
      ],
      "text/html": [
       "Syncing run <strong><a href='https://wandb.ai/ionut-calin-uaic/assignment-4/runs/61c5gecr' target=\"_blank\">stellar-sweep-6</a></strong> to <a href='https://wandb.ai/ionut-calin-uaic/assignment-4' target=\"_blank\">Weights & Biases</a> (<a href='https://wandb.me/developer-guide' target=\"_blank\">docs</a>)<br/>Sweep page: <a href='https://wandb.ai/ionut-calin-uaic/assignment-4/sweeps/2hr7fem4' target=\"_blank\">https://wandb.ai/ionut-calin-uaic/assignment-4/sweeps/2hr7fem4</a>"
      ]
     },
     "metadata": {},
     "output_type": "display_data"
    },
    {
     "data": {
      "text/plain": [
       "<IPython.core.display.HTML object>"
      ],
      "text/html": [
       " View project at <a href='https://wandb.ai/ionut-calin-uaic/assignment-4' target=\"_blank\">https://wandb.ai/ionut-calin-uaic/assignment-4</a>"
      ]
     },
     "metadata": {},
     "output_type": "display_data"
    },
    {
     "data": {
      "text/plain": [
       "<IPython.core.display.HTML object>"
      ],
      "text/html": [
       " View sweep at <a href='https://wandb.ai/ionut-calin-uaic/assignment-4/sweeps/2hr7fem4' target=\"_blank\">https://wandb.ai/ionut-calin-uaic/assignment-4/sweeps/2hr7fem4</a>"
      ]
     },
     "metadata": {},
     "output_type": "display_data"
    },
    {
     "data": {
      "text/plain": [
       "<IPython.core.display.HTML object>"
      ],
      "text/html": [
       " View run at <a href='https://wandb.ai/ionut-calin-uaic/assignment-4/runs/61c5gecr' target=\"_blank\">https://wandb.ai/ionut-calin-uaic/assignment-4/runs/61c5gecr</a>"
      ]
     },
     "metadata": {},
     "output_type": "display_data"
    },
    {
     "name": "stderr",
     "output_type": "stream",
     "text": [
      "100%|██████████| 234/234 [00:07<00:00, 30.93it/s]\n",
      "100%|██████████| 234/234 [00:07<00:00, 31.01it/s]\n",
      "100%|██████████| 234/234 [00:07<00:00, 31.84it/s]\n",
      "100%|██████████| 234/234 [00:07<00:00, 32.69it/s]\n",
      "100%|██████████| 234/234 [00:07<00:00, 32.30it/s]\n",
      "100%|██████████| 234/234 [00:08<00:00, 28.44it/s]\n",
      "100%|██████████| 234/234 [00:07<00:00, 30.91it/s]\n",
      "100%|██████████| 234/234 [00:08<00:00, 28.47it/s]\n",
      "100%|██████████| 234/234 [00:07<00:00, 29.37it/s]\n",
      "100%|██████████| 234/234 [00:09<00:00, 23.69it/s]\n",
      "100%|██████████| 234/234 [00:07<00:00, 30.35it/s]\n",
      "100%|██████████| 234/234 [00:07<00:00, 32.05it/s]\n",
      "100%|██████████| 234/234 [00:07<00:00, 32.30it/s]\n",
      "100%|██████████| 234/234 [00:08<00:00, 27.03it/s]\n",
      "100%|██████████| 234/234 [00:07<00:00, 31.21it/s]\n",
      "100%|██████████| 234/234 [00:07<00:00, 29.92it/s]\n",
      "100%|██████████| 234/234 [00:07<00:00, 31.38it/s]\n",
      "100%|██████████| 234/234 [00:07<00:00, 31.93it/s]\n",
      "100%|██████████| 234/234 [00:07<00:00, 32.06it/s]\n",
      "100%|██████████| 234/234 [00:07<00:00, 30.08it/s]\n",
      "100%|██████████| 234/234 [00:07<00:00, 31.03it/s]\n",
      "100%|██████████| 234/234 [00:07<00:00, 29.85it/s]\n",
      "100%|██████████| 234/234 [00:08<00:00, 28.21it/s]\n",
      "100%|██████████| 234/234 [00:07<00:00, 30.93it/s]\n",
      "100%|██████████| 234/234 [00:07<00:00, 31.99it/s]\n"
     ]
    },
    {
     "data": {
      "text/plain": [
       "<IPython.core.display.HTML object>"
      ],
      "text/html": [
       "\n",
       "    <style>\n",
       "        .wandb-row {\n",
       "            display: flex;\n",
       "            flex-direction: row;\n",
       "            flex-wrap: wrap;\n",
       "            justify-content: flex-start;\n",
       "            width: 100%;\n",
       "        }\n",
       "        .wandb-col {\n",
       "            display: flex;\n",
       "            flex-direction: column;\n",
       "            flex-basis: 100%;\n",
       "            flex: 1;\n",
       "            padding: 10px;\n",
       "        }\n",
       "    </style>\n",
       "<div class=\"wandb-row\"><div class=\"wandb-col\"><h3>Run history:</h3><br/><table class=\"wandb\"><tr><td>accuracy</td><td>▁▃▄▅▆▆▇▇▆▇▇▇▇▇▇▇█▇██▇████</td></tr><tr><td>epoch</td><td>▁▁▂▂▂▂▃▃▃▄▄▄▅▅▅▅▆▆▆▇▇▇▇██</td></tr></table><br/></div><div class=\"wandb-col\"><h3>Run summary:</h3><br/><table class=\"wandb\"><tr><td>accuracy</td><td>0.97666</td></tr><tr><td>epoch</td><td>24</td></tr></table><br/></div></div>"
      ]
     },
     "metadata": {},
     "output_type": "display_data"
    },
    {
     "data": {
      "text/plain": [
       "<IPython.core.display.HTML object>"
      ],
      "text/html": [
       " View run <strong style=\"color:#cdcd00\">stellar-sweep-6</strong> at: <a href='https://wandb.ai/ionut-calin-uaic/assignment-4/runs/61c5gecr' target=\"_blank\">https://wandb.ai/ionut-calin-uaic/assignment-4/runs/61c5gecr</a><br/> View project at: <a href='https://wandb.ai/ionut-calin-uaic/assignment-4' target=\"_blank\">https://wandb.ai/ionut-calin-uaic/assignment-4</a><br/>Synced 5 W&B file(s), 0 media file(s), 0 artifact file(s) and 0 other file(s)"
      ]
     },
     "metadata": {},
     "output_type": "display_data"
    },
    {
     "data": {
      "text/plain": [
       "<IPython.core.display.HTML object>"
      ],
      "text/html": [
       "Find logs at: <code>.\\wandb\\run-20241201_210801-61c5gecr\\logs</code>"
      ]
     },
     "metadata": {},
     "output_type": "display_data"
    },
    {
     "name": "stderr",
     "output_type": "stream",
     "text": [
      "wandb: Agent Starting Run: hq2gpa2p with config:\n",
      "wandb: \tbatch_size: 256\n",
      "wandb: \tdropout_rate: 0.2967284179859344\n",
      "wandb: \tepochs: 25\n",
      "wandb: \tlearning_rate: 0.006963928595883279\n",
      "wandb: \tlr_decay_rate: 0.3262062289528992\n",
      "wandb: \toptimizer: adam\n"
     ]
    },
    {
     "data": {
      "text/plain": [
       "<IPython.core.display.HTML object>"
      ],
      "text/html": [
       "Tracking run with wandb version 0.18.7"
      ]
     },
     "metadata": {},
     "output_type": "display_data"
    },
    {
     "data": {
      "text/plain": [
       "<IPython.core.display.HTML object>"
      ],
      "text/html": [
       "Run data is saved locally in <code>C:\\Users\\Ionut\\Documents\\Facultate\\An 3\\RN\\neural-networks\\assignment-4\\wandb\\run-20241201_211323-hq2gpa2p</code>"
      ]
     },
     "metadata": {},
     "output_type": "display_data"
    },
    {
     "data": {
      "text/plain": [
       "<IPython.core.display.HTML object>"
      ],
      "text/html": [
       "Syncing run <strong><a href='https://wandb.ai/ionut-calin-uaic/assignment-4/runs/hq2gpa2p' target=\"_blank\">absurd-sweep-7</a></strong> to <a href='https://wandb.ai/ionut-calin-uaic/assignment-4' target=\"_blank\">Weights & Biases</a> (<a href='https://wandb.me/developer-guide' target=\"_blank\">docs</a>)<br/>Sweep page: <a href='https://wandb.ai/ionut-calin-uaic/assignment-4/sweeps/2hr7fem4' target=\"_blank\">https://wandb.ai/ionut-calin-uaic/assignment-4/sweeps/2hr7fem4</a>"
      ]
     },
     "metadata": {},
     "output_type": "display_data"
    },
    {
     "data": {
      "text/plain": [
       "<IPython.core.display.HTML object>"
      ],
      "text/html": [
       " View project at <a href='https://wandb.ai/ionut-calin-uaic/assignment-4' target=\"_blank\">https://wandb.ai/ionut-calin-uaic/assignment-4</a>"
      ]
     },
     "metadata": {},
     "output_type": "display_data"
    },
    {
     "data": {
      "text/plain": [
       "<IPython.core.display.HTML object>"
      ],
      "text/html": [
       " View sweep at <a href='https://wandb.ai/ionut-calin-uaic/assignment-4/sweeps/2hr7fem4' target=\"_blank\">https://wandb.ai/ionut-calin-uaic/assignment-4/sweeps/2hr7fem4</a>"
      ]
     },
     "metadata": {},
     "output_type": "display_data"
    },
    {
     "data": {
      "text/plain": [
       "<IPython.core.display.HTML object>"
      ],
      "text/html": [
       " View run at <a href='https://wandb.ai/ionut-calin-uaic/assignment-4/runs/hq2gpa2p' target=\"_blank\">https://wandb.ai/ionut-calin-uaic/assignment-4/runs/hq2gpa2p</a>"
      ]
     },
     "metadata": {},
     "output_type": "display_data"
    },
    {
     "name": "stderr",
     "output_type": "stream",
     "text": [
      "100%|██████████| 234/234 [00:08<00:00, 28.31it/s]\n",
      "100%|██████████| 234/234 [00:07<00:00, 29.46it/s]\n",
      "100%|██████████| 234/234 [00:07<00:00, 30.68it/s]\n",
      "100%|██████████| 234/234 [00:07<00:00, 31.73it/s]\n",
      "100%|██████████| 234/234 [00:07<00:00, 31.18it/s]\n",
      "100%|██████████| 234/234 [00:07<00:00, 32.85it/s]\n",
      "100%|██████████| 234/234 [00:07<00:00, 32.67it/s]\n",
      "100%|██████████| 234/234 [00:07<00:00, 30.73it/s]\n",
      "100%|██████████| 234/234 [00:08<00:00, 28.64it/s]\n",
      "100%|██████████| 234/234 [00:07<00:00, 32.80it/s]\n",
      "100%|██████████| 234/234 [00:07<00:00, 31.96it/s]\n",
      "100%|██████████| 234/234 [00:07<00:00, 32.07it/s]\n",
      "100%|██████████| 234/234 [00:07<00:00, 32.21it/s]\n",
      "100%|██████████| 234/234 [00:07<00:00, 32.51it/s]\n",
      "100%|██████████| 234/234 [00:07<00:00, 33.04it/s]\n",
      "100%|██████████| 234/234 [00:07<00:00, 31.46it/s]\n",
      "100%|██████████| 234/234 [00:07<00:00, 31.84it/s]\n",
      "100%|██████████| 234/234 [00:07<00:00, 32.94it/s]\n",
      "100%|██████████| 234/234 [00:07<00:00, 32.32it/s]\n",
      "100%|██████████| 234/234 [00:07<00:00, 32.86it/s]\n",
      "100%|██████████| 234/234 [00:07<00:00, 31.76it/s]\n",
      "100%|██████████| 234/234 [00:07<00:00, 31.94it/s]\n",
      "100%|██████████| 234/234 [00:07<00:00, 32.92it/s]\n",
      "100%|██████████| 234/234 [00:07<00:00, 32.79it/s]\n",
      "100%|██████████| 234/234 [00:07<00:00, 32.69it/s]\n"
     ]
    },
    {
     "data": {
      "text/plain": [
       "<IPython.core.display.HTML object>"
      ],
      "text/html": [
       "\n",
       "    <style>\n",
       "        .wandb-row {\n",
       "            display: flex;\n",
       "            flex-direction: row;\n",
       "            flex-wrap: wrap;\n",
       "            justify-content: flex-start;\n",
       "            width: 100%;\n",
       "        }\n",
       "        .wandb-col {\n",
       "            display: flex;\n",
       "            flex-direction: column;\n",
       "            flex-basis: 100%;\n",
       "            flex: 1;\n",
       "            padding: 10px;\n",
       "        }\n",
       "    </style>\n",
       "<div class=\"wandb-row\"><div class=\"wandb-col\"><h3>Run history:</h3><br/><table class=\"wandb\"><tr><td>accuracy</td><td>▁▄▅▆▆▆▅▇▆▇▇▇▇▇██▇▇▇▇██▇██</td></tr><tr><td>epoch</td><td>▁▁▂▂▂▂▃▃▃▄▄▄▅▅▅▅▆▆▆▇▇▇▇██</td></tr></table><br/></div><div class=\"wandb-col\"><h3>Run summary:</h3><br/><table class=\"wandb\"><tr><td>accuracy</td><td>0.96805</td></tr><tr><td>epoch</td><td>24</td></tr></table><br/></div></div>"
      ]
     },
     "metadata": {},
     "output_type": "display_data"
    },
    {
     "data": {
      "text/plain": [
       "<IPython.core.display.HTML object>"
      ],
      "text/html": [
       " View run <strong style=\"color:#cdcd00\">absurd-sweep-7</strong> at: <a href='https://wandb.ai/ionut-calin-uaic/assignment-4/runs/hq2gpa2p' target=\"_blank\">https://wandb.ai/ionut-calin-uaic/assignment-4/runs/hq2gpa2p</a><br/> View project at: <a href='https://wandb.ai/ionut-calin-uaic/assignment-4' target=\"_blank\">https://wandb.ai/ionut-calin-uaic/assignment-4</a><br/>Synced 5 W&B file(s), 0 media file(s), 0 artifact file(s) and 0 other file(s)"
      ]
     },
     "metadata": {},
     "output_type": "display_data"
    },
    {
     "data": {
      "text/plain": [
       "<IPython.core.display.HTML object>"
      ],
      "text/html": [
       "Find logs at: <code>.\\wandb\\run-20241201_211323-hq2gpa2p\\logs</code>"
      ]
     },
     "metadata": {},
     "output_type": "display_data"
    },
    {
     "name": "stderr",
     "output_type": "stream",
     "text": [
      "wandb: Agent Starting Run: zm3fk887 with config:\n",
      "wandb: \tbatch_size: 128\n",
      "wandb: \tdropout_rate: 0.1174396962897066\n",
      "wandb: \tepochs: 25\n",
      "wandb: \tlearning_rate: 0.004740058668254247\n",
      "wandb: \tlr_decay_rate: 0.31995330190351023\n",
      "wandb: \toptimizer: adam\n"
     ]
    },
    {
     "data": {
      "text/plain": [
       "<IPython.core.display.HTML object>"
      ],
      "text/html": [
       "Tracking run with wandb version 0.18.7"
      ]
     },
     "metadata": {},
     "output_type": "display_data"
    },
    {
     "data": {
      "text/plain": [
       "<IPython.core.display.HTML object>"
      ],
      "text/html": [
       "Run data is saved locally in <code>C:\\Users\\Ionut\\Documents\\Facultate\\An 3\\RN\\neural-networks\\assignment-4\\wandb\\run-20241201_211835-zm3fk887</code>"
      ]
     },
     "metadata": {},
     "output_type": "display_data"
    },
    {
     "data": {
      "text/plain": [
       "<IPython.core.display.HTML object>"
      ],
      "text/html": [
       "Syncing run <strong><a href='https://wandb.ai/ionut-calin-uaic/assignment-4/runs/zm3fk887' target=\"_blank\">northern-sweep-8</a></strong> to <a href='https://wandb.ai/ionut-calin-uaic/assignment-4' target=\"_blank\">Weights & Biases</a> (<a href='https://wandb.me/developer-guide' target=\"_blank\">docs</a>)<br/>Sweep page: <a href='https://wandb.ai/ionut-calin-uaic/assignment-4/sweeps/2hr7fem4' target=\"_blank\">https://wandb.ai/ionut-calin-uaic/assignment-4/sweeps/2hr7fem4</a>"
      ]
     },
     "metadata": {},
     "output_type": "display_data"
    },
    {
     "data": {
      "text/plain": [
       "<IPython.core.display.HTML object>"
      ],
      "text/html": [
       " View project at <a href='https://wandb.ai/ionut-calin-uaic/assignment-4' target=\"_blank\">https://wandb.ai/ionut-calin-uaic/assignment-4</a>"
      ]
     },
     "metadata": {},
     "output_type": "display_data"
    },
    {
     "data": {
      "text/plain": [
       "<IPython.core.display.HTML object>"
      ],
      "text/html": [
       " View sweep at <a href='https://wandb.ai/ionut-calin-uaic/assignment-4/sweeps/2hr7fem4' target=\"_blank\">https://wandb.ai/ionut-calin-uaic/assignment-4/sweeps/2hr7fem4</a>"
      ]
     },
     "metadata": {},
     "output_type": "display_data"
    },
    {
     "data": {
      "text/plain": [
       "<IPython.core.display.HTML object>"
      ],
      "text/html": [
       " View run at <a href='https://wandb.ai/ionut-calin-uaic/assignment-4/runs/zm3fk887' target=\"_blank\">https://wandb.ai/ionut-calin-uaic/assignment-4/runs/zm3fk887</a>"
      ]
     },
     "metadata": {},
     "output_type": "display_data"
    },
    {
     "name": "stderr",
     "output_type": "stream",
     "text": [
      "100%|██████████| 468/468 [00:07<00:00, 64.07it/s] \n",
      "100%|██████████| 468/468 [00:07<00:00, 64.98it/s] \n",
      "100%|██████████| 468/468 [00:07<00:00, 62.58it/s] \n",
      "100%|██████████| 468/468 [00:07<00:00, 62.84it/s] \n",
      "100%|██████████| 468/468 [00:07<00:00, 64.33it/s] \n",
      "100%|██████████| 468/468 [00:07<00:00, 64.34it/s] \n",
      "100%|██████████| 468/468 [00:07<00:00, 64.62it/s] \n",
      "100%|██████████| 468/468 [00:07<00:00, 62.42it/s] \n",
      "100%|██████████| 468/468 [00:07<00:00, 61.27it/s] \n",
      "100%|██████████| 468/468 [00:07<00:00, 63.89it/s] \n",
      "100%|██████████| 468/468 [00:07<00:00, 65.24it/s] \n",
      "100%|██████████| 468/468 [00:07<00:00, 65.26it/s] \n",
      "100%|██████████| 468/468 [00:07<00:00, 60.81it/s] \n",
      "100%|██████████| 468/468 [00:07<00:00, 62.46it/s] \n",
      "100%|██████████| 468/468 [00:07<00:00, 63.99it/s] \n",
      "100%|██████████| 468/468 [00:07<00:00, 64.86it/s] \n",
      "100%|██████████| 468/468 [00:07<00:00, 63.99it/s] \n",
      "100%|██████████| 468/468 [00:07<00:00, 62.88it/s] \n",
      "100%|██████████| 468/468 [00:07<00:00, 62.80it/s] \n",
      "100%|██████████| 468/468 [00:07<00:00, 63.83it/s] \n",
      "100%|██████████| 468/468 [00:07<00:00, 64.67it/s] \n",
      "100%|██████████| 468/468 [00:07<00:00, 64.61it/s] \n",
      "100%|██████████| 468/468 [00:07<00:00, 63.54it/s] \n",
      "100%|██████████| 468/468 [00:07<00:00, 62.98it/s] \n",
      "100%|██████████| 468/468 [00:07<00:00, 63.48it/s] \n"
     ]
    },
    {
     "data": {
      "text/plain": [
       "<IPython.core.display.HTML object>"
      ],
      "text/html": [
       "\n",
       "    <style>\n",
       "        .wandb-row {\n",
       "            display: flex;\n",
       "            flex-direction: row;\n",
       "            flex-wrap: wrap;\n",
       "            justify-content: flex-start;\n",
       "            width: 100%;\n",
       "        }\n",
       "        .wandb-col {\n",
       "            display: flex;\n",
       "            flex-direction: column;\n",
       "            flex-basis: 100%;\n",
       "            flex: 1;\n",
       "            padding: 10px;\n",
       "        }\n",
       "    </style>\n",
       "<div class=\"wandb-row\"><div class=\"wandb-col\"><h3>Run history:</h3><br/><table class=\"wandb\"><tr><td>accuracy</td><td>▁▂▅▄▆▄▆▆▆▆▇▇▇▇▇▇▇▇▆▇▆█▇██</td></tr><tr><td>epoch</td><td>▁▁▂▂▂▂▃▃▃▄▄▄▅▅▅▅▆▆▆▇▇▇▇██</td></tr></table><br/></div><div class=\"wandb-col\"><h3>Run summary:</h3><br/><table class=\"wandb\"><tr><td>accuracy</td><td>0.97546</td></tr><tr><td>epoch</td><td>24</td></tr></table><br/></div></div>"
      ]
     },
     "metadata": {},
     "output_type": "display_data"
    },
    {
     "data": {
      "text/plain": [
       "<IPython.core.display.HTML object>"
      ],
      "text/html": [
       " View run <strong style=\"color:#cdcd00\">northern-sweep-8</strong> at: <a href='https://wandb.ai/ionut-calin-uaic/assignment-4/runs/zm3fk887' target=\"_blank\">https://wandb.ai/ionut-calin-uaic/assignment-4/runs/zm3fk887</a><br/> View project at: <a href='https://wandb.ai/ionut-calin-uaic/assignment-4' target=\"_blank\">https://wandb.ai/ionut-calin-uaic/assignment-4</a><br/>Synced 5 W&B file(s), 0 media file(s), 0 artifact file(s) and 0 other file(s)"
      ]
     },
     "metadata": {},
     "output_type": "display_data"
    },
    {
     "data": {
      "text/plain": [
       "<IPython.core.display.HTML object>"
      ],
      "text/html": [
       "Find logs at: <code>.\\wandb\\run-20241201_211835-zm3fk887\\logs</code>"
      ]
     },
     "metadata": {},
     "output_type": "display_data"
    },
    {
     "name": "stderr",
     "output_type": "stream",
     "text": [
      "wandb: Agent Starting Run: 6ub9ffka with config:\n",
      "wandb: \tbatch_size: 512\n",
      "wandb: \tdropout_rate: 0.18500295300021127\n",
      "wandb: \tepochs: 25\n",
      "wandb: \tlearning_rate: 0.0010088734849924036\n",
      "wandb: \tlr_decay_rate: 0.25386055320864315\n",
      "wandb: \toptimizer: adam\n"
     ]
    },
    {
     "data": {
      "text/plain": [
       "<IPython.core.display.HTML object>"
      ],
      "text/html": [
       "Tracking run with wandb version 0.18.7"
      ]
     },
     "metadata": {},
     "output_type": "display_data"
    },
    {
     "data": {
      "text/plain": [
       "<IPython.core.display.HTML object>"
      ],
      "text/html": [
       "Run data is saved locally in <code>C:\\Users\\Ionut\\Documents\\Facultate\\An 3\\RN\\neural-networks\\assignment-4\\wandb\\run-20241201_212342-6ub9ffka</code>"
      ]
     },
     "metadata": {},
     "output_type": "display_data"
    },
    {
     "data": {
      "text/plain": [
       "<IPython.core.display.HTML object>"
      ],
      "text/html": [
       "Syncing run <strong><a href='https://wandb.ai/ionut-calin-uaic/assignment-4/runs/6ub9ffka' target=\"_blank\">light-sweep-9</a></strong> to <a href='https://wandb.ai/ionut-calin-uaic/assignment-4' target=\"_blank\">Weights & Biases</a> (<a href='https://wandb.me/developer-guide' target=\"_blank\">docs</a>)<br/>Sweep page: <a href='https://wandb.ai/ionut-calin-uaic/assignment-4/sweeps/2hr7fem4' target=\"_blank\">https://wandb.ai/ionut-calin-uaic/assignment-4/sweeps/2hr7fem4</a>"
      ]
     },
     "metadata": {},
     "output_type": "display_data"
    },
    {
     "data": {
      "text/plain": [
       "<IPython.core.display.HTML object>"
      ],
      "text/html": [
       " View project at <a href='https://wandb.ai/ionut-calin-uaic/assignment-4' target=\"_blank\">https://wandb.ai/ionut-calin-uaic/assignment-4</a>"
      ]
     },
     "metadata": {},
     "output_type": "display_data"
    },
    {
     "data": {
      "text/plain": [
       "<IPython.core.display.HTML object>"
      ],
      "text/html": [
       " View sweep at <a href='https://wandb.ai/ionut-calin-uaic/assignment-4/sweeps/2hr7fem4' target=\"_blank\">https://wandb.ai/ionut-calin-uaic/assignment-4/sweeps/2hr7fem4</a>"
      ]
     },
     "metadata": {},
     "output_type": "display_data"
    },
    {
     "data": {
      "text/plain": [
       "<IPython.core.display.HTML object>"
      ],
      "text/html": [
       " View run at <a href='https://wandb.ai/ionut-calin-uaic/assignment-4/runs/6ub9ffka' target=\"_blank\">https://wandb.ai/ionut-calin-uaic/assignment-4/runs/6ub9ffka</a>"
      ]
     },
     "metadata": {},
     "output_type": "display_data"
    },
    {
     "name": "stderr",
     "output_type": "stream",
     "text": [
      "100%|██████████| 117/117 [00:07<00:00, 15.08it/s]\n",
      "100%|██████████| 117/117 [00:07<00:00, 16.50it/s]\n",
      "100%|██████████| 117/117 [00:07<00:00, 16.38it/s]\n",
      "100%|██████████| 117/117 [00:07<00:00, 16.28it/s]\n",
      "100%|██████████| 117/117 [00:07<00:00, 15.57it/s]\n",
      "100%|██████████| 117/117 [00:07<00:00, 15.99it/s]\n",
      "100%|██████████| 117/117 [00:07<00:00, 16.59it/s]\n",
      "100%|██████████| 117/117 [00:07<00:00, 16.61it/s]\n",
      "100%|██████████| 117/117 [00:07<00:00, 16.68it/s]\n",
      "100%|██████████| 117/117 [00:08<00:00, 14.52it/s]\n",
      "100%|██████████| 117/117 [00:08<00:00, 14.00it/s]\n",
      "100%|██████████| 117/117 [00:08<00:00, 14.17it/s]\n",
      "100%|██████████| 117/117 [00:08<00:00, 14.55it/s]\n",
      "100%|██████████| 117/117 [00:07<00:00, 16.50it/s]\n",
      "100%|██████████| 117/117 [00:07<00:00, 16.50it/s]\n",
      "100%|██████████| 117/117 [00:07<00:00, 16.49it/s]\n",
      "100%|██████████| 117/117 [00:07<00:00, 16.02it/s]\n",
      "100%|██████████| 117/117 [00:07<00:00, 15.99it/s]\n",
      "100%|██████████| 117/117 [00:07<00:00, 16.53it/s]\n",
      "100%|██████████| 117/117 [00:07<00:00, 16.58it/s]\n",
      "100%|██████████| 117/117 [00:07<00:00, 16.45it/s]\n",
      "100%|██████████| 117/117 [00:07<00:00, 15.88it/s]\n",
      "100%|██████████| 117/117 [00:07<00:00, 15.88it/s]\n",
      "100%|██████████| 117/117 [00:07<00:00, 16.65it/s]\n",
      "100%|██████████| 117/117 [00:07<00:00, 16.51it/s]\n"
     ]
    },
    {
     "data": {
      "text/plain": [
       "<IPython.core.display.HTML object>"
      ],
      "text/html": [
       "\n",
       "    <style>\n",
       "        .wandb-row {\n",
       "            display: flex;\n",
       "            flex-direction: row;\n",
       "            flex-wrap: wrap;\n",
       "            justify-content: flex-start;\n",
       "            width: 100%;\n",
       "        }\n",
       "        .wandb-col {\n",
       "            display: flex;\n",
       "            flex-direction: column;\n",
       "            flex-basis: 100%;\n",
       "            flex: 1;\n",
       "            padding: 10px;\n",
       "        }\n",
       "    </style>\n",
       "<div class=\"wandb-row\"><div class=\"wandb-col\"><h3>Run history:</h3><br/><table class=\"wandb\"><tr><td>accuracy</td><td>▁▃▄▅▆▆▆▇▇▇▇▇▇▇▇█▇████████</td></tr><tr><td>epoch</td><td>▁▁▂▂▂▂▃▃▃▄▄▄▅▅▅▅▆▆▆▇▇▇▇██</td></tr></table><br/></div><div class=\"wandb-col\"><h3>Run summary:</h3><br/><table class=\"wandb\"><tr><td>accuracy</td><td>0.97667</td></tr><tr><td>epoch</td><td>24</td></tr></table><br/></div></div>"
      ]
     },
     "metadata": {},
     "output_type": "display_data"
    },
    {
     "data": {
      "text/plain": [
       "<IPython.core.display.HTML object>"
      ],
      "text/html": [
       " View run <strong style=\"color:#cdcd00\">light-sweep-9</strong> at: <a href='https://wandb.ai/ionut-calin-uaic/assignment-4/runs/6ub9ffka' target=\"_blank\">https://wandb.ai/ionut-calin-uaic/assignment-4/runs/6ub9ffka</a><br/> View project at: <a href='https://wandb.ai/ionut-calin-uaic/assignment-4' target=\"_blank\">https://wandb.ai/ionut-calin-uaic/assignment-4</a><br/>Synced 5 W&B file(s), 0 media file(s), 0 artifact file(s) and 0 other file(s)"
      ]
     },
     "metadata": {},
     "output_type": "display_data"
    },
    {
     "data": {
      "text/plain": [
       "<IPython.core.display.HTML object>"
      ],
      "text/html": [
       "Find logs at: <code>.\\wandb\\run-20241201_212342-6ub9ffka\\logs</code>"
      ]
     },
     "metadata": {},
     "output_type": "display_data"
    },
    {
     "name": "stderr",
     "output_type": "stream",
     "text": [
      "wandb: Agent Starting Run: tp8e3pyj with config:\n",
      "wandb: \tbatch_size: 256\n",
      "wandb: \tdropout_rate: 0.2769689117254951\n",
      "wandb: \tepochs: 25\n",
      "wandb: \tlearning_rate: 0.0012128194189228495\n",
      "wandb: \tlr_decay_rate: 0.11696397894230218\n",
      "wandb: \toptimizer: adam\n"
     ]
    },
    {
     "data": {
      "text/plain": [
       "<IPython.core.display.HTML object>"
      ],
      "text/html": [
       "Tracking run with wandb version 0.18.7"
      ]
     },
     "metadata": {},
     "output_type": "display_data"
    },
    {
     "data": {
      "text/plain": [
       "<IPython.core.display.HTML object>"
      ],
      "text/html": [
       "Run data is saved locally in <code>C:\\Users\\Ionut\\Documents\\Facultate\\An 3\\RN\\neural-networks\\assignment-4\\wandb\\run-20241201_212853-tp8e3pyj</code>"
      ]
     },
     "metadata": {},
     "output_type": "display_data"
    },
    {
     "data": {
      "text/plain": [
       "<IPython.core.display.HTML object>"
      ],
      "text/html": [
       "Syncing run <strong><a href='https://wandb.ai/ionut-calin-uaic/assignment-4/runs/tp8e3pyj' target=\"_blank\">misunderstood-sweep-10</a></strong> to <a href='https://wandb.ai/ionut-calin-uaic/assignment-4' target=\"_blank\">Weights & Biases</a> (<a href='https://wandb.me/developer-guide' target=\"_blank\">docs</a>)<br/>Sweep page: <a href='https://wandb.ai/ionut-calin-uaic/assignment-4/sweeps/2hr7fem4' target=\"_blank\">https://wandb.ai/ionut-calin-uaic/assignment-4/sweeps/2hr7fem4</a>"
      ]
     },
     "metadata": {},
     "output_type": "display_data"
    },
    {
     "data": {
      "text/plain": [
       "<IPython.core.display.HTML object>"
      ],
      "text/html": [
       " View project at <a href='https://wandb.ai/ionut-calin-uaic/assignment-4' target=\"_blank\">https://wandb.ai/ionut-calin-uaic/assignment-4</a>"
      ]
     },
     "metadata": {},
     "output_type": "display_data"
    },
    {
     "data": {
      "text/plain": [
       "<IPython.core.display.HTML object>"
      ],
      "text/html": [
       " View sweep at <a href='https://wandb.ai/ionut-calin-uaic/assignment-4/sweeps/2hr7fem4' target=\"_blank\">https://wandb.ai/ionut-calin-uaic/assignment-4/sweeps/2hr7fem4</a>"
      ]
     },
     "metadata": {},
     "output_type": "display_data"
    },
    {
     "data": {
      "text/plain": [
       "<IPython.core.display.HTML object>"
      ],
      "text/html": [
       " View run at <a href='https://wandb.ai/ionut-calin-uaic/assignment-4/runs/tp8e3pyj' target=\"_blank\">https://wandb.ai/ionut-calin-uaic/assignment-4/runs/tp8e3pyj</a>"
      ]
     },
     "metadata": {},
     "output_type": "display_data"
    },
    {
     "name": "stderr",
     "output_type": "stream",
     "text": [
      "100%|██████████| 234/234 [00:07<00:00, 33.12it/s]\n",
      "100%|██████████| 234/234 [00:07<00:00, 31.55it/s]\n",
      "100%|██████████| 234/234 [00:08<00:00, 29.22it/s]\n",
      "100%|██████████| 234/234 [00:07<00:00, 30.96it/s]\n",
      "100%|██████████| 234/234 [00:07<00:00, 32.27it/s]\n",
      "100%|██████████| 234/234 [00:07<00:00, 32.99it/s]\n",
      "100%|██████████| 234/234 [00:07<00:00, 32.55it/s]\n",
      "100%|██████████| 234/234 [00:07<00:00, 29.92it/s]\n",
      "100%|██████████| 234/234 [00:07<00:00, 31.32it/s]\n",
      "100%|██████████| 234/234 [00:08<00:00, 27.68it/s]\n",
      "100%|██████████| 234/234 [00:07<00:00, 31.93it/s]\n",
      "100%|██████████| 234/234 [00:07<00:00, 32.56it/s]\n",
      "100%|██████████| 234/234 [00:07<00:00, 33.02it/s]\n",
      "100%|██████████| 234/234 [00:07<00:00, 33.05it/s]\n",
      "100%|██████████| 234/234 [00:07<00:00, 32.17it/s]\n",
      "100%|██████████| 234/234 [00:07<00:00, 31.95it/s]\n",
      "100%|██████████| 234/234 [00:07<00:00, 32.79it/s]\n",
      "100%|██████████| 234/234 [00:07<00:00, 33.06it/s]\n",
      "100%|██████████| 234/234 [00:07<00:00, 32.81it/s]\n",
      "100%|██████████| 234/234 [00:07<00:00, 32.14it/s]\n",
      "100%|██████████| 234/234 [00:07<00:00, 32.22it/s]\n",
      "100%|██████████| 234/234 [00:07<00:00, 33.00it/s]\n",
      "100%|██████████| 234/234 [00:07<00:00, 32.76it/s]\n",
      "100%|██████████| 234/234 [00:07<00:00, 32.68it/s]\n",
      "100%|██████████| 234/234 [00:07<00:00, 32.24it/s]\n"
     ]
    },
    {
     "data": {
      "text/plain": [
       "<IPython.core.display.HTML object>"
      ],
      "text/html": [
       "\n",
       "    <style>\n",
       "        .wandb-row {\n",
       "            display: flex;\n",
       "            flex-direction: row;\n",
       "            flex-wrap: wrap;\n",
       "            justify-content: flex-start;\n",
       "            width: 100%;\n",
       "        }\n",
       "        .wandb-col {\n",
       "            display: flex;\n",
       "            flex-direction: column;\n",
       "            flex-basis: 100%;\n",
       "            flex: 1;\n",
       "            padding: 10px;\n",
       "        }\n",
       "    </style>\n",
       "<div class=\"wandb-row\"><div class=\"wandb-col\"><h3>Run history:</h3><br/><table class=\"wandb\"><tr><td>accuracy</td><td>▁▃▃▅▅▆▆▇▇▇▇▇▇▇▇██▇███████</td></tr><tr><td>epoch</td><td>▁▁▂▂▂▂▃▃▃▄▄▄▅▅▅▅▆▆▆▇▇▇▇██</td></tr></table><br/></div><div class=\"wandb-col\"><h3>Run summary:</h3><br/><table class=\"wandb\"><tr><td>accuracy</td><td>0.97927</td></tr><tr><td>epoch</td><td>24</td></tr></table><br/></div></div>"
      ]
     },
     "metadata": {},
     "output_type": "display_data"
    },
    {
     "data": {
      "text/plain": [
       "<IPython.core.display.HTML object>"
      ],
      "text/html": [
       " View run <strong style=\"color:#cdcd00\">misunderstood-sweep-10</strong> at: <a href='https://wandb.ai/ionut-calin-uaic/assignment-4/runs/tp8e3pyj' target=\"_blank\">https://wandb.ai/ionut-calin-uaic/assignment-4/runs/tp8e3pyj</a><br/> View project at: <a href='https://wandb.ai/ionut-calin-uaic/assignment-4' target=\"_blank\">https://wandb.ai/ionut-calin-uaic/assignment-4</a><br/>Synced 5 W&B file(s), 0 media file(s), 0 artifact file(s) and 0 other file(s)"
      ]
     },
     "metadata": {},
     "output_type": "display_data"
    },
    {
     "data": {
      "text/plain": [
       "<IPython.core.display.HTML object>"
      ],
      "text/html": [
       "Find logs at: <code>.\\wandb\\run-20241201_212853-tp8e3pyj\\logs</code>"
      ]
     },
     "metadata": {},
     "output_type": "display_data"
    },
    {
     "name": "stderr",
     "output_type": "stream",
     "text": [
      "wandb: Agent Starting Run: sxe1gi3q with config:\n",
      "wandb: \tbatch_size: 128\n",
      "wandb: \tdropout_rate: 0.2628364461656917\n",
      "wandb: \tepochs: 25\n",
      "wandb: \tlearning_rate: 0.005956459768151263\n",
      "wandb: \tlr_decay_rate: 0.47505675083119847\n",
      "wandb: \toptimizer: adam\n"
     ]
    },
    {
     "data": {
      "text/plain": [
       "<IPython.core.display.HTML object>"
      ],
      "text/html": [
       "Tracking run with wandb version 0.18.7"
      ]
     },
     "metadata": {},
     "output_type": "display_data"
    },
    {
     "data": {
      "text/plain": [
       "<IPython.core.display.HTML object>"
      ],
      "text/html": [
       "Run data is saved locally in <code>C:\\Users\\Ionut\\Documents\\Facultate\\An 3\\RN\\neural-networks\\assignment-4\\wandb\\run-20241201_213405-sxe1gi3q</code>"
      ]
     },
     "metadata": {},
     "output_type": "display_data"
    },
    {
     "data": {
      "text/plain": [
       "<IPython.core.display.HTML object>"
      ],
      "text/html": [
       "Syncing run <strong><a href='https://wandb.ai/ionut-calin-uaic/assignment-4/runs/sxe1gi3q' target=\"_blank\">cosmic-sweep-11</a></strong> to <a href='https://wandb.ai/ionut-calin-uaic/assignment-4' target=\"_blank\">Weights & Biases</a> (<a href='https://wandb.me/developer-guide' target=\"_blank\">docs</a>)<br/>Sweep page: <a href='https://wandb.ai/ionut-calin-uaic/assignment-4/sweeps/2hr7fem4' target=\"_blank\">https://wandb.ai/ionut-calin-uaic/assignment-4/sweeps/2hr7fem4</a>"
      ]
     },
     "metadata": {},
     "output_type": "display_data"
    },
    {
     "data": {
      "text/plain": [
       "<IPython.core.display.HTML object>"
      ],
      "text/html": [
       " View project at <a href='https://wandb.ai/ionut-calin-uaic/assignment-4' target=\"_blank\">https://wandb.ai/ionut-calin-uaic/assignment-4</a>"
      ]
     },
     "metadata": {},
     "output_type": "display_data"
    },
    {
     "data": {
      "text/plain": [
       "<IPython.core.display.HTML object>"
      ],
      "text/html": [
       " View sweep at <a href='https://wandb.ai/ionut-calin-uaic/assignment-4/sweeps/2hr7fem4' target=\"_blank\">https://wandb.ai/ionut-calin-uaic/assignment-4/sweeps/2hr7fem4</a>"
      ]
     },
     "metadata": {},
     "output_type": "display_data"
    },
    {
     "data": {
      "text/plain": [
       "<IPython.core.display.HTML object>"
      ],
      "text/html": [
       " View run at <a href='https://wandb.ai/ionut-calin-uaic/assignment-4/runs/sxe1gi3q' target=\"_blank\">https://wandb.ai/ionut-calin-uaic/assignment-4/runs/sxe1gi3q</a>"
      ]
     },
     "metadata": {},
     "output_type": "display_data"
    },
    {
     "name": "stderr",
     "output_type": "stream",
     "text": [
      "100%|██████████| 468/468 [00:07<00:00, 65.17it/s] \n",
      "100%|██████████| 468/468 [00:07<00:00, 60.83it/s] \n",
      "100%|██████████| 468/468 [00:08<00:00, 52.02it/s] \n",
      "100%|██████████| 468/468 [00:07<00:00, 62.13it/s] \n",
      "100%|██████████| 468/468 [00:08<00:00, 55.28it/s] \n",
      "100%|██████████| 468/468 [00:08<00:00, 53.25it/s] \n",
      "100%|██████████| 468/468 [00:08<00:00, 57.54it/s] \n",
      "100%|██████████| 468/468 [00:07<00:00, 61.31it/s] \n",
      "100%|██████████| 468/468 [00:07<00:00, 65.00it/s] \n",
      "100%|██████████| 468/468 [00:07<00:00, 59.77it/s] \n",
      "100%|██████████| 468/468 [00:08<00:00, 57.76it/s] \n",
      "100%|██████████| 468/468 [00:07<00:00, 62.77it/s] \n",
      "100%|██████████| 468/468 [00:07<00:00, 65.30it/s] \n",
      "100%|██████████| 468/468 [00:07<00:00, 60.29it/s] \n",
      "100%|██████████| 468/468 [00:07<00:00, 64.34it/s] \n",
      "100%|██████████| 468/468 [00:07<00:00, 60.80it/s] \n",
      "100%|██████████| 468/468 [00:07<00:00, 59.17it/s] \n",
      "100%|██████████| 468/468 [00:07<00:00, 63.37it/s] \n",
      "100%|██████████| 468/468 [00:07<00:00, 64.39it/s] \n",
      "100%|██████████| 468/468 [00:07<00:00, 65.42it/s] \n",
      "100%|██████████| 468/468 [00:07<00:00, 63.81it/s] \n",
      "100%|██████████| 468/468 [00:07<00:00, 61.27it/s] \n",
      "100%|██████████| 468/468 [00:07<00:00, 61.03it/s] \n",
      "100%|██████████| 468/468 [00:07<00:00, 63.32it/s] \n",
      "100%|██████████| 468/468 [00:07<00:00, 65.12it/s] \n"
     ]
    },
    {
     "data": {
      "text/plain": [
       "<IPython.core.display.HTML object>"
      ],
      "text/html": [
       "\n",
       "    <style>\n",
       "        .wandb-row {\n",
       "            display: flex;\n",
       "            flex-direction: row;\n",
       "            flex-wrap: wrap;\n",
       "            justify-content: flex-start;\n",
       "            width: 100%;\n",
       "        }\n",
       "        .wandb-col {\n",
       "            display: flex;\n",
       "            flex-direction: column;\n",
       "            flex-basis: 100%;\n",
       "            flex: 1;\n",
       "            padding: 10px;\n",
       "        }\n",
       "    </style>\n",
       "<div class=\"wandb-row\"><div class=\"wandb-col\"><h3>Run history:</h3><br/><table class=\"wandb\"><tr><td>accuracy</td><td>▁▃▅▅▃▆▆▅▆▇▆▆▇▄▆▇▇▇▇▇▇▇█▇█</td></tr><tr><td>epoch</td><td>▁▁▂▂▂▂▃▃▃▄▄▄▅▅▅▅▆▆▆▇▇▇▇██</td></tr></table><br/></div><div class=\"wandb-col\"><h3>Run summary:</h3><br/><table class=\"wandb\"><tr><td>accuracy</td><td>0.97296</td></tr><tr><td>epoch</td><td>24</td></tr></table><br/></div></div>"
      ]
     },
     "metadata": {},
     "output_type": "display_data"
    },
    {
     "data": {
      "text/plain": [
       "<IPython.core.display.HTML object>"
      ],
      "text/html": [
       " View run <strong style=\"color:#cdcd00\">cosmic-sweep-11</strong> at: <a href='https://wandb.ai/ionut-calin-uaic/assignment-4/runs/sxe1gi3q' target=\"_blank\">https://wandb.ai/ionut-calin-uaic/assignment-4/runs/sxe1gi3q</a><br/> View project at: <a href='https://wandb.ai/ionut-calin-uaic/assignment-4' target=\"_blank\">https://wandb.ai/ionut-calin-uaic/assignment-4</a><br/>Synced 5 W&B file(s), 0 media file(s), 0 artifact file(s) and 0 other file(s)"
      ]
     },
     "metadata": {},
     "output_type": "display_data"
    },
    {
     "data": {
      "text/plain": [
       "<IPython.core.display.HTML object>"
      ],
      "text/html": [
       "Find logs at: <code>.\\wandb\\run-20241201_213405-sxe1gi3q\\logs</code>"
      ]
     },
     "metadata": {},
     "output_type": "display_data"
    },
    {
     "name": "stderr",
     "output_type": "stream",
     "text": [
      "wandb: Agent Starting Run: xi4fahxv with config:\n",
      "wandb: \tbatch_size: 256\n",
      "wandb: \tdropout_rate: 0.2797085719392347\n",
      "wandb: \tepochs: 25\n",
      "wandb: \tlearning_rate: 0.003998107361032671\n",
      "wandb: \tlr_decay_rate: 0.31751457107512193\n",
      "wandb: \toptimizer: adam\n"
     ]
    },
    {
     "data": {
      "text/plain": [
       "<IPython.core.display.HTML object>"
      ],
      "text/html": [
       "Tracking run with wandb version 0.18.7"
      ]
     },
     "metadata": {},
     "output_type": "display_data"
    },
    {
     "data": {
      "text/plain": [
       "<IPython.core.display.HTML object>"
      ],
      "text/html": [
       "Run data is saved locally in <code>C:\\Users\\Ionut\\Documents\\Facultate\\An 3\\RN\\neural-networks\\assignment-4\\wandb\\run-20241201_213927-xi4fahxv</code>"
      ]
     },
     "metadata": {},
     "output_type": "display_data"
    },
    {
     "data": {
      "text/plain": [
       "<IPython.core.display.HTML object>"
      ],
      "text/html": [
       "Syncing run <strong><a href='https://wandb.ai/ionut-calin-uaic/assignment-4/runs/xi4fahxv' target=\"_blank\">graceful-sweep-12</a></strong> to <a href='https://wandb.ai/ionut-calin-uaic/assignment-4' target=\"_blank\">Weights & Biases</a> (<a href='https://wandb.me/developer-guide' target=\"_blank\">docs</a>)<br/>Sweep page: <a href='https://wandb.ai/ionut-calin-uaic/assignment-4/sweeps/2hr7fem4' target=\"_blank\">https://wandb.ai/ionut-calin-uaic/assignment-4/sweeps/2hr7fem4</a>"
      ]
     },
     "metadata": {},
     "output_type": "display_data"
    },
    {
     "data": {
      "text/plain": [
       "<IPython.core.display.HTML object>"
      ],
      "text/html": [
       " View project at <a href='https://wandb.ai/ionut-calin-uaic/assignment-4' target=\"_blank\">https://wandb.ai/ionut-calin-uaic/assignment-4</a>"
      ]
     },
     "metadata": {},
     "output_type": "display_data"
    },
    {
     "data": {
      "text/plain": [
       "<IPython.core.display.HTML object>"
      ],
      "text/html": [
       " View sweep at <a href='https://wandb.ai/ionut-calin-uaic/assignment-4/sweeps/2hr7fem4' target=\"_blank\">https://wandb.ai/ionut-calin-uaic/assignment-4/sweeps/2hr7fem4</a>"
      ]
     },
     "metadata": {},
     "output_type": "display_data"
    },
    {
     "data": {
      "text/plain": [
       "<IPython.core.display.HTML object>"
      ],
      "text/html": [
       " View run at <a href='https://wandb.ai/ionut-calin-uaic/assignment-4/runs/xi4fahxv' target=\"_blank\">https://wandb.ai/ionut-calin-uaic/assignment-4/runs/xi4fahxv</a>"
      ]
     },
     "metadata": {},
     "output_type": "display_data"
    },
    {
     "name": "stderr",
     "output_type": "stream",
     "text": [
      "100%|██████████| 234/234 [00:07<00:00, 31.62it/s]\n",
      "100%|██████████| 234/234 [00:07<00:00, 33.10it/s]\n",
      "100%|██████████| 234/234 [00:07<00:00, 32.97it/s]\n",
      "100%|██████████| 234/234 [00:07<00:00, 31.32it/s]\n",
      "100%|██████████| 234/234 [00:07<00:00, 31.44it/s]\n",
      "100%|██████████| 234/234 [00:07<00:00, 32.21it/s]\n",
      "100%|██████████| 234/234 [00:07<00:00, 32.79it/s]\n",
      "100%|██████████| 234/234 [00:07<00:00, 33.02it/s]\n",
      "100%|██████████| 234/234 [00:07<00:00, 31.43it/s]\n",
      "100%|██████████| 234/234 [00:09<00:00, 23.94it/s]\n",
      "100%|██████████| 234/234 [00:08<00:00, 26.68it/s]\n",
      "100%|██████████| 234/234 [00:08<00:00, 27.61it/s]\n",
      "100%|██████████| 234/234 [00:07<00:00, 29.40it/s]\n",
      "100%|██████████| 234/234 [00:07<00:00, 31.00it/s]\n",
      "100%|██████████| 234/234 [00:07<00:00, 32.43it/s]\n",
      "100%|██████████| 234/234 [00:07<00:00, 31.14it/s]\n",
      "100%|██████████| 234/234 [00:07<00:00, 31.48it/s]\n",
      "100%|██████████| 234/234 [00:07<00:00, 32.14it/s]\n",
      "100%|██████████| 234/234 [00:07<00:00, 31.68it/s]\n",
      "100%|██████████| 234/234 [00:07<00:00, 32.48it/s]\n",
      "100%|██████████| 234/234 [00:07<00:00, 32.96it/s]\n",
      "100%|██████████| 234/234 [00:07<00:00, 32.23it/s]\n",
      "100%|██████████| 234/234 [00:07<00:00, 31.57it/s]\n",
      "100%|██████████| 234/234 [00:07<00:00, 31.79it/s]\n",
      "100%|██████████| 234/234 [00:07<00:00, 32.65it/s]\n"
     ]
    },
    {
     "data": {
      "text/plain": [
       "<IPython.core.display.HTML object>"
      ],
      "text/html": [
       "\n",
       "    <style>\n",
       "        .wandb-row {\n",
       "            display: flex;\n",
       "            flex-direction: row;\n",
       "            flex-wrap: wrap;\n",
       "            justify-content: flex-start;\n",
       "            width: 100%;\n",
       "        }\n",
       "        .wandb-col {\n",
       "            display: flex;\n",
       "            flex-direction: column;\n",
       "            flex-basis: 100%;\n",
       "            flex: 1;\n",
       "            padding: 10px;\n",
       "        }\n",
       "    </style>\n",
       "<div class=\"wandb-row\"><div class=\"wandb-col\"><h3>Run history:</h3><br/><table class=\"wandb\"><tr><td>accuracy</td><td>▁▄▅▅▆▆▇▆▇▇▇█▇▇███▇███████</td></tr><tr><td>epoch</td><td>▁▁▂▂▂▂▃▃▃▄▄▄▅▅▅▅▆▆▆▇▇▇▇██</td></tr></table><br/></div><div class=\"wandb-col\"><h3>Run summary:</h3><br/><table class=\"wandb\"><tr><td>accuracy</td><td>0.97576</td></tr><tr><td>epoch</td><td>24</td></tr></table><br/></div></div>"
      ]
     },
     "metadata": {},
     "output_type": "display_data"
    },
    {
     "data": {
      "text/plain": [
       "<IPython.core.display.HTML object>"
      ],
      "text/html": [
       " View run <strong style=\"color:#cdcd00\">graceful-sweep-12</strong> at: <a href='https://wandb.ai/ionut-calin-uaic/assignment-4/runs/xi4fahxv' target=\"_blank\">https://wandb.ai/ionut-calin-uaic/assignment-4/runs/xi4fahxv</a><br/> View project at: <a href='https://wandb.ai/ionut-calin-uaic/assignment-4' target=\"_blank\">https://wandb.ai/ionut-calin-uaic/assignment-4</a><br/>Synced 5 W&B file(s), 0 media file(s), 0 artifact file(s) and 0 other file(s)"
      ]
     },
     "metadata": {},
     "output_type": "display_data"
    },
    {
     "data": {
      "text/plain": [
       "<IPython.core.display.HTML object>"
      ],
      "text/html": [
       "Find logs at: <code>.\\wandb\\run-20241201_213927-xi4fahxv\\logs</code>"
      ]
     },
     "metadata": {},
     "output_type": "display_data"
    },
    {
     "name": "stderr",
     "output_type": "stream",
     "text": [
      "wandb: Agent Starting Run: poxw9bfl with config:\n",
      "wandb: \tbatch_size: 512\n",
      "wandb: \tdropout_rate: 0.4700034969560011\n",
      "wandb: \tepochs: 25\n",
      "wandb: \tlearning_rate: 0.0009746798115568008\n",
      "wandb: \tlr_decay_rate: 0.35503795614866107\n",
      "wandb: \toptimizer: adam\n"
     ]
    },
    {
     "data": {
      "text/plain": [
       "<IPython.core.display.HTML object>"
      ],
      "text/html": [
       "Tracking run with wandb version 0.18.7"
      ]
     },
     "metadata": {},
     "output_type": "display_data"
    },
    {
     "data": {
      "text/plain": [
       "<IPython.core.display.HTML object>"
      ],
      "text/html": [
       "Run data is saved locally in <code>C:\\Users\\Ionut\\Documents\\Facultate\\An 3\\RN\\neural-networks\\assignment-4\\wandb\\run-20241201_214444-poxw9bfl</code>"
      ]
     },
     "metadata": {},
     "output_type": "display_data"
    },
    {
     "data": {
      "text/plain": [
       "<IPython.core.display.HTML object>"
      ],
      "text/html": [
       "Syncing run <strong><a href='https://wandb.ai/ionut-calin-uaic/assignment-4/runs/poxw9bfl' target=\"_blank\">whole-sweep-13</a></strong> to <a href='https://wandb.ai/ionut-calin-uaic/assignment-4' target=\"_blank\">Weights & Biases</a> (<a href='https://wandb.me/developer-guide' target=\"_blank\">docs</a>)<br/>Sweep page: <a href='https://wandb.ai/ionut-calin-uaic/assignment-4/sweeps/2hr7fem4' target=\"_blank\">https://wandb.ai/ionut-calin-uaic/assignment-4/sweeps/2hr7fem4</a>"
      ]
     },
     "metadata": {},
     "output_type": "display_data"
    },
    {
     "data": {
      "text/plain": [
       "<IPython.core.display.HTML object>"
      ],
      "text/html": [
       " View project at <a href='https://wandb.ai/ionut-calin-uaic/assignment-4' target=\"_blank\">https://wandb.ai/ionut-calin-uaic/assignment-4</a>"
      ]
     },
     "metadata": {},
     "output_type": "display_data"
    },
    {
     "data": {
      "text/plain": [
       "<IPython.core.display.HTML object>"
      ],
      "text/html": [
       " View sweep at <a href='https://wandb.ai/ionut-calin-uaic/assignment-4/sweeps/2hr7fem4' target=\"_blank\">https://wandb.ai/ionut-calin-uaic/assignment-4/sweeps/2hr7fem4</a>"
      ]
     },
     "metadata": {},
     "output_type": "display_data"
    },
    {
     "data": {
      "text/plain": [
       "<IPython.core.display.HTML object>"
      ],
      "text/html": [
       " View run at <a href='https://wandb.ai/ionut-calin-uaic/assignment-4/runs/poxw9bfl' target=\"_blank\">https://wandb.ai/ionut-calin-uaic/assignment-4/runs/poxw9bfl</a>"
      ]
     },
     "metadata": {},
     "output_type": "display_data"
    },
    {
     "name": "stderr",
     "output_type": "stream",
     "text": [
      "100%|██████████| 117/117 [00:07<00:00, 14.69it/s]\n",
      "100%|██████████| 117/117 [00:07<00:00, 15.79it/s]\n",
      "100%|██████████| 117/117 [00:07<00:00, 15.53it/s]\n",
      "100%|██████████| 117/117 [00:07<00:00, 15.41it/s]\n",
      "100%|██████████| 117/117 [00:07<00:00, 15.79it/s]\n",
      "100%|██████████| 117/117 [00:07<00:00, 15.27it/s]\n",
      "100%|██████████| 117/117 [00:08<00:00, 14.59it/s]\n",
      "100%|██████████| 117/117 [00:07<00:00, 16.00it/s]\n",
      "100%|██████████| 117/117 [00:07<00:00, 16.48it/s]\n",
      "100%|██████████| 117/117 [00:07<00:00, 16.22it/s]\n",
      "100%|██████████| 117/117 [00:07<00:00, 15.83it/s]\n",
      "100%|██████████| 117/117 [00:07<00:00, 15.84it/s]\n",
      "100%|██████████| 117/117 [00:07<00:00, 16.30it/s]\n",
      "100%|██████████| 117/117 [00:08<00:00, 14.44it/s]\n",
      "100%|██████████| 117/117 [00:07<00:00, 14.83it/s]\n",
      "100%|██████████| 117/117 [00:07<00:00, 15.44it/s]\n",
      "100%|██████████| 117/117 [00:07<00:00, 15.13it/s]\n",
      "100%|██████████| 117/117 [00:07<00:00, 16.03it/s]\n",
      "100%|██████████| 117/117 [00:07<00:00, 16.11it/s]\n",
      "100%|██████████| 117/117 [00:07<00:00, 16.60it/s]\n",
      "100%|██████████| 117/117 [00:08<00:00, 14.62it/s]\n",
      "100%|██████████| 117/117 [00:07<00:00, 15.47it/s]\n",
      "100%|██████████| 117/117 [00:07<00:00, 15.60it/s]\n",
      "100%|██████████| 117/117 [00:07<00:00, 15.25it/s]\n",
      "100%|██████████| 117/117 [00:07<00:00, 15.30it/s]\n"
     ]
    },
    {
     "data": {
      "text/plain": [
       "<IPython.core.display.HTML object>"
      ],
      "text/html": [
       "\n",
       "    <style>\n",
       "        .wandb-row {\n",
       "            display: flex;\n",
       "            flex-direction: row;\n",
       "            flex-wrap: wrap;\n",
       "            justify-content: flex-start;\n",
       "            width: 100%;\n",
       "        }\n",
       "        .wandb-col {\n",
       "            display: flex;\n",
       "            flex-direction: column;\n",
       "            flex-basis: 100%;\n",
       "            flex: 1;\n",
       "            padding: 10px;\n",
       "        }\n",
       "    </style>\n",
       "<div class=\"wandb-row\"><div class=\"wandb-col\"><h3>Run history:</h3><br/><table class=\"wandb\"><tr><td>accuracy</td><td>▁▄▄▅▅▆▆▆▆▇▇▇▇▇▇▇▇████████</td></tr><tr><td>epoch</td><td>▁▁▂▂▂▂▃▃▃▄▄▄▅▅▅▅▆▆▆▇▇▇▇██</td></tr></table><br/></div><div class=\"wandb-col\"><h3>Run summary:</h3><br/><table class=\"wandb\"><tr><td>accuracy</td><td>0.96001</td></tr><tr><td>epoch</td><td>24</td></tr></table><br/></div></div>"
      ]
     },
     "metadata": {},
     "output_type": "display_data"
    },
    {
     "data": {
      "text/plain": [
       "<IPython.core.display.HTML object>"
      ],
      "text/html": [
       " View run <strong style=\"color:#cdcd00\">whole-sweep-13</strong> at: <a href='https://wandb.ai/ionut-calin-uaic/assignment-4/runs/poxw9bfl' target=\"_blank\">https://wandb.ai/ionut-calin-uaic/assignment-4/runs/poxw9bfl</a><br/> View project at: <a href='https://wandb.ai/ionut-calin-uaic/assignment-4' target=\"_blank\">https://wandb.ai/ionut-calin-uaic/assignment-4</a><br/>Synced 5 W&B file(s), 0 media file(s), 0 artifact file(s) and 0 other file(s)"
      ]
     },
     "metadata": {},
     "output_type": "display_data"
    },
    {
     "data": {
      "text/plain": [
       "<IPython.core.display.HTML object>"
      ],
      "text/html": [
       "Find logs at: <code>.\\wandb\\run-20241201_214444-poxw9bfl\\logs</code>"
      ]
     },
     "metadata": {},
     "output_type": "display_data"
    },
    {
     "name": "stderr",
     "output_type": "stream",
     "text": [
      "wandb: Agent Starting Run: e5zx4vtk with config:\n",
      "wandb: \tbatch_size: 256\n",
      "wandb: \tdropout_rate: 0.3780345249321002\n",
      "wandb: \tepochs: 25\n",
      "wandb: \tlearning_rate: 0.002772764451011369\n",
      "wandb: \tlr_decay_rate: 0.14729248650920296\n",
      "wandb: \toptimizer: adam\n"
     ]
    },
    {
     "data": {
      "text/plain": [
       "<IPython.core.display.HTML object>"
      ],
      "text/html": [
       "Tracking run with wandb version 0.18.7"
      ]
     },
     "metadata": {},
     "output_type": "display_data"
    },
    {
     "data": {
      "text/plain": [
       "<IPython.core.display.HTML object>"
      ],
      "text/html": [
       "Run data is saved locally in <code>C:\\Users\\Ionut\\Documents\\Facultate\\An 3\\RN\\neural-networks\\assignment-4\\wandb\\run-20241201_215001-e5zx4vtk</code>"
      ]
     },
     "metadata": {},
     "output_type": "display_data"
    },
    {
     "data": {
      "text/plain": [
       "<IPython.core.display.HTML object>"
      ],
      "text/html": [
       "Syncing run <strong><a href='https://wandb.ai/ionut-calin-uaic/assignment-4/runs/e5zx4vtk' target=\"_blank\">rose-sweep-14</a></strong> to <a href='https://wandb.ai/ionut-calin-uaic/assignment-4' target=\"_blank\">Weights & Biases</a> (<a href='https://wandb.me/developer-guide' target=\"_blank\">docs</a>)<br/>Sweep page: <a href='https://wandb.ai/ionut-calin-uaic/assignment-4/sweeps/2hr7fem4' target=\"_blank\">https://wandb.ai/ionut-calin-uaic/assignment-4/sweeps/2hr7fem4</a>"
      ]
     },
     "metadata": {},
     "output_type": "display_data"
    },
    {
     "data": {
      "text/plain": [
       "<IPython.core.display.HTML object>"
      ],
      "text/html": [
       " View project at <a href='https://wandb.ai/ionut-calin-uaic/assignment-4' target=\"_blank\">https://wandb.ai/ionut-calin-uaic/assignment-4</a>"
      ]
     },
     "metadata": {},
     "output_type": "display_data"
    },
    {
     "data": {
      "text/plain": [
       "<IPython.core.display.HTML object>"
      ],
      "text/html": [
       " View sweep at <a href='https://wandb.ai/ionut-calin-uaic/assignment-4/sweeps/2hr7fem4' target=\"_blank\">https://wandb.ai/ionut-calin-uaic/assignment-4/sweeps/2hr7fem4</a>"
      ]
     },
     "metadata": {},
     "output_type": "display_data"
    },
    {
     "data": {
      "text/plain": [
       "<IPython.core.display.HTML object>"
      ],
      "text/html": [
       " View run at <a href='https://wandb.ai/ionut-calin-uaic/assignment-4/runs/e5zx4vtk' target=\"_blank\">https://wandb.ai/ionut-calin-uaic/assignment-4/runs/e5zx4vtk</a>"
      ]
     },
     "metadata": {},
     "output_type": "display_data"
    },
    {
     "name": "stderr",
     "output_type": "stream",
     "text": [
      "100%|██████████| 234/234 [00:08<00:00, 26.77it/s]\n",
      "100%|██████████| 234/234 [00:07<00:00, 30.27it/s]\n",
      "100%|██████████| 234/234 [00:09<00:00, 23.79it/s]\n",
      "100%|██████████| 234/234 [00:07<00:00, 31.22it/s]\n",
      "100%|██████████| 234/234 [00:07<00:00, 31.39it/s]\n",
      "100%|██████████| 234/234 [00:07<00:00, 31.93it/s]\n",
      "100%|██████████| 234/234 [00:07<00:00, 32.70it/s]\n",
      "100%|██████████| 234/234 [00:07<00:00, 32.74it/s]\n",
      "100%|██████████| 234/234 [00:07<00:00, 31.31it/s]\n",
      "100%|██████████| 234/234 [00:07<00:00, 31.52it/s]\n",
      "100%|██████████| 234/234 [00:07<00:00, 32.00it/s]\n",
      "100%|██████████| 234/234 [00:08<00:00, 27.84it/s]\n",
      "100%|██████████| 234/234 [00:07<00:00, 29.39it/s]\n",
      "100%|██████████| 234/234 [00:07<00:00, 30.36it/s]\n",
      "100%|██████████| 234/234 [00:07<00:00, 31.89it/s]\n",
      "100%|██████████| 234/234 [00:07<00:00, 31.28it/s]\n",
      "100%|██████████| 234/234 [00:07<00:00, 31.84it/s]\n",
      "100%|██████████| 234/234 [00:07<00:00, 31.92it/s]\n",
      "100%|██████████| 234/234 [00:07<00:00, 31.59it/s]\n",
      "100%|██████████| 234/234 [00:07<00:00, 31.53it/s]\n",
      "100%|██████████| 234/234 [00:07<00:00, 31.85it/s]\n",
      "100%|██████████| 234/234 [00:07<00:00, 31.30it/s]\n",
      "100%|██████████| 234/234 [00:07<00:00, 33.01it/s]\n",
      "100%|██████████| 234/234 [00:07<00:00, 32.43it/s]\n",
      "100%|██████████| 234/234 [00:07<00:00, 31.90it/s]\n"
     ]
    },
    {
     "data": {
      "text/plain": [
       "<IPython.core.display.HTML object>"
      ],
      "text/html": [
       "\n",
       "    <style>\n",
       "        .wandb-row {\n",
       "            display: flex;\n",
       "            flex-direction: row;\n",
       "            flex-wrap: wrap;\n",
       "            justify-content: flex-start;\n",
       "            width: 100%;\n",
       "        }\n",
       "        .wandb-col {\n",
       "            display: flex;\n",
       "            flex-direction: column;\n",
       "            flex-basis: 100%;\n",
       "            flex: 1;\n",
       "            padding: 10px;\n",
       "        }\n",
       "    </style>\n",
       "<div class=\"wandb-row\"><div class=\"wandb-col\"><h3>Run history:</h3><br/><table class=\"wandb\"><tr><td>accuracy</td><td>▁▃▅▅▆▆▆▆▆▇▇▇▇▇▇███████▇██</td></tr><tr><td>epoch</td><td>▁▁▂▂▂▂▃▃▃▄▄▄▅▅▅▅▆▆▆▇▇▇▇██</td></tr></table><br/></div><div class=\"wandb-col\"><h3>Run summary:</h3><br/><table class=\"wandb\"><tr><td>accuracy</td><td>0.97456</td></tr><tr><td>epoch</td><td>24</td></tr></table><br/></div></div>"
      ]
     },
     "metadata": {},
     "output_type": "display_data"
    },
    {
     "data": {
      "text/plain": [
       "<IPython.core.display.HTML object>"
      ],
      "text/html": [
       " View run <strong style=\"color:#cdcd00\">rose-sweep-14</strong> at: <a href='https://wandb.ai/ionut-calin-uaic/assignment-4/runs/e5zx4vtk' target=\"_blank\">https://wandb.ai/ionut-calin-uaic/assignment-4/runs/e5zx4vtk</a><br/> View project at: <a href='https://wandb.ai/ionut-calin-uaic/assignment-4' target=\"_blank\">https://wandb.ai/ionut-calin-uaic/assignment-4</a><br/>Synced 5 W&B file(s), 0 media file(s), 0 artifact file(s) and 0 other file(s)"
      ]
     },
     "metadata": {},
     "output_type": "display_data"
    },
    {
     "data": {
      "text/plain": [
       "<IPython.core.display.HTML object>"
      ],
      "text/html": [
       "Find logs at: <code>.\\wandb\\run-20241201_215001-e5zx4vtk\\logs</code>"
      ]
     },
     "metadata": {},
     "output_type": "display_data"
    },
    {
     "name": "stderr",
     "output_type": "stream",
     "text": [
      "wandb: Agent Starting Run: 3wcbkzo4 with config:\n",
      "wandb: \tbatch_size: 512\n",
      "wandb: \tdropout_rate: 0.12230408450258148\n",
      "wandb: \tepochs: 25\n",
      "wandb: \tlearning_rate: 0.0003023108676587554\n",
      "wandb: \tlr_decay_rate: 0.3621544829430075\n",
      "wandb: \toptimizer: adam\n"
     ]
    },
    {
     "data": {
      "text/plain": [
       "<IPython.core.display.HTML object>"
      ],
      "text/html": [
       "Tracking run with wandb version 0.18.7"
      ]
     },
     "metadata": {},
     "output_type": "display_data"
    },
    {
     "data": {
      "text/plain": [
       "<IPython.core.display.HTML object>"
      ],
      "text/html": [
       "Run data is saved locally in <code>C:\\Users\\Ionut\\Documents\\Facultate\\An 3\\RN\\neural-networks\\assignment-4\\wandb\\run-20241201_215518-3wcbkzo4</code>"
      ]
     },
     "metadata": {},
     "output_type": "display_data"
    },
    {
     "data": {
      "text/plain": [
       "<IPython.core.display.HTML object>"
      ],
      "text/html": [
       "Syncing run <strong><a href='https://wandb.ai/ionut-calin-uaic/assignment-4/runs/3wcbkzo4' target=\"_blank\">golden-sweep-15</a></strong> to <a href='https://wandb.ai/ionut-calin-uaic/assignment-4' target=\"_blank\">Weights & Biases</a> (<a href='https://wandb.me/developer-guide' target=\"_blank\">docs</a>)<br/>Sweep page: <a href='https://wandb.ai/ionut-calin-uaic/assignment-4/sweeps/2hr7fem4' target=\"_blank\">https://wandb.ai/ionut-calin-uaic/assignment-4/sweeps/2hr7fem4</a>"
      ]
     },
     "metadata": {},
     "output_type": "display_data"
    },
    {
     "data": {
      "text/plain": [
       "<IPython.core.display.HTML object>"
      ],
      "text/html": [
       " View project at <a href='https://wandb.ai/ionut-calin-uaic/assignment-4' target=\"_blank\">https://wandb.ai/ionut-calin-uaic/assignment-4</a>"
      ]
     },
     "metadata": {},
     "output_type": "display_data"
    },
    {
     "data": {
      "text/plain": [
       "<IPython.core.display.HTML object>"
      ],
      "text/html": [
       " View sweep at <a href='https://wandb.ai/ionut-calin-uaic/assignment-4/sweeps/2hr7fem4' target=\"_blank\">https://wandb.ai/ionut-calin-uaic/assignment-4/sweeps/2hr7fem4</a>"
      ]
     },
     "metadata": {},
     "output_type": "display_data"
    },
    {
     "data": {
      "text/plain": [
       "<IPython.core.display.HTML object>"
      ],
      "text/html": [
       " View run at <a href='https://wandb.ai/ionut-calin-uaic/assignment-4/runs/3wcbkzo4' target=\"_blank\">https://wandb.ai/ionut-calin-uaic/assignment-4/runs/3wcbkzo4</a>"
      ]
     },
     "metadata": {},
     "output_type": "display_data"
    },
    {
     "name": "stderr",
     "output_type": "stream",
     "text": [
      "100%|██████████| 117/117 [00:06<00:00, 16.76it/s]\n",
      "100%|██████████| 117/117 [00:07<00:00, 16.49it/s]\n",
      "100%|██████████| 117/117 [00:07<00:00, 16.40it/s]\n",
      "100%|██████████| 117/117 [00:07<00:00, 16.34it/s]\n",
      "100%|██████████| 117/117 [00:07<00:00, 16.58it/s]\n",
      "100%|██████████| 117/117 [00:06<00:00, 16.76it/s]\n",
      "100%|██████████| 117/117 [00:06<00:00, 16.73it/s]\n",
      "100%|██████████| 117/117 [00:07<00:00, 16.05it/s]\n",
      "100%|██████████| 117/117 [00:07<00:00, 15.66it/s]\n",
      "100%|██████████| 117/117 [00:08<00:00, 13.87it/s]\n",
      "100%|██████████| 117/117 [00:09<00:00, 12.12it/s]\n",
      "100%|██████████| 117/117 [00:08<00:00, 13.43it/s]\n",
      "100%|██████████| 117/117 [00:07<00:00, 14.63it/s]\n",
      "100%|██████████| 117/117 [00:07<00:00, 16.52it/s]\n",
      "100%|██████████| 117/117 [00:07<00:00, 15.96it/s]\n",
      "100%|██████████| 117/117 [00:07<00:00, 14.89it/s]\n",
      "100%|██████████| 117/117 [00:08<00:00, 13.91it/s]\n",
      "100%|██████████| 117/117 [00:08<00:00, 13.64it/s]\n",
      "100%|██████████| 117/117 [00:07<00:00, 15.05it/s]\n",
      "100%|██████████| 117/117 [00:09<00:00, 12.11it/s]\n",
      "100%|██████████| 117/117 [00:07<00:00, 16.13it/s]\n",
      "100%|██████████| 117/117 [00:08<00:00, 14.43it/s]\n",
      "100%|██████████| 117/117 [00:07<00:00, 16.21it/s]\n",
      "100%|██████████| 117/117 [00:07<00:00, 16.36it/s]\n",
      "100%|██████████| 117/117 [00:08<00:00, 13.90it/s]\n"
     ]
    },
    {
     "data": {
      "text/plain": [
       "<IPython.core.display.HTML object>"
      ],
      "text/html": [
       "\n",
       "    <style>\n",
       "        .wandb-row {\n",
       "            display: flex;\n",
       "            flex-direction: row;\n",
       "            flex-wrap: wrap;\n",
       "            justify-content: flex-start;\n",
       "            width: 100%;\n",
       "        }\n",
       "        .wandb-col {\n",
       "            display: flex;\n",
       "            flex-direction: column;\n",
       "            flex-basis: 100%;\n",
       "            flex: 1;\n",
       "            padding: 10px;\n",
       "        }\n",
       "    </style>\n",
       "<div class=\"wandb-row\"><div class=\"wandb-col\"><h3>Run history:</h3><br/><table class=\"wandb\"><tr><td>accuracy</td><td>▁▃▄▅▅▆▆▆▇▇▇▇▇▇▇▇▇████████</td></tr><tr><td>epoch</td><td>▁▁▂▂▂▂▃▃▃▄▄▄▅▅▅▅▆▆▆▇▇▇▇██</td></tr></table><br/></div><div class=\"wandb-col\"><h3>Run summary:</h3><br/><table class=\"wandb\"><tr><td>accuracy</td><td>0.97101</td></tr><tr><td>epoch</td><td>24</td></tr></table><br/></div></div>"
      ]
     },
     "metadata": {},
     "output_type": "display_data"
    },
    {
     "data": {
      "text/plain": [
       "<IPython.core.display.HTML object>"
      ],
      "text/html": [
       " View run <strong style=\"color:#cdcd00\">golden-sweep-15</strong> at: <a href='https://wandb.ai/ionut-calin-uaic/assignment-4/runs/3wcbkzo4' target=\"_blank\">https://wandb.ai/ionut-calin-uaic/assignment-4/runs/3wcbkzo4</a><br/> View project at: <a href='https://wandb.ai/ionut-calin-uaic/assignment-4' target=\"_blank\">https://wandb.ai/ionut-calin-uaic/assignment-4</a><br/>Synced 5 W&B file(s), 0 media file(s), 0 artifact file(s) and 0 other file(s)"
      ]
     },
     "metadata": {},
     "output_type": "display_data"
    },
    {
     "data": {
      "text/plain": [
       "<IPython.core.display.HTML object>"
      ],
      "text/html": [
       "Find logs at: <code>.\\wandb\\run-20241201_215518-3wcbkzo4\\logs</code>"
      ]
     },
     "metadata": {},
     "output_type": "display_data"
    },
    {
     "name": "stderr",
     "output_type": "stream",
     "text": [
      "wandb: Agent Starting Run: iwtn2r8a with config:\n",
      "wandb: \tbatch_size: 256\n",
      "wandb: \tdropout_rate: 0.3558174879503476\n",
      "wandb: \tepochs: 25\n",
      "wandb: \tlearning_rate: 0.00986741982031464\n",
      "wandb: \tlr_decay_rate: 0.2400421824274807\n",
      "wandb: \toptimizer: adam\n"
     ]
    },
    {
     "data": {
      "text/plain": [
       "<IPython.core.display.HTML object>"
      ],
      "text/html": [
       "Tracking run with wandb version 0.18.7"
      ]
     },
     "metadata": {},
     "output_type": "display_data"
    },
    {
     "data": {
      "text/plain": [
       "<IPython.core.display.HTML object>"
      ],
      "text/html": [
       "Run data is saved locally in <code>C:\\Users\\Ionut\\Documents\\Facultate\\An 3\\RN\\neural-networks\\assignment-4\\wandb\\run-20241201_220045-iwtn2r8a</code>"
      ]
     },
     "metadata": {},
     "output_type": "display_data"
    },
    {
     "data": {
      "text/plain": [
       "<IPython.core.display.HTML object>"
      ],
      "text/html": [
       "Syncing run <strong><a href='https://wandb.ai/ionut-calin-uaic/assignment-4/runs/iwtn2r8a' target=\"_blank\">sleek-sweep-16</a></strong> to <a href='https://wandb.ai/ionut-calin-uaic/assignment-4' target=\"_blank\">Weights & Biases</a> (<a href='https://wandb.me/developer-guide' target=\"_blank\">docs</a>)<br/>Sweep page: <a href='https://wandb.ai/ionut-calin-uaic/assignment-4/sweeps/2hr7fem4' target=\"_blank\">https://wandb.ai/ionut-calin-uaic/assignment-4/sweeps/2hr7fem4</a>"
      ]
     },
     "metadata": {},
     "output_type": "display_data"
    },
    {
     "data": {
      "text/plain": [
       "<IPython.core.display.HTML object>"
      ],
      "text/html": [
       " View project at <a href='https://wandb.ai/ionut-calin-uaic/assignment-4' target=\"_blank\">https://wandb.ai/ionut-calin-uaic/assignment-4</a>"
      ]
     },
     "metadata": {},
     "output_type": "display_data"
    },
    {
     "data": {
      "text/plain": [
       "<IPython.core.display.HTML object>"
      ],
      "text/html": [
       " View sweep at <a href='https://wandb.ai/ionut-calin-uaic/assignment-4/sweeps/2hr7fem4' target=\"_blank\">https://wandb.ai/ionut-calin-uaic/assignment-4/sweeps/2hr7fem4</a>"
      ]
     },
     "metadata": {},
     "output_type": "display_data"
    },
    {
     "data": {
      "text/plain": [
       "<IPython.core.display.HTML object>"
      ],
      "text/html": [
       " View run at <a href='https://wandb.ai/ionut-calin-uaic/assignment-4/runs/iwtn2r8a' target=\"_blank\">https://wandb.ai/ionut-calin-uaic/assignment-4/runs/iwtn2r8a</a>"
      ]
     },
     "metadata": {},
     "output_type": "display_data"
    },
    {
     "name": "stderr",
     "output_type": "stream",
     "text": [
      "100%|██████████| 234/234 [00:07<00:00, 32.70it/s]\n",
      "100%|██████████| 234/234 [00:07<00:00, 29.55it/s]\n",
      "100%|██████████| 234/234 [00:07<00:00, 30.56it/s]\n",
      "100%|██████████| 234/234 [00:07<00:00, 31.13it/s]\n",
      "100%|██████████| 234/234 [00:07<00:00, 31.34it/s]\n",
      "100%|██████████| 234/234 [00:08<00:00, 28.76it/s]\n",
      "100%|██████████| 234/234 [00:07<00:00, 31.74it/s]\n",
      "100%|██████████| 234/234 [00:07<00:00, 30.11it/s]\n",
      "100%|██████████| 234/234 [00:07<00:00, 31.09it/s]\n",
      "100%|██████████| 234/234 [00:07<00:00, 29.28it/s]\n",
      "100%|██████████| 234/234 [00:08<00:00, 28.85it/s]\n",
      "100%|██████████| 234/234 [00:08<00:00, 27.20it/s]\n",
      "100%|██████████| 234/234 [00:07<00:00, 32.85it/s]\n",
      "100%|██████████| 234/234 [00:07<00:00, 32.59it/s]\n",
      "100%|██████████| 234/234 [00:07<00:00, 31.77it/s]\n",
      "100%|██████████| 234/234 [00:07<00:00, 32.76it/s]\n",
      "100%|██████████| 234/234 [00:07<00:00, 32.88it/s]\n",
      "100%|██████████| 234/234 [00:07<00:00, 33.30it/s]\n",
      "100%|██████████| 234/234 [00:07<00:00, 31.27it/s]\n",
      "100%|██████████| 234/234 [00:08<00:00, 26.89it/s]\n",
      "100%|██████████| 234/234 [00:07<00:00, 30.85it/s]\n",
      "100%|██████████| 234/234 [00:07<00:00, 30.45it/s]\n",
      "100%|██████████| 234/234 [00:07<00:00, 31.73it/s]\n",
      "100%|██████████| 234/234 [00:07<00:00, 32.65it/s]\n",
      "100%|██████████| 234/234 [00:07<00:00, 32.90it/s]\n"
     ]
    },
    {
     "data": {
      "text/plain": [
       "<IPython.core.display.HTML object>"
      ],
      "text/html": [
       "\n",
       "    <style>\n",
       "        .wandb-row {\n",
       "            display: flex;\n",
       "            flex-direction: row;\n",
       "            flex-wrap: wrap;\n",
       "            justify-content: flex-start;\n",
       "            width: 100%;\n",
       "        }\n",
       "        .wandb-col {\n",
       "            display: flex;\n",
       "            flex-direction: column;\n",
       "            flex-basis: 100%;\n",
       "            flex: 1;\n",
       "            padding: 10px;\n",
       "        }\n",
       "    </style>\n",
       "<div class=\"wandb-row\"><div class=\"wandb-col\"><h3>Run history:</h3><br/><table class=\"wandb\"><tr><td>accuracy</td><td>▁▃▄▅▆▆▇▆▆▇▆▇▇██▇▇▇█▇▇▇▇▇▇</td></tr><tr><td>epoch</td><td>▁▁▂▂▂▂▃▃▃▄▄▄▅▅▅▅▆▆▆▇▇▇▇██</td></tr></table><br/></div><div class=\"wandb-col\"><h3>Run summary:</h3><br/><table class=\"wandb\"><tr><td>accuracy</td><td>0.95893</td></tr><tr><td>epoch</td><td>24</td></tr></table><br/></div></div>"
      ]
     },
     "metadata": {},
     "output_type": "display_data"
    },
    {
     "data": {
      "text/plain": [
       "<IPython.core.display.HTML object>"
      ],
      "text/html": [
       " View run <strong style=\"color:#cdcd00\">sleek-sweep-16</strong> at: <a href='https://wandb.ai/ionut-calin-uaic/assignment-4/runs/iwtn2r8a' target=\"_blank\">https://wandb.ai/ionut-calin-uaic/assignment-4/runs/iwtn2r8a</a><br/> View project at: <a href='https://wandb.ai/ionut-calin-uaic/assignment-4' target=\"_blank\">https://wandb.ai/ionut-calin-uaic/assignment-4</a><br/>Synced 5 W&B file(s), 0 media file(s), 0 artifact file(s) and 0 other file(s)"
      ]
     },
     "metadata": {},
     "output_type": "display_data"
    },
    {
     "data": {
      "text/plain": [
       "<IPython.core.display.HTML object>"
      ],
      "text/html": [
       "Find logs at: <code>.\\wandb\\run-20241201_220045-iwtn2r8a\\logs</code>"
      ]
     },
     "metadata": {},
     "output_type": "display_data"
    },
    {
     "name": "stderr",
     "output_type": "stream",
     "text": [
      "wandb: Agent Starting Run: ov0sxa0a with config:\n",
      "wandb: \tbatch_size: 256\n",
      "wandb: \tdropout_rate: 0.3705124567483572\n",
      "wandb: \tepochs: 25\n",
      "wandb: \tlearning_rate: 0.00746038256686235\n",
      "wandb: \tlr_decay_rate: 0.10049878268629474\n",
      "wandb: \toptimizer: adam\n"
     ]
    },
    {
     "data": {
      "text/plain": [
       "<IPython.core.display.HTML object>"
      ],
      "text/html": [
       "Tracking run with wandb version 0.18.7"
      ]
     },
     "metadata": {},
     "output_type": "display_data"
    },
    {
     "data": {
      "text/plain": [
       "<IPython.core.display.HTML object>"
      ],
      "text/html": [
       "Run data is saved locally in <code>C:\\Users\\Ionut\\Documents\\Facultate\\An 3\\RN\\neural-networks\\assignment-4\\wandb\\run-20241201_220607-ov0sxa0a</code>"
      ]
     },
     "metadata": {},
     "output_type": "display_data"
    },
    {
     "data": {
      "text/plain": [
       "<IPython.core.display.HTML object>"
      ],
      "text/html": [
       "Syncing run <strong><a href='https://wandb.ai/ionut-calin-uaic/assignment-4/runs/ov0sxa0a' target=\"_blank\">solar-sweep-17</a></strong> to <a href='https://wandb.ai/ionut-calin-uaic/assignment-4' target=\"_blank\">Weights & Biases</a> (<a href='https://wandb.me/developer-guide' target=\"_blank\">docs</a>)<br/>Sweep page: <a href='https://wandb.ai/ionut-calin-uaic/assignment-4/sweeps/2hr7fem4' target=\"_blank\">https://wandb.ai/ionut-calin-uaic/assignment-4/sweeps/2hr7fem4</a>"
      ]
     },
     "metadata": {},
     "output_type": "display_data"
    },
    {
     "data": {
      "text/plain": [
       "<IPython.core.display.HTML object>"
      ],
      "text/html": [
       " View project at <a href='https://wandb.ai/ionut-calin-uaic/assignment-4' target=\"_blank\">https://wandb.ai/ionut-calin-uaic/assignment-4</a>"
      ]
     },
     "metadata": {},
     "output_type": "display_data"
    },
    {
     "data": {
      "text/plain": [
       "<IPython.core.display.HTML object>"
      ],
      "text/html": [
       " View sweep at <a href='https://wandb.ai/ionut-calin-uaic/assignment-4/sweeps/2hr7fem4' target=\"_blank\">https://wandb.ai/ionut-calin-uaic/assignment-4/sweeps/2hr7fem4</a>"
      ]
     },
     "metadata": {},
     "output_type": "display_data"
    },
    {
     "data": {
      "text/plain": [
       "<IPython.core.display.HTML object>"
      ],
      "text/html": [
       " View run at <a href='https://wandb.ai/ionut-calin-uaic/assignment-4/runs/ov0sxa0a' target=\"_blank\">https://wandb.ai/ionut-calin-uaic/assignment-4/runs/ov0sxa0a</a>"
      ]
     },
     "metadata": {},
     "output_type": "display_data"
    },
    {
     "name": "stderr",
     "output_type": "stream",
     "text": [
      "100%|██████████| 234/234 [00:07<00:00, 31.73it/s]\n",
      "100%|██████████| 234/234 [00:07<00:00, 33.14it/s]\n",
      "100%|██████████| 234/234 [00:07<00:00, 32.92it/s]\n",
      "100%|██████████| 234/234 [00:07<00:00, 31.28it/s]\n",
      "100%|██████████| 234/234 [00:07<00:00, 32.48it/s]\n",
      "100%|██████████| 234/234 [00:07<00:00, 32.35it/s]\n",
      "100%|██████████| 234/234 [00:07<00:00, 32.94it/s]\n",
      "100%|██████████| 234/234 [00:07<00:00, 32.85it/s]\n",
      "100%|██████████| 234/234 [00:07<00:00, 32.24it/s]\n",
      "100%|██████████| 234/234 [00:07<00:00, 30.27it/s]\n",
      "100%|██████████| 234/234 [00:07<00:00, 30.46it/s]\n",
      "100%|██████████| 234/234 [00:07<00:00, 32.85it/s]\n",
      "100%|██████████| 234/234 [00:07<00:00, 30.19it/s]\n",
      "100%|██████████| 234/234 [00:08<00:00, 26.87it/s]\n",
      "100%|██████████| 234/234 [00:08<00:00, 27.91it/s]\n",
      "100%|██████████| 234/234 [00:08<00:00, 28.42it/s]\n",
      "100%|██████████| 234/234 [00:07<00:00, 29.30it/s]\n",
      "100%|██████████| 234/234 [00:07<00:00, 29.29it/s]\n",
      "100%|██████████| 234/234 [00:07<00:00, 29.45it/s]\n",
      "100%|██████████| 234/234 [00:07<00:00, 30.37it/s]\n",
      "100%|██████████| 234/234 [00:07<00:00, 31.36it/s]\n",
      "100%|██████████| 234/234 [00:07<00:00, 31.96it/s]\n",
      "100%|██████████| 234/234 [00:07<00:00, 31.66it/s]\n",
      "100%|██████████| 234/234 [00:07<00:00, 32.45it/s]\n",
      "100%|██████████| 234/234 [00:07<00:00, 32.35it/s]\n"
     ]
    },
    {
     "data": {
      "text/plain": [
       "<IPython.core.display.HTML object>"
      ],
      "text/html": [
       "\n",
       "    <style>\n",
       "        .wandb-row {\n",
       "            display: flex;\n",
       "            flex-direction: row;\n",
       "            flex-wrap: wrap;\n",
       "            justify-content: flex-start;\n",
       "            width: 100%;\n",
       "        }\n",
       "        .wandb-col {\n",
       "            display: flex;\n",
       "            flex-direction: column;\n",
       "            flex-basis: 100%;\n",
       "            flex: 1;\n",
       "            padding: 10px;\n",
       "        }\n",
       "    </style>\n",
       "<div class=\"wandb-row\"><div class=\"wandb-col\"><h3>Run history:</h3><br/><table class=\"wandb\"><tr><td>accuracy</td><td>▁▃▄▆▆▆▇▇▇▅▇▇▇▇▇▇██▇██▇▇██</td></tr><tr><td>epoch</td><td>▁▁▂▂▂▂▃▃▃▄▄▄▅▅▅▅▆▆▆▇▇▇▇██</td></tr></table><br/></div><div class=\"wandb-col\"><h3>Run summary:</h3><br/><table class=\"wandb\"><tr><td>accuracy</td><td>0.96935</td></tr><tr><td>epoch</td><td>24</td></tr></table><br/></div></div>"
      ]
     },
     "metadata": {},
     "output_type": "display_data"
    },
    {
     "data": {
      "text/plain": [
       "<IPython.core.display.HTML object>"
      ],
      "text/html": [
       " View run <strong style=\"color:#cdcd00\">solar-sweep-17</strong> at: <a href='https://wandb.ai/ionut-calin-uaic/assignment-4/runs/ov0sxa0a' target=\"_blank\">https://wandb.ai/ionut-calin-uaic/assignment-4/runs/ov0sxa0a</a><br/> View project at: <a href='https://wandb.ai/ionut-calin-uaic/assignment-4' target=\"_blank\">https://wandb.ai/ionut-calin-uaic/assignment-4</a><br/>Synced 5 W&B file(s), 0 media file(s), 0 artifact file(s) and 0 other file(s)"
      ]
     },
     "metadata": {},
     "output_type": "display_data"
    },
    {
     "data": {
      "text/plain": [
       "<IPython.core.display.HTML object>"
      ],
      "text/html": [
       "Find logs at: <code>.\\wandb\\run-20241201_220607-ov0sxa0a\\logs</code>"
      ]
     },
     "metadata": {},
     "output_type": "display_data"
    },
    {
     "name": "stderr",
     "output_type": "stream",
     "text": [
      "wandb: Agent Starting Run: 1yfjbcfx with config:\n",
      "wandb: \tbatch_size: 256\n",
      "wandb: \tdropout_rate: 0.2366681140012291\n",
      "wandb: \tepochs: 25\n",
      "wandb: \tlearning_rate: 0.004959144968477218\n",
      "wandb: \tlr_decay_rate: 0.4596901139006844\n",
      "wandb: \toptimizer: adam\n"
     ]
    },
    {
     "data": {
      "text/plain": [
       "<IPython.core.display.HTML object>"
      ],
      "text/html": [
       "Tracking run with wandb version 0.18.7"
      ]
     },
     "metadata": {},
     "output_type": "display_data"
    },
    {
     "data": {
      "text/plain": [
       "<IPython.core.display.HTML object>"
      ],
      "text/html": [
       "Run data is saved locally in <code>C:\\Users\\Ionut\\Documents\\Facultate\\An 3\\RN\\neural-networks\\assignment-4\\wandb\\run-20241201_221124-1yfjbcfx</code>"
      ]
     },
     "metadata": {},
     "output_type": "display_data"
    },
    {
     "data": {
      "text/plain": [
       "<IPython.core.display.HTML object>"
      ],
      "text/html": [
       "Syncing run <strong><a href='https://wandb.ai/ionut-calin-uaic/assignment-4/runs/1yfjbcfx' target=\"_blank\">soft-sweep-18</a></strong> to <a href='https://wandb.ai/ionut-calin-uaic/assignment-4' target=\"_blank\">Weights & Biases</a> (<a href='https://wandb.me/developer-guide' target=\"_blank\">docs</a>)<br/>Sweep page: <a href='https://wandb.ai/ionut-calin-uaic/assignment-4/sweeps/2hr7fem4' target=\"_blank\">https://wandb.ai/ionut-calin-uaic/assignment-4/sweeps/2hr7fem4</a>"
      ]
     },
     "metadata": {},
     "output_type": "display_data"
    },
    {
     "data": {
      "text/plain": [
       "<IPython.core.display.HTML object>"
      ],
      "text/html": [
       " View project at <a href='https://wandb.ai/ionut-calin-uaic/assignment-4' target=\"_blank\">https://wandb.ai/ionut-calin-uaic/assignment-4</a>"
      ]
     },
     "metadata": {},
     "output_type": "display_data"
    },
    {
     "data": {
      "text/plain": [
       "<IPython.core.display.HTML object>"
      ],
      "text/html": [
       " View sweep at <a href='https://wandb.ai/ionut-calin-uaic/assignment-4/sweeps/2hr7fem4' target=\"_blank\">https://wandb.ai/ionut-calin-uaic/assignment-4/sweeps/2hr7fem4</a>"
      ]
     },
     "metadata": {},
     "output_type": "display_data"
    },
    {
     "data": {
      "text/plain": [
       "<IPython.core.display.HTML object>"
      ],
      "text/html": [
       " View run at <a href='https://wandb.ai/ionut-calin-uaic/assignment-4/runs/1yfjbcfx' target=\"_blank\">https://wandb.ai/ionut-calin-uaic/assignment-4/runs/1yfjbcfx</a>"
      ]
     },
     "metadata": {},
     "output_type": "display_data"
    },
    {
     "name": "stderr",
     "output_type": "stream",
     "text": [
      "100%|██████████| 234/234 [00:07<00:00, 32.91it/s]\n",
      "100%|██████████| 234/234 [00:07<00:00, 32.72it/s]\n",
      "100%|██████████| 234/234 [00:07<00:00, 32.02it/s]\n",
      "100%|██████████| 234/234 [00:07<00:00, 32.56it/s]\n",
      "100%|██████████| 234/234 [00:07<00:00, 31.19it/s]\n",
      "100%|██████████| 234/234 [00:07<00:00, 33.08it/s]\n",
      "100%|██████████| 234/234 [00:07<00:00, 32.91it/s]\n",
      "100%|██████████| 234/234 [00:07<00:00, 33.05it/s]\n",
      "100%|██████████| 234/234 [00:07<00:00, 32.36it/s]\n",
      "100%|██████████| 234/234 [00:07<00:00, 32.05it/s]\n",
      "100%|██████████| 234/234 [00:07<00:00, 33.07it/s]\n",
      "100%|██████████| 234/234 [00:07<00:00, 31.64it/s]\n",
      "100%|██████████| 234/234 [00:07<00:00, 32.04it/s]\n",
      "100%|██████████| 234/234 [00:07<00:00, 31.46it/s]\n",
      "100%|██████████| 234/234 [00:07<00:00, 32.01it/s]\n",
      "100%|██████████| 234/234 [00:07<00:00, 33.05it/s]\n",
      "100%|██████████| 234/234 [00:07<00:00, 32.53it/s]\n",
      "100%|██████████| 234/234 [00:07<00:00, 30.56it/s]\n",
      "100%|██████████| 234/234 [00:07<00:00, 31.39it/s]\n",
      "100%|██████████| 234/234 [00:07<00:00, 31.52it/s]\n",
      "100%|██████████| 234/234 [00:07<00:00, 32.43it/s]\n",
      "100%|██████████| 234/234 [00:07<00:00, 32.68it/s]\n",
      "100%|██████████| 234/234 [00:07<00:00, 31.07it/s]\n",
      "100%|██████████| 234/234 [00:07<00:00, 31.60it/s]\n",
      "100%|██████████| 234/234 [00:07<00:00, 31.72it/s]\n"
     ]
    },
    {
     "data": {
      "text/plain": [
       "<IPython.core.display.HTML object>"
      ],
      "text/html": [
       "\n",
       "    <style>\n",
       "        .wandb-row {\n",
       "            display: flex;\n",
       "            flex-direction: row;\n",
       "            flex-wrap: wrap;\n",
       "            justify-content: flex-start;\n",
       "            width: 100%;\n",
       "        }\n",
       "        .wandb-col {\n",
       "            display: flex;\n",
       "            flex-direction: column;\n",
       "            flex-basis: 100%;\n",
       "            flex: 1;\n",
       "            padding: 10px;\n",
       "        }\n",
       "    </style>\n",
       "<div class=\"wandb-row\"><div class=\"wandb-col\"><h3>Run history:</h3><br/><table class=\"wandb\"><tr><td>accuracy</td><td>▁▃▄▆▆▆▆▆▇▇▇▇▇█▇██▇██████▇</td></tr><tr><td>epoch</td><td>▁▁▂▂▂▂▃▃▃▄▄▄▅▅▅▅▆▆▆▇▇▇▇██</td></tr></table><br/></div><div class=\"wandb-col\"><h3>Run summary:</h3><br/><table class=\"wandb\"><tr><td>accuracy</td><td>0.97216</td></tr><tr><td>epoch</td><td>24</td></tr></table><br/></div></div>"
      ]
     },
     "metadata": {},
     "output_type": "display_data"
    },
    {
     "data": {
      "text/plain": [
       "<IPython.core.display.HTML object>"
      ],
      "text/html": [
       " View run <strong style=\"color:#cdcd00\">soft-sweep-18</strong> at: <a href='https://wandb.ai/ionut-calin-uaic/assignment-4/runs/1yfjbcfx' target=\"_blank\">https://wandb.ai/ionut-calin-uaic/assignment-4/runs/1yfjbcfx</a><br/> View project at: <a href='https://wandb.ai/ionut-calin-uaic/assignment-4' target=\"_blank\">https://wandb.ai/ionut-calin-uaic/assignment-4</a><br/>Synced 5 W&B file(s), 0 media file(s), 0 artifact file(s) and 0 other file(s)"
      ]
     },
     "metadata": {},
     "output_type": "display_data"
    },
    {
     "data": {
      "text/plain": [
       "<IPython.core.display.HTML object>"
      ],
      "text/html": [
       "Find logs at: <code>.\\wandb\\run-20241201_221124-1yfjbcfx\\logs</code>"
      ]
     },
     "metadata": {},
     "output_type": "display_data"
    },
    {
     "name": "stderr",
     "output_type": "stream",
     "text": [
      "wandb: Agent Starting Run: ujtu88rd with config:\n",
      "wandb: \tbatch_size: 256\n",
      "wandb: \tdropout_rate: 0.33370841779003385\n",
      "wandb: \tepochs: 25\n",
      "wandb: \tlearning_rate: 0.007511891958871181\n",
      "wandb: \tlr_decay_rate: 0.4154358856094891\n",
      "wandb: \toptimizer: adam\n"
     ]
    },
    {
     "data": {
      "text/plain": [
       "<IPython.core.display.HTML object>"
      ],
      "text/html": [
       "Tracking run with wandb version 0.18.7"
      ]
     },
     "metadata": {},
     "output_type": "display_data"
    },
    {
     "data": {
      "text/plain": [
       "<IPython.core.display.HTML object>"
      ],
      "text/html": [
       "Run data is saved locally in <code>C:\\Users\\Ionut\\Documents\\Facultate\\An 3\\RN\\neural-networks\\assignment-4\\wandb\\run-20241201_221629-ujtu88rd</code>"
      ]
     },
     "metadata": {},
     "output_type": "display_data"
    },
    {
     "data": {
      "text/plain": [
       "<IPython.core.display.HTML object>"
      ],
      "text/html": [
       "Syncing run <strong><a href='https://wandb.ai/ionut-calin-uaic/assignment-4/runs/ujtu88rd' target=\"_blank\">restful-sweep-19</a></strong> to <a href='https://wandb.ai/ionut-calin-uaic/assignment-4' target=\"_blank\">Weights & Biases</a> (<a href='https://wandb.me/developer-guide' target=\"_blank\">docs</a>)<br/>Sweep page: <a href='https://wandb.ai/ionut-calin-uaic/assignment-4/sweeps/2hr7fem4' target=\"_blank\">https://wandb.ai/ionut-calin-uaic/assignment-4/sweeps/2hr7fem4</a>"
      ]
     },
     "metadata": {},
     "output_type": "display_data"
    },
    {
     "data": {
      "text/plain": [
       "<IPython.core.display.HTML object>"
      ],
      "text/html": [
       " View project at <a href='https://wandb.ai/ionut-calin-uaic/assignment-4' target=\"_blank\">https://wandb.ai/ionut-calin-uaic/assignment-4</a>"
      ]
     },
     "metadata": {},
     "output_type": "display_data"
    },
    {
     "data": {
      "text/plain": [
       "<IPython.core.display.HTML object>"
      ],
      "text/html": [
       " View sweep at <a href='https://wandb.ai/ionut-calin-uaic/assignment-4/sweeps/2hr7fem4' target=\"_blank\">https://wandb.ai/ionut-calin-uaic/assignment-4/sweeps/2hr7fem4</a>"
      ]
     },
     "metadata": {},
     "output_type": "display_data"
    },
    {
     "data": {
      "text/plain": [
       "<IPython.core.display.HTML object>"
      ],
      "text/html": [
       " View run at <a href='https://wandb.ai/ionut-calin-uaic/assignment-4/runs/ujtu88rd' target=\"_blank\">https://wandb.ai/ionut-calin-uaic/assignment-4/runs/ujtu88rd</a>"
      ]
     },
     "metadata": {},
     "output_type": "display_data"
    },
    {
     "name": "stderr",
     "output_type": "stream",
     "text": [
      "100%|██████████| 234/234 [00:07<00:00, 31.02it/s]\n",
      "100%|██████████| 234/234 [00:07<00:00, 29.59it/s]\n",
      "100%|██████████| 234/234 [00:07<00:00, 29.29it/s]\n",
      "100%|██████████| 234/234 [00:07<00:00, 29.74it/s]\n",
      "100%|██████████| 234/234 [00:07<00:00, 30.26it/s]\n",
      "100%|██████████| 234/234 [00:07<00:00, 30.33it/s]\n",
      "100%|██████████| 234/234 [00:08<00:00, 28.10it/s]\n",
      "100%|██████████| 234/234 [00:07<00:00, 29.47it/s]\n",
      "100%|██████████| 234/234 [00:08<00:00, 29.12it/s]\n",
      "100%|██████████| 234/234 [00:08<00:00, 29.23it/s]\n",
      "100%|██████████| 234/234 [00:07<00:00, 30.52it/s]\n",
      "100%|██████████| 234/234 [00:07<00:00, 32.16it/s]\n",
      "100%|██████████| 234/234 [00:07<00:00, 32.93it/s]\n",
      "100%|██████████| 234/234 [00:07<00:00, 31.34it/s]\n",
      "100%|██████████| 234/234 [00:07<00:00, 31.78it/s]\n",
      "100%|██████████| 234/234 [00:07<00:00, 33.22it/s]\n",
      "100%|██████████| 234/234 [00:07<00:00, 31.79it/s]\n",
      "100%|██████████| 234/234 [00:07<00:00, 32.40it/s]\n",
      "100%|██████████| 234/234 [00:07<00:00, 31.95it/s]\n",
      "100%|██████████| 234/234 [00:07<00:00, 31.78it/s]\n",
      "100%|██████████| 234/234 [00:07<00:00, 32.99it/s]\n",
      "100%|██████████| 234/234 [00:07<00:00, 33.19it/s]\n",
      "100%|██████████| 234/234 [00:07<00:00, 32.27it/s]\n",
      "100%|██████████| 234/234 [00:07<00:00, 32.10it/s]\n",
      "100%|██████████| 234/234 [00:07<00:00, 31.09it/s]\n"
     ]
    },
    {
     "data": {
      "text/plain": [
       "<IPython.core.display.HTML object>"
      ],
      "text/html": [
       "\n",
       "    <style>\n",
       "        .wandb-row {\n",
       "            display: flex;\n",
       "            flex-direction: row;\n",
       "            flex-wrap: wrap;\n",
       "            justify-content: flex-start;\n",
       "            width: 100%;\n",
       "        }\n",
       "        .wandb-col {\n",
       "            display: flex;\n",
       "            flex-direction: column;\n",
       "            flex-basis: 100%;\n",
       "            flex: 1;\n",
       "            padding: 10px;\n",
       "        }\n",
       "    </style>\n",
       "<div class=\"wandb-row\"><div class=\"wandb-col\"><h3>Run history:</h3><br/><table class=\"wandb\"><tr><td>accuracy</td><td>▁▃▅▇▆▇▇▆▇▇▆▇▇████▇██▆▇█▇█</td></tr><tr><td>epoch</td><td>▁▁▂▂▂▂▃▃▃▄▄▄▅▅▅▅▆▆▆▇▇▇▇██</td></tr></table><br/></div><div class=\"wandb-col\"><h3>Run summary:</h3><br/><table class=\"wandb\"><tr><td>accuracy</td><td>0.96755</td></tr><tr><td>epoch</td><td>24</td></tr></table><br/></div></div>"
      ]
     },
     "metadata": {},
     "output_type": "display_data"
    },
    {
     "data": {
      "text/plain": [
       "<IPython.core.display.HTML object>"
      ],
      "text/html": [
       " View run <strong style=\"color:#cdcd00\">restful-sweep-19</strong> at: <a href='https://wandb.ai/ionut-calin-uaic/assignment-4/runs/ujtu88rd' target=\"_blank\">https://wandb.ai/ionut-calin-uaic/assignment-4/runs/ujtu88rd</a><br/> View project at: <a href='https://wandb.ai/ionut-calin-uaic/assignment-4' target=\"_blank\">https://wandb.ai/ionut-calin-uaic/assignment-4</a><br/>Synced 5 W&B file(s), 0 media file(s), 0 artifact file(s) and 0 other file(s)"
      ]
     },
     "metadata": {},
     "output_type": "display_data"
    },
    {
     "data": {
      "text/plain": [
       "<IPython.core.display.HTML object>"
      ],
      "text/html": [
       "Find logs at: <code>.\\wandb\\run-20241201_221629-ujtu88rd\\logs</code>"
      ]
     },
     "metadata": {},
     "output_type": "display_data"
    },
    {
     "name": "stderr",
     "output_type": "stream",
     "text": [
      "wandb: Agent Starting Run: k3e7mtas with config:\n",
      "wandb: \tbatch_size: 256\n",
      "wandb: \tdropout_rate: 0.4835004545963941\n",
      "wandb: \tepochs: 25\n",
      "wandb: \tlearning_rate: 0.001957660504945793\n",
      "wandb: \tlr_decay_rate: 0.4624122413326829\n",
      "wandb: \toptimizer: adam\n"
     ]
    },
    {
     "data": {
      "text/plain": [
       "<IPython.core.display.HTML object>"
      ],
      "text/html": [
       "Tracking run with wandb version 0.18.7"
      ]
     },
     "metadata": {},
     "output_type": "display_data"
    },
    {
     "data": {
      "text/plain": [
       "<IPython.core.display.HTML object>"
      ],
      "text/html": [
       "Run data is saved locally in <code>C:\\Users\\Ionut\\Documents\\Facultate\\An 3\\RN\\neural-networks\\assignment-4\\wandb\\run-20241201_222146-k3e7mtas</code>"
      ]
     },
     "metadata": {},
     "output_type": "display_data"
    },
    {
     "data": {
      "text/plain": [
       "<IPython.core.display.HTML object>"
      ],
      "text/html": [
       "Syncing run <strong><a href='https://wandb.ai/ionut-calin-uaic/assignment-4/runs/k3e7mtas' target=\"_blank\">kind-sweep-20</a></strong> to <a href='https://wandb.ai/ionut-calin-uaic/assignment-4' target=\"_blank\">Weights & Biases</a> (<a href='https://wandb.me/developer-guide' target=\"_blank\">docs</a>)<br/>Sweep page: <a href='https://wandb.ai/ionut-calin-uaic/assignment-4/sweeps/2hr7fem4' target=\"_blank\">https://wandb.ai/ionut-calin-uaic/assignment-4/sweeps/2hr7fem4</a>"
      ]
     },
     "metadata": {},
     "output_type": "display_data"
    },
    {
     "data": {
      "text/plain": [
       "<IPython.core.display.HTML object>"
      ],
      "text/html": [
       " View project at <a href='https://wandb.ai/ionut-calin-uaic/assignment-4' target=\"_blank\">https://wandb.ai/ionut-calin-uaic/assignment-4</a>"
      ]
     },
     "metadata": {},
     "output_type": "display_data"
    },
    {
     "data": {
      "text/plain": [
       "<IPython.core.display.HTML object>"
      ],
      "text/html": [
       " View sweep at <a href='https://wandb.ai/ionut-calin-uaic/assignment-4/sweeps/2hr7fem4' target=\"_blank\">https://wandb.ai/ionut-calin-uaic/assignment-4/sweeps/2hr7fem4</a>"
      ]
     },
     "metadata": {},
     "output_type": "display_data"
    },
    {
     "data": {
      "text/plain": [
       "<IPython.core.display.HTML object>"
      ],
      "text/html": [
       " View run at <a href='https://wandb.ai/ionut-calin-uaic/assignment-4/runs/k3e7mtas' target=\"_blank\">https://wandb.ai/ionut-calin-uaic/assignment-4/runs/k3e7mtas</a>"
      ]
     },
     "metadata": {},
     "output_type": "display_data"
    },
    {
     "name": "stderr",
     "output_type": "stream",
     "text": [
      "100%|██████████| 234/234 [00:07<00:00, 31.58it/s]\n",
      "100%|██████████| 234/234 [00:07<00:00, 32.19it/s]\n",
      "100%|██████████| 234/234 [00:07<00:00, 32.97it/s]\n",
      "100%|██████████| 234/234 [00:07<00:00, 33.42it/s]\n",
      "100%|██████████| 234/234 [00:07<00:00, 32.33it/s]\n",
      "100%|██████████| 234/234 [00:07<00:00, 31.68it/s]\n",
      "100%|██████████| 234/234 [00:07<00:00, 32.27it/s]\n",
      "100%|██████████| 234/234 [00:07<00:00, 33.15it/s]\n",
      "100%|██████████| 234/234 [00:07<00:00, 32.81it/s]\n",
      "100%|██████████| 234/234 [00:07<00:00, 31.68it/s]\n",
      "100%|██████████| 234/234 [00:07<00:00, 32.11it/s]\n",
      "100%|██████████| 234/234 [00:07<00:00, 32.58it/s]\n",
      "100%|██████████| 234/234 [00:07<00:00, 33.05it/s]\n",
      "100%|██████████| 234/234 [00:07<00:00, 32.84it/s]\n",
      "100%|██████████| 234/234 [00:07<00:00, 32.11it/s]\n",
      "100%|██████████| 234/234 [00:07<00:00, 32.32it/s]\n",
      "100%|██████████| 234/234 [00:07<00:00, 32.86it/s]\n",
      "100%|██████████| 234/234 [00:07<00:00, 32.98it/s]\n",
      "100%|██████████| 234/234 [00:07<00:00, 32.72it/s]\n",
      "100%|██████████| 234/234 [00:07<00:00, 31.54it/s]\n",
      "100%|██████████| 234/234 [00:07<00:00, 31.95it/s]\n",
      "100%|██████████| 234/234 [00:07<00:00, 33.07it/s]\n",
      "100%|██████████| 234/234 [00:07<00:00, 33.03it/s]\n",
      "100%|██████████| 234/234 [00:07<00:00, 31.82it/s]\n",
      "100%|██████████| 234/234 [00:07<00:00, 31.42it/s]\n"
     ]
    },
    {
     "data": {
      "text/plain": [
       "<IPython.core.display.HTML object>"
      ],
      "text/html": [
       "\n",
       "    <style>\n",
       "        .wandb-row {\n",
       "            display: flex;\n",
       "            flex-direction: row;\n",
       "            flex-wrap: wrap;\n",
       "            justify-content: flex-start;\n",
       "            width: 100%;\n",
       "        }\n",
       "        .wandb-col {\n",
       "            display: flex;\n",
       "            flex-direction: column;\n",
       "            flex-basis: 100%;\n",
       "            flex: 1;\n",
       "            padding: 10px;\n",
       "        }\n",
       "    </style>\n",
       "<div class=\"wandb-row\"><div class=\"wandb-col\"><h3>Run history:</h3><br/><table class=\"wandb\"><tr><td>accuracy</td><td>▁▃▄▅▅▆▆▆▇▇▇▇▇▇▇▇▇█▇██████</td></tr><tr><td>epoch</td><td>▁▁▂▂▂▂▃▃▃▄▄▄▅▅▅▅▆▆▆▇▇▇▇██</td></tr></table><br/></div><div class=\"wandb-col\"><h3>Run summary:</h3><br/><table class=\"wandb\"><tr><td>accuracy</td><td>0.96795</td></tr><tr><td>epoch</td><td>24</td></tr></table><br/></div></div>"
      ]
     },
     "metadata": {},
     "output_type": "display_data"
    },
    {
     "data": {
      "text/plain": [
       "<IPython.core.display.HTML object>"
      ],
      "text/html": [
       " View run <strong style=\"color:#cdcd00\">kind-sweep-20</strong> at: <a href='https://wandb.ai/ionut-calin-uaic/assignment-4/runs/k3e7mtas' target=\"_blank\">https://wandb.ai/ionut-calin-uaic/assignment-4/runs/k3e7mtas</a><br/> View project at: <a href='https://wandb.ai/ionut-calin-uaic/assignment-4' target=\"_blank\">https://wandb.ai/ionut-calin-uaic/assignment-4</a><br/>Synced 5 W&B file(s), 0 media file(s), 0 artifact file(s) and 0 other file(s)"
      ]
     },
     "metadata": {},
     "output_type": "display_data"
    },
    {
     "data": {
      "text/plain": [
       "<IPython.core.display.HTML object>"
      ],
      "text/html": [
       "Find logs at: <code>.\\wandb\\run-20241201_222146-k3e7mtas\\logs</code>"
      ]
     },
     "metadata": {},
     "output_type": "display_data"
    },
    {
     "name": "stderr",
     "output_type": "stream",
     "text": [
      "wandb: Agent Starting Run: izuxk5yw with config:\n",
      "wandb: \tbatch_size: 128\n",
      "wandb: \tdropout_rate: 0.2297109571227417\n",
      "wandb: \tepochs: 25\n",
      "wandb: \tlearning_rate: 0.00420008981029291\n",
      "wandb: \tlr_decay_rate: 0.18440268819150615\n",
      "wandb: \toptimizer: adam\n"
     ]
    },
    {
     "data": {
      "text/plain": [
       "<IPython.core.display.HTML object>"
      ],
      "text/html": [
       "Tracking run with wandb version 0.18.7"
      ]
     },
     "metadata": {},
     "output_type": "display_data"
    },
    {
     "data": {
      "text/plain": [
       "<IPython.core.display.HTML object>"
      ],
      "text/html": [
       "Run data is saved locally in <code>C:\\Users\\Ionut\\Documents\\Facultate\\An 3\\RN\\neural-networks\\assignment-4\\wandb\\run-20241201_222651-izuxk5yw</code>"
      ]
     },
     "metadata": {},
     "output_type": "display_data"
    },
    {
     "data": {
      "text/plain": [
       "<IPython.core.display.HTML object>"
      ],
      "text/html": [
       "Syncing run <strong><a href='https://wandb.ai/ionut-calin-uaic/assignment-4/runs/izuxk5yw' target=\"_blank\">wandering-sweep-21</a></strong> to <a href='https://wandb.ai/ionut-calin-uaic/assignment-4' target=\"_blank\">Weights & Biases</a> (<a href='https://wandb.me/developer-guide' target=\"_blank\">docs</a>)<br/>Sweep page: <a href='https://wandb.ai/ionut-calin-uaic/assignment-4/sweeps/2hr7fem4' target=\"_blank\">https://wandb.ai/ionut-calin-uaic/assignment-4/sweeps/2hr7fem4</a>"
      ]
     },
     "metadata": {},
     "output_type": "display_data"
    },
    {
     "data": {
      "text/plain": [
       "<IPython.core.display.HTML object>"
      ],
      "text/html": [
       " View project at <a href='https://wandb.ai/ionut-calin-uaic/assignment-4' target=\"_blank\">https://wandb.ai/ionut-calin-uaic/assignment-4</a>"
      ]
     },
     "metadata": {},
     "output_type": "display_data"
    },
    {
     "data": {
      "text/plain": [
       "<IPython.core.display.HTML object>"
      ],
      "text/html": [
       " View sweep at <a href='https://wandb.ai/ionut-calin-uaic/assignment-4/sweeps/2hr7fem4' target=\"_blank\">https://wandb.ai/ionut-calin-uaic/assignment-4/sweeps/2hr7fem4</a>"
      ]
     },
     "metadata": {},
     "output_type": "display_data"
    },
    {
     "data": {
      "text/plain": [
       "<IPython.core.display.HTML object>"
      ],
      "text/html": [
       " View run at <a href='https://wandb.ai/ionut-calin-uaic/assignment-4/runs/izuxk5yw' target=\"_blank\">https://wandb.ai/ionut-calin-uaic/assignment-4/runs/izuxk5yw</a>"
      ]
     },
     "metadata": {},
     "output_type": "display_data"
    },
    {
     "name": "stderr",
     "output_type": "stream",
     "text": [
      "100%|██████████| 468/468 [00:07<00:00, 65.19it/s] \n",
      "100%|██████████| 468/468 [00:07<00:00, 60.51it/s] \n",
      "100%|██████████| 468/468 [00:07<00:00, 63.91it/s] \n",
      "100%|██████████| 468/468 [00:07<00:00, 63.02it/s] \n",
      "100%|██████████| 468/468 [00:07<00:00, 65.11it/s] \n",
      "100%|██████████| 468/468 [00:07<00:00, 65.31it/s] \n",
      "100%|██████████| 468/468 [00:07<00:00, 63.24it/s] \n",
      "100%|██████████| 468/468 [00:07<00:00, 64.62it/s] \n",
      "100%|██████████| 468/468 [00:07<00:00, 65.01it/s] \n",
      "100%|██████████| 468/468 [00:07<00:00, 65.55it/s] \n",
      "100%|██████████| 468/468 [00:07<00:00, 65.52it/s] \n",
      "100%|██████████| 468/468 [00:07<00:00, 63.70it/s] \n",
      "100%|██████████| 468/468 [00:07<00:00, 63.50it/s] \n",
      "100%|██████████| 468/468 [00:07<00:00, 65.63it/s] \n",
      "100%|██████████| 468/468 [00:07<00:00, 64.16it/s] \n",
      "100%|██████████| 468/468 [00:07<00:00, 65.11it/s] \n",
      "100%|██████████| 468/468 [00:07<00:00, 62.91it/s] \n",
      "100%|██████████| 468/468 [00:07<00:00, 63.52it/s] \n",
      "100%|██████████| 468/468 [00:07<00:00, 63.96it/s] \n",
      "100%|██████████| 468/468 [00:07<00:00, 65.04it/s] \n",
      "100%|██████████| 468/468 [00:07<00:00, 61.37it/s] \n",
      "100%|██████████| 468/468 [00:07<00:00, 62.23it/s] \n",
      "100%|██████████| 468/468 [00:07<00:00, 63.31it/s] \n",
      "100%|██████████| 468/468 [00:07<00:00, 64.43it/s] \n",
      "100%|██████████| 468/468 [00:07<00:00, 65.05it/s] \n"
     ]
    },
    {
     "data": {
      "text/plain": [
       "<IPython.core.display.HTML object>"
      ],
      "text/html": [
       "\n",
       "    <style>\n",
       "        .wandb-row {\n",
       "            display: flex;\n",
       "            flex-direction: row;\n",
       "            flex-wrap: wrap;\n",
       "            justify-content: flex-start;\n",
       "            width: 100%;\n",
       "        }\n",
       "        .wandb-col {\n",
       "            display: flex;\n",
       "            flex-direction: column;\n",
       "            flex-basis: 100%;\n",
       "            flex: 1;\n",
       "            padding: 10px;\n",
       "        }\n",
       "    </style>\n",
       "<div class=\"wandb-row\"><div class=\"wandb-col\"><h3>Run history:</h3><br/><table class=\"wandb\"><tr><td>accuracy</td><td>▁▃▄▆▅▆▇▇▇▇▇▇▆▆▇▆▇▇▇▇█▇███</td></tr><tr><td>epoch</td><td>▁▁▂▂▂▂▃▃▃▄▄▄▅▅▅▅▆▆▆▇▇▇▇██</td></tr></table><br/></div><div class=\"wandb-col\"><h3>Run summary:</h3><br/><table class=\"wandb\"><tr><td>accuracy</td><td>0.97246</td></tr><tr><td>epoch</td><td>24</td></tr></table><br/></div></div>"
      ]
     },
     "metadata": {},
     "output_type": "display_data"
    },
    {
     "data": {
      "text/plain": [
       "<IPython.core.display.HTML object>"
      ],
      "text/html": [
       " View run <strong style=\"color:#cdcd00\">wandering-sweep-21</strong> at: <a href='https://wandb.ai/ionut-calin-uaic/assignment-4/runs/izuxk5yw' target=\"_blank\">https://wandb.ai/ionut-calin-uaic/assignment-4/runs/izuxk5yw</a><br/> View project at: <a href='https://wandb.ai/ionut-calin-uaic/assignment-4' target=\"_blank\">https://wandb.ai/ionut-calin-uaic/assignment-4</a><br/>Synced 5 W&B file(s), 0 media file(s), 0 artifact file(s) and 0 other file(s)"
      ]
     },
     "metadata": {},
     "output_type": "display_data"
    },
    {
     "data": {
      "text/plain": [
       "<IPython.core.display.HTML object>"
      ],
      "text/html": [
       "Find logs at: <code>.\\wandb\\run-20241201_222651-izuxk5yw\\logs</code>"
      ]
     },
     "metadata": {},
     "output_type": "display_data"
    },
    {
     "name": "stderr",
     "output_type": "stream",
     "text": [
      "wandb: Agent Starting Run: 1ze18ky1 with config:\n",
      "wandb: \tbatch_size: 128\n",
      "wandb: \tdropout_rate: 0.32271466411990646\n",
      "wandb: \tepochs: 25\n",
      "wandb: \tlearning_rate: 0.006896256264290597\n",
      "wandb: \tlr_decay_rate: 0.1801564598550805\n",
      "wandb: \toptimizer: adam\n"
     ]
    },
    {
     "data": {
      "text/plain": [
       "<IPython.core.display.HTML object>"
      ],
      "text/html": [
       "Tracking run with wandb version 0.18.7"
      ]
     },
     "metadata": {},
     "output_type": "display_data"
    },
    {
     "data": {
      "text/plain": [
       "<IPython.core.display.HTML object>"
      ],
      "text/html": [
       "Run data is saved locally in <code>C:\\Users\\Ionut\\Documents\\Facultate\\An 3\\RN\\neural-networks\\assignment-4\\wandb\\run-20241201_223157-1ze18ky1</code>"
      ]
     },
     "metadata": {},
     "output_type": "display_data"
    },
    {
     "data": {
      "text/plain": [
       "<IPython.core.display.HTML object>"
      ],
      "text/html": [
       "Syncing run <strong><a href='https://wandb.ai/ionut-calin-uaic/assignment-4/runs/1ze18ky1' target=\"_blank\">vocal-sweep-22</a></strong> to <a href='https://wandb.ai/ionut-calin-uaic/assignment-4' target=\"_blank\">Weights & Biases</a> (<a href='https://wandb.me/developer-guide' target=\"_blank\">docs</a>)<br/>Sweep page: <a href='https://wandb.ai/ionut-calin-uaic/assignment-4/sweeps/2hr7fem4' target=\"_blank\">https://wandb.ai/ionut-calin-uaic/assignment-4/sweeps/2hr7fem4</a>"
      ]
     },
     "metadata": {},
     "output_type": "display_data"
    },
    {
     "data": {
      "text/plain": [
       "<IPython.core.display.HTML object>"
      ],
      "text/html": [
       " View project at <a href='https://wandb.ai/ionut-calin-uaic/assignment-4' target=\"_blank\">https://wandb.ai/ionut-calin-uaic/assignment-4</a>"
      ]
     },
     "metadata": {},
     "output_type": "display_data"
    },
    {
     "data": {
      "text/plain": [
       "<IPython.core.display.HTML object>"
      ],
      "text/html": [
       " View sweep at <a href='https://wandb.ai/ionut-calin-uaic/assignment-4/sweeps/2hr7fem4' target=\"_blank\">https://wandb.ai/ionut-calin-uaic/assignment-4/sweeps/2hr7fem4</a>"
      ]
     },
     "metadata": {},
     "output_type": "display_data"
    },
    {
     "data": {
      "text/plain": [
       "<IPython.core.display.HTML object>"
      ],
      "text/html": [
       " View run at <a href='https://wandb.ai/ionut-calin-uaic/assignment-4/runs/1ze18ky1' target=\"_blank\">https://wandb.ai/ionut-calin-uaic/assignment-4/runs/1ze18ky1</a>"
      ]
     },
     "metadata": {},
     "output_type": "display_data"
    },
    {
     "name": "stderr",
     "output_type": "stream",
     "text": [
      "100%|██████████| 468/468 [00:07<00:00, 59.32it/s] \n",
      "100%|██████████| 468/468 [00:07<00:00, 64.88it/s] \n",
      "100%|██████████| 468/468 [00:07<00:00, 65.50it/s] \n",
      "100%|██████████| 468/468 [00:07<00:00, 63.22it/s] \n",
      "100%|██████████| 468/468 [00:07<00:00, 61.87it/s] \n",
      "100%|██████████| 468/468 [00:07<00:00, 62.50it/s] \n",
      "100%|██████████| 468/468 [00:07<00:00, 65.09it/s] \n",
      "100%|██████████| 468/468 [00:07<00:00, 65.05it/s] \n",
      "100%|██████████| 468/468 [00:07<00:00, 62.95it/s] \n",
      "100%|██████████| 468/468 [00:08<00:00, 55.29it/s] \n",
      "100%|██████████| 468/468 [00:09<00:00, 50.75it/s] \n",
      "100%|██████████| 468/468 [00:07<00:00, 63.96it/s] \n",
      "100%|██████████| 468/468 [00:07<00:00, 59.84it/s] \n",
      "100%|██████████| 468/468 [00:08<00:00, 52.57it/s] \n",
      "100%|██████████| 468/468 [00:08<00:00, 54.65it/s] \n",
      "100%|██████████| 468/468 [00:08<00:00, 55.27it/s] \n",
      "100%|██████████| 468/468 [00:08<00:00, 58.16it/s] \n",
      "100%|██████████| 468/468 [00:07<00:00, 63.38it/s] \n",
      "100%|██████████| 468/468 [00:07<00:00, 60.81it/s] \n",
      "100%|██████████| 468/468 [00:07<00:00, 62.67it/s] \n",
      "100%|██████████| 468/468 [00:07<00:00, 60.78it/s] \n",
      "100%|██████████| 468/468 [00:08<00:00, 57.96it/s] \n",
      "100%|██████████| 468/468 [00:08<00:00, 55.79it/s] \n",
      "100%|██████████| 468/468 [00:08<00:00, 52.06it/s] \n",
      "100%|██████████| 468/468 [00:09<00:00, 51.38it/s] \n"
     ]
    },
    {
     "data": {
      "text/plain": [
       "<IPython.core.display.HTML object>"
      ],
      "text/html": [
       "\n",
       "    <style>\n",
       "        .wandb-row {\n",
       "            display: flex;\n",
       "            flex-direction: row;\n",
       "            flex-wrap: wrap;\n",
       "            justify-content: flex-start;\n",
       "            width: 100%;\n",
       "        }\n",
       "        .wandb-col {\n",
       "            display: flex;\n",
       "            flex-direction: column;\n",
       "            flex-basis: 100%;\n",
       "            flex: 1;\n",
       "            padding: 10px;\n",
       "        }\n",
       "    </style>\n",
       "<div class=\"wandb-row\"><div class=\"wandb-col\"><h3>Run history:</h3><br/><table class=\"wandb\"><tr><td>accuracy</td><td>▁▃▃▆▅▆▅▅▆▆▆▇▇▇▅▆▄▇█▇▆██▆█</td></tr><tr><td>epoch</td><td>▁▁▂▂▂▂▃▃▃▄▄▄▅▅▅▅▆▆▆▇▇▇▇██</td></tr></table><br/></div><div class=\"wandb-col\"><h3>Run summary:</h3><br/><table class=\"wandb\"><tr><td>accuracy</td><td>0.96374</td></tr><tr><td>epoch</td><td>24</td></tr></table><br/></div></div>"
      ]
     },
     "metadata": {},
     "output_type": "display_data"
    },
    {
     "data": {
      "text/plain": [
       "<IPython.core.display.HTML object>"
      ],
      "text/html": [
       " View run <strong style=\"color:#cdcd00\">vocal-sweep-22</strong> at: <a href='https://wandb.ai/ionut-calin-uaic/assignment-4/runs/1ze18ky1' target=\"_blank\">https://wandb.ai/ionut-calin-uaic/assignment-4/runs/1ze18ky1</a><br/> View project at: <a href='https://wandb.ai/ionut-calin-uaic/assignment-4' target=\"_blank\">https://wandb.ai/ionut-calin-uaic/assignment-4</a><br/>Synced 5 W&B file(s), 0 media file(s), 0 artifact file(s) and 0 other file(s)"
      ]
     },
     "metadata": {},
     "output_type": "display_data"
    },
    {
     "data": {
      "text/plain": [
       "<IPython.core.display.HTML object>"
      ],
      "text/html": [
       "Find logs at: <code>.\\wandb\\run-20241201_223157-1ze18ky1\\logs</code>"
      ]
     },
     "metadata": {},
     "output_type": "display_data"
    },
    {
     "name": "stderr",
     "output_type": "stream",
     "text": [
      "wandb: Agent Starting Run: 0ob5454m with config:\n",
      "wandb: \tbatch_size: 256\n",
      "wandb: \tdropout_rate: 0.2914813407312773\n",
      "wandb: \tepochs: 25\n",
      "wandb: \tlearning_rate: 0.008474071748285433\n",
      "wandb: \tlr_decay_rate: 0.26284675493455967\n",
      "wandb: \toptimizer: adam\n"
     ]
    },
    {
     "data": {
      "text/plain": [
       "<IPython.core.display.HTML object>"
      ],
      "text/html": [
       "Tracking run with wandb version 0.18.7"
      ]
     },
     "metadata": {},
     "output_type": "display_data"
    },
    {
     "data": {
      "text/plain": [
       "<IPython.core.display.HTML object>"
      ],
      "text/html": [
       "Run data is saved locally in <code>C:\\Users\\Ionut\\Documents\\Facultate\\An 3\\RN\\neural-networks\\assignment-4\\wandb\\run-20241201_223730-0ob5454m</code>"
      ]
     },
     "metadata": {},
     "output_type": "display_data"
    },
    {
     "data": {
      "text/plain": [
       "<IPython.core.display.HTML object>"
      ],
      "text/html": [
       "Syncing run <strong><a href='https://wandb.ai/ionut-calin-uaic/assignment-4/runs/0ob5454m' target=\"_blank\">swift-sweep-23</a></strong> to <a href='https://wandb.ai/ionut-calin-uaic/assignment-4' target=\"_blank\">Weights & Biases</a> (<a href='https://wandb.me/developer-guide' target=\"_blank\">docs</a>)<br/>Sweep page: <a href='https://wandb.ai/ionut-calin-uaic/assignment-4/sweeps/2hr7fem4' target=\"_blank\">https://wandb.ai/ionut-calin-uaic/assignment-4/sweeps/2hr7fem4</a>"
      ]
     },
     "metadata": {},
     "output_type": "display_data"
    },
    {
     "data": {
      "text/plain": [
       "<IPython.core.display.HTML object>"
      ],
      "text/html": [
       " View project at <a href='https://wandb.ai/ionut-calin-uaic/assignment-4' target=\"_blank\">https://wandb.ai/ionut-calin-uaic/assignment-4</a>"
      ]
     },
     "metadata": {},
     "output_type": "display_data"
    },
    {
     "data": {
      "text/plain": [
       "<IPython.core.display.HTML object>"
      ],
      "text/html": [
       " View sweep at <a href='https://wandb.ai/ionut-calin-uaic/assignment-4/sweeps/2hr7fem4' target=\"_blank\">https://wandb.ai/ionut-calin-uaic/assignment-4/sweeps/2hr7fem4</a>"
      ]
     },
     "metadata": {},
     "output_type": "display_data"
    },
    {
     "data": {
      "text/plain": [
       "<IPython.core.display.HTML object>"
      ],
      "text/html": [
       " View run at <a href='https://wandb.ai/ionut-calin-uaic/assignment-4/runs/0ob5454m' target=\"_blank\">https://wandb.ai/ionut-calin-uaic/assignment-4/runs/0ob5454m</a>"
      ]
     },
     "metadata": {},
     "output_type": "display_data"
    },
    {
     "name": "stderr",
     "output_type": "stream",
     "text": [
      "100%|██████████| 234/234 [00:07<00:00, 29.55it/s]\n",
      "100%|██████████| 234/234 [00:07<00:00, 31.44it/s]\n",
      "100%|██████████| 234/234 [00:07<00:00, 31.29it/s]\n",
      "100%|██████████| 234/234 [00:07<00:00, 32.24it/s]\n",
      "100%|██████████| 234/234 [00:07<00:00, 31.79it/s]\n",
      "100%|██████████| 234/234 [00:07<00:00, 32.82it/s]\n",
      "100%|██████████| 234/234 [00:07<00:00, 32.33it/s]\n",
      "100%|██████████| 234/234 [00:07<00:00, 31.56it/s]\n",
      "100%|██████████| 234/234 [00:07<00:00, 32.33it/s]\n",
      "100%|██████████| 234/234 [00:07<00:00, 31.80it/s]\n",
      "100%|██████████| 234/234 [00:07<00:00, 32.89it/s]\n",
      "100%|██████████| 234/234 [00:07<00:00, 31.74it/s]\n",
      "100%|██████████| 234/234 [00:07<00:00, 31.56it/s]\n",
      "100%|██████████| 234/234 [00:07<00:00, 32.62it/s]\n",
      "100%|██████████| 234/234 [00:07<00:00, 32.39it/s]\n",
      "100%|██████████| 234/234 [00:07<00:00, 33.04it/s]\n",
      "100%|██████████| 234/234 [00:07<00:00, 31.62it/s]\n",
      "100%|██████████| 234/234 [00:07<00:00, 31.23it/s]\n",
      "100%|██████████| 234/234 [00:07<00:00, 32.96it/s]\n",
      "100%|██████████| 234/234 [00:08<00:00, 28.12it/s]\n",
      "100%|██████████| 234/234 [00:07<00:00, 30.10it/s]\n",
      "100%|██████████| 234/234 [00:08<00:00, 28.21it/s]\n",
      "100%|██████████| 234/234 [00:08<00:00, 27.77it/s]\n",
      "100%|██████████| 234/234 [00:07<00:00, 30.30it/s]\n",
      "100%|██████████| 234/234 [00:07<00:00, 29.25it/s]\n"
     ]
    },
    {
     "data": {
      "text/plain": [
       "<IPython.core.display.HTML object>"
      ],
      "text/html": [
       "\n",
       "    <style>\n",
       "        .wandb-row {\n",
       "            display: flex;\n",
       "            flex-direction: row;\n",
       "            flex-wrap: wrap;\n",
       "            justify-content: flex-start;\n",
       "            width: 100%;\n",
       "        }\n",
       "        .wandb-col {\n",
       "            display: flex;\n",
       "            flex-direction: column;\n",
       "            flex-basis: 100%;\n",
       "            flex: 1;\n",
       "            padding: 10px;\n",
       "        }\n",
       "    </style>\n",
       "<div class=\"wandb-row\"><div class=\"wandb-col\"><h3>Run history:</h3><br/><table class=\"wandb\"><tr><td>accuracy</td><td>▁▃▅▄▆▆▇▆▇▇▇▇▆▆▇▇▇▇█▇▇██▇▇</td></tr><tr><td>epoch</td><td>▁▁▂▂▂▂▃▃▃▄▄▄▅▅▅▅▆▆▆▇▇▇▇██</td></tr></table><br/></div><div class=\"wandb-col\"><h3>Run summary:</h3><br/><table class=\"wandb\"><tr><td>accuracy</td><td>0.96384</td></tr><tr><td>epoch</td><td>24</td></tr></table><br/></div></div>"
      ]
     },
     "metadata": {},
     "output_type": "display_data"
    },
    {
     "data": {
      "text/plain": [
       "<IPython.core.display.HTML object>"
      ],
      "text/html": [
       " View run <strong style=\"color:#cdcd00\">swift-sweep-23</strong> at: <a href='https://wandb.ai/ionut-calin-uaic/assignment-4/runs/0ob5454m' target=\"_blank\">https://wandb.ai/ionut-calin-uaic/assignment-4/runs/0ob5454m</a><br/> View project at: <a href='https://wandb.ai/ionut-calin-uaic/assignment-4' target=\"_blank\">https://wandb.ai/ionut-calin-uaic/assignment-4</a><br/>Synced 5 W&B file(s), 0 media file(s), 0 artifact file(s) and 0 other file(s)"
      ]
     },
     "metadata": {},
     "output_type": "display_data"
    },
    {
     "data": {
      "text/plain": [
       "<IPython.core.display.HTML object>"
      ],
      "text/html": [
       "Find logs at: <code>.\\wandb\\run-20241201_223730-0ob5454m\\logs</code>"
      ]
     },
     "metadata": {},
     "output_type": "display_data"
    },
    {
     "name": "stderr",
     "output_type": "stream",
     "text": [
      "wandb: Agent Starting Run: jhoyr23e with config:\n",
      "wandb: \tbatch_size: 256\n",
      "wandb: \tdropout_rate: 0.210379136284664\n",
      "wandb: \tepochs: 25\n",
      "wandb: \tlearning_rate: 0.0069457456566620205\n",
      "wandb: \tlr_decay_rate: 0.27105436623812396\n",
      "wandb: \toptimizer: adam\n"
     ]
    },
    {
     "data": {
      "text/plain": [
       "<IPython.core.display.HTML object>"
      ],
      "text/html": [
       "Tracking run with wandb version 0.18.7"
      ]
     },
     "metadata": {},
     "output_type": "display_data"
    },
    {
     "data": {
      "text/plain": [
       "<IPython.core.display.HTML object>"
      ],
      "text/html": [
       "Run data is saved locally in <code>C:\\Users\\Ionut\\Documents\\Facultate\\An 3\\RN\\neural-networks\\assignment-4\\wandb\\run-20241201_224247-jhoyr23e</code>"
      ]
     },
     "metadata": {},
     "output_type": "display_data"
    },
    {
     "data": {
      "text/plain": [
       "<IPython.core.display.HTML object>"
      ],
      "text/html": [
       "Syncing run <strong><a href='https://wandb.ai/ionut-calin-uaic/assignment-4/runs/jhoyr23e' target=\"_blank\">splendid-sweep-24</a></strong> to <a href='https://wandb.ai/ionut-calin-uaic/assignment-4' target=\"_blank\">Weights & Biases</a> (<a href='https://wandb.me/developer-guide' target=\"_blank\">docs</a>)<br/>Sweep page: <a href='https://wandb.ai/ionut-calin-uaic/assignment-4/sweeps/2hr7fem4' target=\"_blank\">https://wandb.ai/ionut-calin-uaic/assignment-4/sweeps/2hr7fem4</a>"
      ]
     },
     "metadata": {},
     "output_type": "display_data"
    },
    {
     "data": {
      "text/plain": [
       "<IPython.core.display.HTML object>"
      ],
      "text/html": [
       " View project at <a href='https://wandb.ai/ionut-calin-uaic/assignment-4' target=\"_blank\">https://wandb.ai/ionut-calin-uaic/assignment-4</a>"
      ]
     },
     "metadata": {},
     "output_type": "display_data"
    },
    {
     "data": {
      "text/plain": [
       "<IPython.core.display.HTML object>"
      ],
      "text/html": [
       " View sweep at <a href='https://wandb.ai/ionut-calin-uaic/assignment-4/sweeps/2hr7fem4' target=\"_blank\">https://wandb.ai/ionut-calin-uaic/assignment-4/sweeps/2hr7fem4</a>"
      ]
     },
     "metadata": {},
     "output_type": "display_data"
    },
    {
     "data": {
      "text/plain": [
       "<IPython.core.display.HTML object>"
      ],
      "text/html": [
       " View run at <a href='https://wandb.ai/ionut-calin-uaic/assignment-4/runs/jhoyr23e' target=\"_blank\">https://wandb.ai/ionut-calin-uaic/assignment-4/runs/jhoyr23e</a>"
      ]
     },
     "metadata": {},
     "output_type": "display_data"
    },
    {
     "name": "stderr",
     "output_type": "stream",
     "text": [
      "100%|██████████| 234/234 [00:07<00:00, 32.78it/s]\n",
      "100%|██████████| 234/234 [00:07<00:00, 31.05it/s]\n",
      "100%|██████████| 234/234 [00:07<00:00, 31.55it/s]\n",
      "100%|██████████| 234/234 [00:07<00:00, 31.27it/s]\n",
      "100%|██████████| 234/234 [00:08<00:00, 27.90it/s]\n",
      "100%|██████████| 234/234 [00:07<00:00, 32.88it/s]\n",
      "100%|██████████| 234/234 [00:07<00:00, 32.74it/s]\n",
      "100%|██████████| 234/234 [00:07<00:00, 33.08it/s]\n",
      "100%|██████████| 234/234 [00:07<00:00, 29.96it/s]\n",
      "100%|██████████| 234/234 [00:10<00:00, 21.69it/s]\n",
      "100%|██████████| 234/234 [00:10<00:00, 23.37it/s]\n",
      "100%|██████████| 234/234 [00:08<00:00, 28.64it/s]\n",
      "100%|██████████| 234/234 [00:08<00:00, 27.25it/s]\n",
      "100%|██████████| 234/234 [00:08<00:00, 29.10it/s]\n",
      "100%|██████████| 234/234 [00:08<00:00, 26.83it/s]\n",
      "100%|██████████| 234/234 [00:07<00:00, 30.75it/s]\n",
      "100%|██████████| 234/234 [00:08<00:00, 27.86it/s]\n",
      "100%|██████████| 234/234 [00:07<00:00, 30.97it/s]\n",
      "100%|██████████| 234/234 [00:07<00:00, 32.80it/s]\n",
      "100%|██████████| 234/234 [00:07<00:00, 31.30it/s]\n",
      "100%|██████████| 234/234 [00:07<00:00, 31.89it/s]\n",
      "100%|██████████| 234/234 [00:07<00:00, 32.22it/s]\n",
      "100%|██████████| 234/234 [00:07<00:00, 32.46it/s]\n",
      "100%|██████████| 234/234 [00:07<00:00, 32.83it/s]\n",
      "100%|██████████| 234/234 [00:07<00:00, 31.88it/s]\n"
     ]
    },
    {
     "data": {
      "text/plain": [
       "<IPython.core.display.HTML object>"
      ],
      "text/html": [
       "\n",
       "    <style>\n",
       "        .wandb-row {\n",
       "            display: flex;\n",
       "            flex-direction: row;\n",
       "            flex-wrap: wrap;\n",
       "            justify-content: flex-start;\n",
       "            width: 100%;\n",
       "        }\n",
       "        .wandb-col {\n",
       "            display: flex;\n",
       "            flex-direction: column;\n",
       "            flex-basis: 100%;\n",
       "            flex: 1;\n",
       "            padding: 10px;\n",
       "        }\n",
       "    </style>\n",
       "<div class=\"wandb-row\"><div class=\"wandb-col\"><h3>Run history:</h3><br/><table class=\"wandb\"><tr><td>accuracy</td><td>▁▃▄▅▆▆▆▇▆▆▇▇▇█▆▇▇▆▇▇▇█▇█▇</td></tr><tr><td>epoch</td><td>▁▁▂▂▂▂▃▃▃▄▄▄▅▅▅▅▆▆▆▇▇▇▇██</td></tr></table><br/></div><div class=\"wandb-col\"><h3>Run summary:</h3><br/><table class=\"wandb\"><tr><td>accuracy</td><td>0.97085</td></tr><tr><td>epoch</td><td>24</td></tr></table><br/></div></div>"
      ]
     },
     "metadata": {},
     "output_type": "display_data"
    },
    {
     "data": {
      "text/plain": [
       "<IPython.core.display.HTML object>"
      ],
      "text/html": [
       " View run <strong style=\"color:#cdcd00\">splendid-sweep-24</strong> at: <a href='https://wandb.ai/ionut-calin-uaic/assignment-4/runs/jhoyr23e' target=\"_blank\">https://wandb.ai/ionut-calin-uaic/assignment-4/runs/jhoyr23e</a><br/> View project at: <a href='https://wandb.ai/ionut-calin-uaic/assignment-4' target=\"_blank\">https://wandb.ai/ionut-calin-uaic/assignment-4</a><br/>Synced 5 W&B file(s), 0 media file(s), 0 artifact file(s) and 0 other file(s)"
      ]
     },
     "metadata": {},
     "output_type": "display_data"
    },
    {
     "data": {
      "text/plain": [
       "<IPython.core.display.HTML object>"
      ],
      "text/html": [
       "Find logs at: <code>.\\wandb\\run-20241201_224247-jhoyr23e\\logs</code>"
      ]
     },
     "metadata": {},
     "output_type": "display_data"
    },
    {
     "name": "stderr",
     "output_type": "stream",
     "text": [
      "wandb: Agent Starting Run: tujkkt59 with config:\n",
      "wandb: \tbatch_size: 256\n",
      "wandb: \tdropout_rate: 0.3635337181850721\n",
      "wandb: \tepochs: 25\n",
      "wandb: \tlearning_rate: 0.0028873943725607767\n",
      "wandb: \tlr_decay_rate: 0.4396651853842598\n",
      "wandb: \toptimizer: adam\n"
     ]
    },
    {
     "data": {
      "text/plain": [
       "<IPython.core.display.HTML object>"
      ],
      "text/html": [
       "Tracking run with wandb version 0.18.7"
      ]
     },
     "metadata": {},
     "output_type": "display_data"
    },
    {
     "data": {
      "text/plain": [
       "<IPython.core.display.HTML object>"
      ],
      "text/html": [
       "Run data is saved locally in <code>C:\\Users\\Ionut\\Documents\\Facultate\\An 3\\RN\\neural-networks\\assignment-4\\wandb\\run-20241201_224813-tujkkt59</code>"
      ]
     },
     "metadata": {},
     "output_type": "display_data"
    },
    {
     "data": {
      "text/plain": [
       "<IPython.core.display.HTML object>"
      ],
      "text/html": [
       "Syncing run <strong><a href='https://wandb.ai/ionut-calin-uaic/assignment-4/runs/tujkkt59' target=\"_blank\">gentle-sweep-25</a></strong> to <a href='https://wandb.ai/ionut-calin-uaic/assignment-4' target=\"_blank\">Weights & Biases</a> (<a href='https://wandb.me/developer-guide' target=\"_blank\">docs</a>)<br/>Sweep page: <a href='https://wandb.ai/ionut-calin-uaic/assignment-4/sweeps/2hr7fem4' target=\"_blank\">https://wandb.ai/ionut-calin-uaic/assignment-4/sweeps/2hr7fem4</a>"
      ]
     },
     "metadata": {},
     "output_type": "display_data"
    },
    {
     "data": {
      "text/plain": [
       "<IPython.core.display.HTML object>"
      ],
      "text/html": [
       " View project at <a href='https://wandb.ai/ionut-calin-uaic/assignment-4' target=\"_blank\">https://wandb.ai/ionut-calin-uaic/assignment-4</a>"
      ]
     },
     "metadata": {},
     "output_type": "display_data"
    },
    {
     "data": {
      "text/plain": [
       "<IPython.core.display.HTML object>"
      ],
      "text/html": [
       " View sweep at <a href='https://wandb.ai/ionut-calin-uaic/assignment-4/sweeps/2hr7fem4' target=\"_blank\">https://wandb.ai/ionut-calin-uaic/assignment-4/sweeps/2hr7fem4</a>"
      ]
     },
     "metadata": {},
     "output_type": "display_data"
    },
    {
     "data": {
      "text/plain": [
       "<IPython.core.display.HTML object>"
      ],
      "text/html": [
       " View run at <a href='https://wandb.ai/ionut-calin-uaic/assignment-4/runs/tujkkt59' target=\"_blank\">https://wandb.ai/ionut-calin-uaic/assignment-4/runs/tujkkt59</a>"
      ]
     },
     "metadata": {},
     "output_type": "display_data"
    },
    {
     "name": "stderr",
     "output_type": "stream",
     "text": [
      "100%|██████████| 234/234 [00:07<00:00, 32.36it/s]\n",
      "100%|██████████| 234/234 [00:07<00:00, 31.78it/s]\n",
      "100%|██████████| 234/234 [00:07<00:00, 32.38it/s]\n",
      "100%|██████████| 234/234 [00:07<00:00, 33.23it/s]\n",
      "100%|██████████| 234/234 [00:07<00:00, 33.19it/s]\n",
      "100%|██████████| 234/234 [00:07<00:00, 32.20it/s]\n",
      "100%|██████████| 234/234 [00:07<00:00, 32.42it/s]\n",
      "100%|██████████| 234/234 [00:07<00:00, 33.24it/s]\n",
      "100%|██████████| 234/234 [00:07<00:00, 33.34it/s]\n",
      "100%|██████████| 234/234 [00:07<00:00, 33.20it/s]\n",
      "100%|██████████| 234/234 [00:07<00:00, 32.41it/s]\n",
      "100%|██████████| 234/234 [00:07<00:00, 32.18it/s]\n",
      "100%|██████████| 234/234 [00:06<00:00, 33.49it/s]\n",
      "100%|██████████| 234/234 [00:07<00:00, 32.98it/s]\n",
      "100%|██████████| 234/234 [00:07<00:00, 32.29it/s]\n",
      "100%|██████████| 234/234 [00:07<00:00, 31.24it/s]\n",
      "100%|██████████| 234/234 [00:07<00:00, 30.87it/s]\n",
      "100%|██████████| 234/234 [00:07<00:00, 33.32it/s]\n",
      "100%|██████████| 234/234 [00:07<00:00, 32.88it/s]\n",
      "100%|██████████| 234/234 [00:07<00:00, 32.57it/s]\n",
      "100%|██████████| 234/234 [00:07<00:00, 32.53it/s]\n",
      "100%|██████████| 234/234 [00:07<00:00, 32.82it/s]\n",
      "100%|██████████| 234/234 [00:07<00:00, 32.91it/s]\n",
      "100%|██████████| 234/234 [00:07<00:00, 33.41it/s]\n",
      "100%|██████████| 234/234 [00:07<00:00, 31.85it/s]\n"
     ]
    },
    {
     "data": {
      "text/plain": [
       "<IPython.core.display.HTML object>"
      ],
      "text/html": [
       "\n",
       "    <style>\n",
       "        .wandb-row {\n",
       "            display: flex;\n",
       "            flex-direction: row;\n",
       "            flex-wrap: wrap;\n",
       "            justify-content: flex-start;\n",
       "            width: 100%;\n",
       "        }\n",
       "        .wandb-col {\n",
       "            display: flex;\n",
       "            flex-direction: column;\n",
       "            flex-basis: 100%;\n",
       "            flex: 1;\n",
       "            padding: 10px;\n",
       "        }\n",
       "    </style>\n",
       "<div class=\"wandb-row\"><div class=\"wandb-col\"><h3>Run history:</h3><br/><table class=\"wandb\"><tr><td>accuracy</td><td>▁▄▅▅▆▅▆▇▇▇▇▇█▇██▇█████▇██</td></tr><tr><td>epoch</td><td>▁▁▂▂▂▂▃▃▃▄▄▄▅▅▅▅▆▆▆▇▇▇▇██</td></tr></table><br/></div><div class=\"wandb-col\"><h3>Run summary:</h3><br/><table class=\"wandb\"><tr><td>accuracy</td><td>0.97396</td></tr><tr><td>epoch</td><td>24</td></tr></table><br/></div></div>"
      ]
     },
     "metadata": {},
     "output_type": "display_data"
    },
    {
     "data": {
      "text/plain": [
       "<IPython.core.display.HTML object>"
      ],
      "text/html": [
       " View run <strong style=\"color:#cdcd00\">gentle-sweep-25</strong> at: <a href='https://wandb.ai/ionut-calin-uaic/assignment-4/runs/tujkkt59' target=\"_blank\">https://wandb.ai/ionut-calin-uaic/assignment-4/runs/tujkkt59</a><br/> View project at: <a href='https://wandb.ai/ionut-calin-uaic/assignment-4' target=\"_blank\">https://wandb.ai/ionut-calin-uaic/assignment-4</a><br/>Synced 5 W&B file(s), 0 media file(s), 0 artifact file(s) and 0 other file(s)"
      ]
     },
     "metadata": {},
     "output_type": "display_data"
    },
    {
     "data": {
      "text/plain": [
       "<IPython.core.display.HTML object>"
      ],
      "text/html": [
       "Find logs at: <code>.\\wandb\\run-20241201_224813-tujkkt59\\logs</code>"
      ]
     },
     "metadata": {},
     "output_type": "display_data"
    },
    {
     "name": "stderr",
     "output_type": "stream",
     "text": [
      "wandb: Agent Starting Run: vuy1uf4s with config:\n",
      "wandb: \tbatch_size: 128\n",
      "wandb: \tdropout_rate: 0.2392867614332056\n",
      "wandb: \tepochs: 25\n",
      "wandb: \tlearning_rate: 0.00140647836141725\n",
      "wandb: \tlr_decay_rate: 0.22360965080585593\n",
      "wandb: \toptimizer: adam\n"
     ]
    },
    {
     "data": {
      "text/plain": [
       "<IPython.core.display.HTML object>"
      ],
      "text/html": [
       "Tracking run with wandb version 0.18.7"
      ]
     },
     "metadata": {},
     "output_type": "display_data"
    },
    {
     "data": {
      "text/plain": [
       "<IPython.core.display.HTML object>"
      ],
      "text/html": [
       "Run data is saved locally in <code>C:\\Users\\Ionut\\Documents\\Facultate\\An 3\\RN\\neural-networks\\assignment-4\\wandb\\run-20241201_225315-vuy1uf4s</code>"
      ]
     },
     "metadata": {},
     "output_type": "display_data"
    },
    {
     "data": {
      "text/plain": [
       "<IPython.core.display.HTML object>"
      ],
      "text/html": [
       "Syncing run <strong><a href='https://wandb.ai/ionut-calin-uaic/assignment-4/runs/vuy1uf4s' target=\"_blank\">peachy-sweep-26</a></strong> to <a href='https://wandb.ai/ionut-calin-uaic/assignment-4' target=\"_blank\">Weights & Biases</a> (<a href='https://wandb.me/developer-guide' target=\"_blank\">docs</a>)<br/>Sweep page: <a href='https://wandb.ai/ionut-calin-uaic/assignment-4/sweeps/2hr7fem4' target=\"_blank\">https://wandb.ai/ionut-calin-uaic/assignment-4/sweeps/2hr7fem4</a>"
      ]
     },
     "metadata": {},
     "output_type": "display_data"
    },
    {
     "data": {
      "text/plain": [
       "<IPython.core.display.HTML object>"
      ],
      "text/html": [
       " View project at <a href='https://wandb.ai/ionut-calin-uaic/assignment-4' target=\"_blank\">https://wandb.ai/ionut-calin-uaic/assignment-4</a>"
      ]
     },
     "metadata": {},
     "output_type": "display_data"
    },
    {
     "data": {
      "text/plain": [
       "<IPython.core.display.HTML object>"
      ],
      "text/html": [
       " View sweep at <a href='https://wandb.ai/ionut-calin-uaic/assignment-4/sweeps/2hr7fem4' target=\"_blank\">https://wandb.ai/ionut-calin-uaic/assignment-4/sweeps/2hr7fem4</a>"
      ]
     },
     "metadata": {},
     "output_type": "display_data"
    },
    {
     "data": {
      "text/plain": [
       "<IPython.core.display.HTML object>"
      ],
      "text/html": [
       " View run at <a href='https://wandb.ai/ionut-calin-uaic/assignment-4/runs/vuy1uf4s' target=\"_blank\">https://wandb.ai/ionut-calin-uaic/assignment-4/runs/vuy1uf4s</a>"
      ]
     },
     "metadata": {},
     "output_type": "display_data"
    },
    {
     "name": "stderr",
     "output_type": "stream",
     "text": [
      "100%|██████████| 468/468 [00:07<00:00, 65.51it/s] \n",
      "100%|██████████| 468/468 [00:07<00:00, 61.60it/s] \n",
      "100%|██████████| 468/468 [00:08<00:00, 53.32it/s] \n",
      "100%|██████████| 468/468 [00:07<00:00, 62.71it/s] \n",
      "100%|██████████| 468/468 [00:08<00:00, 56.11it/s] \n",
      "100%|██████████| 468/468 [00:08<00:00, 55.29it/s] \n",
      "100%|██████████| 468/468 [00:07<00:00, 64.57it/s] \n",
      "100%|██████████| 468/468 [00:07<00:00, 63.75it/s] \n",
      "100%|██████████| 468/468 [00:08<00:00, 55.96it/s] \n",
      "100%|██████████| 468/468 [00:07<00:00, 61.91it/s] \n",
      "100%|██████████| 468/468 [00:07<00:00, 64.29it/s] \n",
      "100%|██████████| 468/468 [00:07<00:00, 61.66it/s] \n",
      "100%|██████████| 468/468 [00:09<00:00, 48.07it/s] \n",
      "100%|██████████| 468/468 [00:07<00:00, 62.86it/s] \n",
      "100%|██████████| 468/468 [00:07<00:00, 61.38it/s] \n",
      "100%|██████████| 468/468 [00:08<00:00, 53.77it/s] \n",
      "100%|██████████| 468/468 [00:08<00:00, 57.97it/s] \n",
      "100%|██████████| 468/468 [00:07<00:00, 62.85it/s] \n",
      "100%|██████████| 468/468 [00:07<00:00, 64.49it/s] \n",
      "100%|██████████| 468/468 [00:07<00:00, 64.52it/s] \n",
      "100%|██████████| 468/468 [00:07<00:00, 61.69it/s] \n",
      "100%|██████████| 468/468 [00:07<00:00, 61.95it/s] \n",
      "100%|██████████| 468/468 [00:07<00:00, 62.31it/s] \n",
      "100%|██████████| 468/468 [00:09<00:00, 51.66it/s] \n",
      "100%|██████████| 468/468 [00:07<00:00, 60.07it/s] \n"
     ]
    },
    {
     "data": {
      "text/plain": [
       "<IPython.core.display.HTML object>"
      ],
      "text/html": [
       "\n",
       "    <style>\n",
       "        .wandb-row {\n",
       "            display: flex;\n",
       "            flex-direction: row;\n",
       "            flex-wrap: wrap;\n",
       "            justify-content: flex-start;\n",
       "            width: 100%;\n",
       "        }\n",
       "        .wandb-col {\n",
       "            display: flex;\n",
       "            flex-direction: column;\n",
       "            flex-basis: 100%;\n",
       "            flex: 1;\n",
       "            padding: 10px;\n",
       "        }\n",
       "    </style>\n",
       "<div class=\"wandb-row\"><div class=\"wandb-col\"><h3>Run history:</h3><br/><table class=\"wandb\"><tr><td>accuracy</td><td>▁▄▅▅▆▆▆▇▇▇█▇▇█▇██████████</td></tr><tr><td>epoch</td><td>▁▁▂▂▂▂▃▃▃▄▄▄▅▅▅▅▆▆▆▇▇▇▇██</td></tr></table><br/></div><div class=\"wandb-col\"><h3>Run summary:</h3><br/><table class=\"wandb\"><tr><td>accuracy</td><td>0.97947</td></tr><tr><td>epoch</td><td>24</td></tr></table><br/></div></div>"
      ]
     },
     "metadata": {},
     "output_type": "display_data"
    },
    {
     "data": {
      "text/plain": [
       "<IPython.core.display.HTML object>"
      ],
      "text/html": [
       " View run <strong style=\"color:#cdcd00\">peachy-sweep-26</strong> at: <a href='https://wandb.ai/ionut-calin-uaic/assignment-4/runs/vuy1uf4s' target=\"_blank\">https://wandb.ai/ionut-calin-uaic/assignment-4/runs/vuy1uf4s</a><br/> View project at: <a href='https://wandb.ai/ionut-calin-uaic/assignment-4' target=\"_blank\">https://wandb.ai/ionut-calin-uaic/assignment-4</a><br/>Synced 5 W&B file(s), 0 media file(s), 0 artifact file(s) and 0 other file(s)"
      ]
     },
     "metadata": {},
     "output_type": "display_data"
    },
    {
     "data": {
      "text/plain": [
       "<IPython.core.display.HTML object>"
      ],
      "text/html": [
       "Find logs at: <code>.\\wandb\\run-20241201_225315-vuy1uf4s\\logs</code>"
      ]
     },
     "metadata": {},
     "output_type": "display_data"
    },
    {
     "name": "stderr",
     "output_type": "stream",
     "text": [
      "wandb: Agent Starting Run: 3gq6rmim with config:\n",
      "wandb: \tbatch_size: 128\n",
      "wandb: \tdropout_rate: 0.3367510204631523\n",
      "wandb: \tepochs: 25\n",
      "wandb: \tlearning_rate: 0.004915673142730071\n",
      "wandb: \tlr_decay_rate: 0.45491662501394015\n",
      "wandb: \toptimizer: adam\n"
     ]
    },
    {
     "data": {
      "text/plain": [
       "<IPython.core.display.HTML object>"
      ],
      "text/html": [
       "Tracking run with wandb version 0.18.7"
      ]
     },
     "metadata": {},
     "output_type": "display_data"
    },
    {
     "data": {
      "text/plain": [
       "<IPython.core.display.HTML object>"
      ],
      "text/html": [
       "Run data is saved locally in <code>C:\\Users\\Ionut\\Documents\\Facultate\\An 3\\RN\\neural-networks\\assignment-4\\wandb\\run-20241201_225841-3gq6rmim</code>"
      ]
     },
     "metadata": {},
     "output_type": "display_data"
    },
    {
     "data": {
      "text/plain": [
       "<IPython.core.display.HTML object>"
      ],
      "text/html": [
       "Syncing run <strong><a href='https://wandb.ai/ionut-calin-uaic/assignment-4/runs/3gq6rmim' target=\"_blank\">royal-sweep-27</a></strong> to <a href='https://wandb.ai/ionut-calin-uaic/assignment-4' target=\"_blank\">Weights & Biases</a> (<a href='https://wandb.me/developer-guide' target=\"_blank\">docs</a>)<br/>Sweep page: <a href='https://wandb.ai/ionut-calin-uaic/assignment-4/sweeps/2hr7fem4' target=\"_blank\">https://wandb.ai/ionut-calin-uaic/assignment-4/sweeps/2hr7fem4</a>"
      ]
     },
     "metadata": {},
     "output_type": "display_data"
    },
    {
     "data": {
      "text/plain": [
       "<IPython.core.display.HTML object>"
      ],
      "text/html": [
       " View project at <a href='https://wandb.ai/ionut-calin-uaic/assignment-4' target=\"_blank\">https://wandb.ai/ionut-calin-uaic/assignment-4</a>"
      ]
     },
     "metadata": {},
     "output_type": "display_data"
    },
    {
     "data": {
      "text/plain": [
       "<IPython.core.display.HTML object>"
      ],
      "text/html": [
       " View sweep at <a href='https://wandb.ai/ionut-calin-uaic/assignment-4/sweeps/2hr7fem4' target=\"_blank\">https://wandb.ai/ionut-calin-uaic/assignment-4/sweeps/2hr7fem4</a>"
      ]
     },
     "metadata": {},
     "output_type": "display_data"
    },
    {
     "data": {
      "text/plain": [
       "<IPython.core.display.HTML object>"
      ],
      "text/html": [
       " View run at <a href='https://wandb.ai/ionut-calin-uaic/assignment-4/runs/3gq6rmim' target=\"_blank\">https://wandb.ai/ionut-calin-uaic/assignment-4/runs/3gq6rmim</a>"
      ]
     },
     "metadata": {},
     "output_type": "display_data"
    },
    {
     "name": "stderr",
     "output_type": "stream",
     "text": [
      "100%|██████████| 468/468 [00:07<00:00, 61.13it/s] \n",
      "100%|██████████| 468/468 [00:08<00:00, 55.33it/s] \n",
      "100%|██████████| 468/468 [00:08<00:00, 58.14it/s] \n",
      "100%|██████████| 468/468 [00:07<00:00, 64.91it/s] \n",
      "100%|██████████| 468/468 [00:07<00:00, 64.64it/s] \n",
      "100%|██████████| 468/468 [00:07<00:00, 60.31it/s] \n",
      "100%|██████████| 468/468 [00:08<00:00, 53.04it/s] \n",
      "100%|██████████| 468/468 [00:07<00:00, 58.78it/s] \n",
      "100%|██████████| 468/468 [00:07<00:00, 60.91it/s] \n",
      "100%|██████████| 468/468 [00:08<00:00, 55.58it/s] \n",
      "100%|██████████| 468/468 [00:08<00:00, 53.95it/s] \n",
      "100%|██████████| 468/468 [00:08<00:00, 53.20it/s] \n",
      "100%|██████████| 468/468 [00:08<00:00, 54.61it/s] \n",
      "100%|██████████| 468/468 [00:08<00:00, 54.94it/s] \n",
      "100%|██████████| 468/468 [00:08<00:00, 54.59it/s] \n",
      "100%|██████████| 468/468 [00:08<00:00, 55.22it/s] \n",
      "100%|██████████| 468/468 [00:08<00:00, 52.54it/s] \n",
      "100%|██████████| 468/468 [00:07<00:00, 62.15it/s] \n",
      "100%|██████████| 468/468 [00:07<00:00, 63.20it/s] \n",
      "100%|██████████| 468/468 [00:07<00:00, 64.25it/s] \n",
      "100%|██████████| 468/468 [00:08<00:00, 55.07it/s] \n",
      "100%|██████████| 468/468 [00:08<00:00, 55.89it/s] \n",
      "100%|██████████| 468/468 [00:07<00:00, 61.44it/s] \n",
      "100%|██████████| 468/468 [00:07<00:00, 58.63it/s] \n",
      "100%|██████████| 468/468 [00:07<00:00, 63.55it/s] \n"
     ]
    },
    {
     "data": {
      "text/plain": [
       "<IPython.core.display.HTML object>"
      ],
      "text/html": [
       "\n",
       "    <style>\n",
       "        .wandb-row {\n",
       "            display: flex;\n",
       "            flex-direction: row;\n",
       "            flex-wrap: wrap;\n",
       "            justify-content: flex-start;\n",
       "            width: 100%;\n",
       "        }\n",
       "        .wandb-col {\n",
       "            display: flex;\n",
       "            flex-direction: column;\n",
       "            flex-basis: 100%;\n",
       "            flex: 1;\n",
       "            padding: 10px;\n",
       "        }\n",
       "    </style>\n",
       "<div class=\"wandb-row\"><div class=\"wandb-col\"><h3>Run history:</h3><br/><table class=\"wandb\"><tr><td>accuracy</td><td>▁▄▅▆▆▆▆▇▇▇▇▇█▇███▆▇▇█▇▇█▆</td></tr><tr><td>epoch</td><td>▁▁▂▂▂▂▃▃▃▄▄▄▅▅▅▅▆▆▆▇▇▇▇██</td></tr></table><br/></div><div class=\"wandb-col\"><h3>Run summary:</h3><br/><table class=\"wandb\"><tr><td>accuracy</td><td>0.95833</td></tr><tr><td>epoch</td><td>24</td></tr></table><br/></div></div>"
      ]
     },
     "metadata": {},
     "output_type": "display_data"
    },
    {
     "data": {
      "text/plain": [
       "<IPython.core.display.HTML object>"
      ],
      "text/html": [
       " View run <strong style=\"color:#cdcd00\">royal-sweep-27</strong> at: <a href='https://wandb.ai/ionut-calin-uaic/assignment-4/runs/3gq6rmim' target=\"_blank\">https://wandb.ai/ionut-calin-uaic/assignment-4/runs/3gq6rmim</a><br/> View project at: <a href='https://wandb.ai/ionut-calin-uaic/assignment-4' target=\"_blank\">https://wandb.ai/ionut-calin-uaic/assignment-4</a><br/>Synced 5 W&B file(s), 0 media file(s), 0 artifact file(s) and 0 other file(s)"
      ]
     },
     "metadata": {},
     "output_type": "display_data"
    },
    {
     "data": {
      "text/plain": [
       "<IPython.core.display.HTML object>"
      ],
      "text/html": [
       "Find logs at: <code>.\\wandb\\run-20241201_225841-3gq6rmim\\logs</code>"
      ]
     },
     "metadata": {},
     "output_type": "display_data"
    },
    {
     "name": "stderr",
     "output_type": "stream",
     "text": [
      "wandb: Agent Starting Run: v40k3ufv with config:\n",
      "wandb: \tbatch_size: 256\n",
      "wandb: \tdropout_rate: 0.40585375349151975\n",
      "wandb: \tepochs: 25\n",
      "wandb: \tlearning_rate: 0.004281788189243048\n",
      "wandb: \tlr_decay_rate: 0.44581426650747946\n",
      "wandb: \toptimizer: adam\n"
     ]
    },
    {
     "data": {
      "text/plain": [
       "<IPython.core.display.HTML object>"
      ],
      "text/html": [
       "Tracking run with wandb version 0.18.7"
      ]
     },
     "metadata": {},
     "output_type": "display_data"
    },
    {
     "data": {
      "text/plain": [
       "<IPython.core.display.HTML object>"
      ],
      "text/html": [
       "Run data is saved locally in <code>C:\\Users\\Ionut\\Documents\\Facultate\\An 3\\RN\\neural-networks\\assignment-4\\wandb\\run-20241201_230414-v40k3ufv</code>"
      ]
     },
     "metadata": {},
     "output_type": "display_data"
    },
    {
     "data": {
      "text/plain": [
       "<IPython.core.display.HTML object>"
      ],
      "text/html": [
       "Syncing run <strong><a href='https://wandb.ai/ionut-calin-uaic/assignment-4/runs/v40k3ufv' target=\"_blank\">lilac-sweep-28</a></strong> to <a href='https://wandb.ai/ionut-calin-uaic/assignment-4' target=\"_blank\">Weights & Biases</a> (<a href='https://wandb.me/developer-guide' target=\"_blank\">docs</a>)<br/>Sweep page: <a href='https://wandb.ai/ionut-calin-uaic/assignment-4/sweeps/2hr7fem4' target=\"_blank\">https://wandb.ai/ionut-calin-uaic/assignment-4/sweeps/2hr7fem4</a>"
      ]
     },
     "metadata": {},
     "output_type": "display_data"
    },
    {
     "data": {
      "text/plain": [
       "<IPython.core.display.HTML object>"
      ],
      "text/html": [
       " View project at <a href='https://wandb.ai/ionut-calin-uaic/assignment-4' target=\"_blank\">https://wandb.ai/ionut-calin-uaic/assignment-4</a>"
      ]
     },
     "metadata": {},
     "output_type": "display_data"
    },
    {
     "data": {
      "text/plain": [
       "<IPython.core.display.HTML object>"
      ],
      "text/html": [
       " View sweep at <a href='https://wandb.ai/ionut-calin-uaic/assignment-4/sweeps/2hr7fem4' target=\"_blank\">https://wandb.ai/ionut-calin-uaic/assignment-4/sweeps/2hr7fem4</a>"
      ]
     },
     "metadata": {},
     "output_type": "display_data"
    },
    {
     "data": {
      "text/plain": [
       "<IPython.core.display.HTML object>"
      ],
      "text/html": [
       " View run at <a href='https://wandb.ai/ionut-calin-uaic/assignment-4/runs/v40k3ufv' target=\"_blank\">https://wandb.ai/ionut-calin-uaic/assignment-4/runs/v40k3ufv</a>"
      ]
     },
     "metadata": {},
     "output_type": "display_data"
    },
    {
     "name": "stderr",
     "output_type": "stream",
     "text": [
      "100%|██████████| 234/234 [00:07<00:00, 32.13it/s]\n",
      "100%|██████████| 234/234 [00:07<00:00, 32.42it/s]\n",
      "100%|██████████| 234/234 [00:07<00:00, 30.69it/s]\n",
      "100%|██████████| 234/234 [00:07<00:00, 31.15it/s]\n",
      "100%|██████████| 234/234 [00:07<00:00, 32.83it/s]\n",
      "100%|██████████| 234/234 [00:07<00:00, 31.92it/s]\n",
      "100%|██████████| 234/234 [00:07<00:00, 29.44it/s]\n",
      "100%|██████████| 234/234 [00:07<00:00, 31.37it/s]\n",
      "100%|██████████| 234/234 [00:07<00:00, 31.52it/s]\n",
      "100%|██████████| 234/234 [00:07<00:00, 31.58it/s]\n",
      "100%|██████████| 234/234 [00:07<00:00, 31.71it/s]\n",
      "100%|██████████| 234/234 [00:07<00:00, 32.61it/s]\n",
      "100%|██████████| 234/234 [00:07<00:00, 32.88it/s]\n",
      "100%|██████████| 234/234 [00:08<00:00, 28.53it/s]\n",
      "100%|██████████| 234/234 [00:09<00:00, 25.89it/s]\n",
      "100%|██████████| 234/234 [00:07<00:00, 29.46it/s]\n",
      "100%|██████████| 234/234 [00:07<00:00, 30.83it/s]\n",
      "100%|██████████| 234/234 [00:07<00:00, 31.65it/s]\n",
      "100%|██████████| 234/234 [00:08<00:00, 27.47it/s]\n",
      "100%|██████████| 234/234 [00:07<00:00, 29.53it/s]\n",
      "100%|██████████| 234/234 [00:07<00:00, 30.73it/s]\n",
      "100%|██████████| 234/234 [00:07<00:00, 31.73it/s]\n",
      "100%|██████████| 234/234 [00:07<00:00, 29.45it/s]\n",
      "100%|██████████| 234/234 [00:07<00:00, 29.77it/s]\n",
      "100%|██████████| 234/234 [00:07<00:00, 31.57it/s]\n"
     ]
    },
    {
     "data": {
      "text/plain": [
       "<IPython.core.display.HTML object>"
      ],
      "text/html": [
       "\n",
       "    <style>\n",
       "        .wandb-row {\n",
       "            display: flex;\n",
       "            flex-direction: row;\n",
       "            flex-wrap: wrap;\n",
       "            justify-content: flex-start;\n",
       "            width: 100%;\n",
       "        }\n",
       "        .wandb-col {\n",
       "            display: flex;\n",
       "            flex-direction: column;\n",
       "            flex-basis: 100%;\n",
       "            flex: 1;\n",
       "            padding: 10px;\n",
       "        }\n",
       "    </style>\n",
       "<div class=\"wandb-row\"><div class=\"wandb-col\"><h3>Run history:</h3><br/><table class=\"wandb\"><tr><td>accuracy</td><td>▁▃▄▅▅▆▆▆▆▇▇▇▇▇▇▇███████▇█</td></tr><tr><td>epoch</td><td>▁▁▂▂▂▂▃▃▃▄▄▄▅▅▅▅▆▆▆▇▇▇▇██</td></tr></table><br/></div><div class=\"wandb-col\"><h3>Run summary:</h3><br/><table class=\"wandb\"><tr><td>accuracy</td><td>0.97226</td></tr><tr><td>epoch</td><td>24</td></tr></table><br/></div></div>"
      ]
     },
     "metadata": {},
     "output_type": "display_data"
    },
    {
     "data": {
      "text/plain": [
       "<IPython.core.display.HTML object>"
      ],
      "text/html": [
       " View run <strong style=\"color:#cdcd00\">lilac-sweep-28</strong> at: <a href='https://wandb.ai/ionut-calin-uaic/assignment-4/runs/v40k3ufv' target=\"_blank\">https://wandb.ai/ionut-calin-uaic/assignment-4/runs/v40k3ufv</a><br/> View project at: <a href='https://wandb.ai/ionut-calin-uaic/assignment-4' target=\"_blank\">https://wandb.ai/ionut-calin-uaic/assignment-4</a><br/>Synced 5 W&B file(s), 0 media file(s), 0 artifact file(s) and 0 other file(s)"
      ]
     },
     "metadata": {},
     "output_type": "display_data"
    },
    {
     "data": {
      "text/plain": [
       "<IPython.core.display.HTML object>"
      ],
      "text/html": [
       "Find logs at: <code>.\\wandb\\run-20241201_230414-v40k3ufv\\logs</code>"
      ]
     },
     "metadata": {},
     "output_type": "display_data"
    },
    {
     "name": "stderr",
     "output_type": "stream",
     "text": [
      "wandb: Agent Starting Run: 3d9qo7p0 with config:\n",
      "wandb: \tbatch_size: 512\n",
      "wandb: \tdropout_rate: 0.2101045713863268\n",
      "wandb: \tepochs: 25\n",
      "wandb: \tlearning_rate: 0.009661040387303633\n",
      "wandb: \tlr_decay_rate: 0.38817679111404535\n",
      "wandb: \toptimizer: adam\n"
     ]
    },
    {
     "data": {
      "text/plain": [
       "<IPython.core.display.HTML object>"
      ],
      "text/html": [
       "Tracking run with wandb version 0.18.7"
      ]
     },
     "metadata": {},
     "output_type": "display_data"
    },
    {
     "data": {
      "text/plain": [
       "<IPython.core.display.HTML object>"
      ],
      "text/html": [
       "Run data is saved locally in <code>C:\\Users\\Ionut\\Documents\\Facultate\\An 3\\RN\\neural-networks\\assignment-4\\wandb\\run-20241201_230935-3d9qo7p0</code>"
      ]
     },
     "metadata": {},
     "output_type": "display_data"
    },
    {
     "data": {
      "text/plain": [
       "<IPython.core.display.HTML object>"
      ],
      "text/html": [
       "Syncing run <strong><a href='https://wandb.ai/ionut-calin-uaic/assignment-4/runs/3d9qo7p0' target=\"_blank\">fallen-sweep-29</a></strong> to <a href='https://wandb.ai/ionut-calin-uaic/assignment-4' target=\"_blank\">Weights & Biases</a> (<a href='https://wandb.me/developer-guide' target=\"_blank\">docs</a>)<br/>Sweep page: <a href='https://wandb.ai/ionut-calin-uaic/assignment-4/sweeps/2hr7fem4' target=\"_blank\">https://wandb.ai/ionut-calin-uaic/assignment-4/sweeps/2hr7fem4</a>"
      ]
     },
     "metadata": {},
     "output_type": "display_data"
    },
    {
     "data": {
      "text/plain": [
       "<IPython.core.display.HTML object>"
      ],
      "text/html": [
       " View project at <a href='https://wandb.ai/ionut-calin-uaic/assignment-4' target=\"_blank\">https://wandb.ai/ionut-calin-uaic/assignment-4</a>"
      ]
     },
     "metadata": {},
     "output_type": "display_data"
    },
    {
     "data": {
      "text/plain": [
       "<IPython.core.display.HTML object>"
      ],
      "text/html": [
       " View sweep at <a href='https://wandb.ai/ionut-calin-uaic/assignment-4/sweeps/2hr7fem4' target=\"_blank\">https://wandb.ai/ionut-calin-uaic/assignment-4/sweeps/2hr7fem4</a>"
      ]
     },
     "metadata": {},
     "output_type": "display_data"
    },
    {
     "data": {
      "text/plain": [
       "<IPython.core.display.HTML object>"
      ],
      "text/html": [
       " View run at <a href='https://wandb.ai/ionut-calin-uaic/assignment-4/runs/3d9qo7p0' target=\"_blank\">https://wandb.ai/ionut-calin-uaic/assignment-4/runs/3d9qo7p0</a>"
      ]
     },
     "metadata": {},
     "output_type": "display_data"
    },
    {
     "name": "stderr",
     "output_type": "stream",
     "text": [
      "100%|██████████| 117/117 [00:07<00:00, 16.61it/s]\n",
      "100%|██████████| 117/117 [00:06<00:00, 16.76it/s]\n",
      "100%|██████████| 117/117 [00:08<00:00, 13.97it/s]\n",
      "100%|██████████| 117/117 [00:07<00:00, 14.66it/s]\n",
      "100%|██████████| 117/117 [00:08<00:00, 14.13it/s]\n",
      "100%|██████████| 117/117 [00:08<00:00, 14.16it/s]\n",
      "100%|██████████| 117/117 [00:08<00:00, 14.58it/s]\n",
      "100%|██████████| 117/117 [00:08<00:00, 14.32it/s]\n",
      "100%|██████████| 117/117 [00:07<00:00, 15.08it/s]\n",
      "100%|██████████| 117/117 [00:08<00:00, 14.61it/s]\n",
      "100%|██████████| 117/117 [00:08<00:00, 14.62it/s]\n",
      "100%|██████████| 117/117 [00:08<00:00, 13.83it/s]\n",
      "100%|██████████| 117/117 [00:08<00:00, 14.32it/s]\n",
      "100%|██████████| 117/117 [00:08<00:00, 13.65it/s]\n",
      "100%|██████████| 117/117 [00:08<00:00, 13.19it/s]\n",
      "100%|██████████| 117/117 [00:08<00:00, 13.93it/s]\n",
      "100%|██████████| 117/117 [00:08<00:00, 14.00it/s]\n",
      "100%|██████████| 117/117 [00:09<00:00, 12.88it/s]\n",
      "100%|██████████| 117/117 [00:08<00:00, 14.10it/s]\n",
      "100%|██████████| 117/117 [00:08<00:00, 14.07it/s]\n",
      "100%|██████████| 117/117 [00:08<00:00, 13.78it/s]\n",
      "100%|██████████| 117/117 [00:07<00:00, 14.87it/s]\n",
      "100%|██████████| 117/117 [00:07<00:00, 15.62it/s]\n",
      "100%|██████████| 117/117 [00:07<00:00, 15.15it/s]\n",
      "100%|██████████| 117/117 [00:08<00:00, 14.62it/s]\n"
     ]
    },
    {
     "data": {
      "text/plain": [
       "<IPython.core.display.HTML object>"
      ],
      "text/html": [
       "\n",
       "    <style>\n",
       "        .wandb-row {\n",
       "            display: flex;\n",
       "            flex-direction: row;\n",
       "            flex-wrap: wrap;\n",
       "            justify-content: flex-start;\n",
       "            width: 100%;\n",
       "        }\n",
       "        .wandb-col {\n",
       "            display: flex;\n",
       "            flex-direction: column;\n",
       "            flex-basis: 100%;\n",
       "            flex: 1;\n",
       "            padding: 10px;\n",
       "        }\n",
       "    </style>\n",
       "<div class=\"wandb-row\"><div class=\"wandb-col\"><h3>Run history:</h3><br/><table class=\"wandb\"><tr><td>accuracy</td><td>▁▃▄▅▆▆▆▇▆▇▇▇█▇█▇▇▇███▇██▇</td></tr><tr><td>epoch</td><td>▁▁▂▂▂▂▃▃▃▄▄▄▅▅▅▅▆▆▆▇▇▇▇██</td></tr></table><br/></div><div class=\"wandb-col\"><h3>Run summary:</h3><br/><table class=\"wandb\"><tr><td>accuracy</td><td>0.96885</td></tr><tr><td>epoch</td><td>24</td></tr></table><br/></div></div>"
      ]
     },
     "metadata": {},
     "output_type": "display_data"
    },
    {
     "data": {
      "text/plain": [
       "<IPython.core.display.HTML object>"
      ],
      "text/html": [
       " View run <strong style=\"color:#cdcd00\">fallen-sweep-29</strong> at: <a href='https://wandb.ai/ionut-calin-uaic/assignment-4/runs/3d9qo7p0' target=\"_blank\">https://wandb.ai/ionut-calin-uaic/assignment-4/runs/3d9qo7p0</a><br/> View project at: <a href='https://wandb.ai/ionut-calin-uaic/assignment-4' target=\"_blank\">https://wandb.ai/ionut-calin-uaic/assignment-4</a><br/>Synced 5 W&B file(s), 0 media file(s), 0 artifact file(s) and 0 other file(s)"
      ]
     },
     "metadata": {},
     "output_type": "display_data"
    },
    {
     "data": {
      "text/plain": [
       "<IPython.core.display.HTML object>"
      ],
      "text/html": [
       "Find logs at: <code>.\\wandb\\run-20241201_230935-3d9qo7p0\\logs</code>"
      ]
     },
     "metadata": {},
     "output_type": "display_data"
    },
    {
     "name": "stderr",
     "output_type": "stream",
     "text": [
      "wandb: Agent Starting Run: 2mzrzh1e with config:\n",
      "wandb: \tbatch_size: 256\n",
      "wandb: \tdropout_rate: 0.12388243840995072\n",
      "wandb: \tepochs: 25\n",
      "wandb: \tlearning_rate: 0.009872969134325182\n",
      "wandb: \tlr_decay_rate: 0.10731113807855866\n",
      "wandb: \toptimizer: adam\n"
     ]
    },
    {
     "data": {
      "text/plain": [
       "<IPython.core.display.HTML object>"
      ],
      "text/html": [
       "Tracking run with wandb version 0.18.7"
      ]
     },
     "metadata": {},
     "output_type": "display_data"
    },
    {
     "data": {
      "text/plain": [
       "<IPython.core.display.HTML object>"
      ],
      "text/html": [
       "Run data is saved locally in <code>C:\\Users\\Ionut\\Documents\\Facultate\\An 3\\RN\\neural-networks\\assignment-4\\wandb\\run-20241201_231518-2mzrzh1e</code>"
      ]
     },
     "metadata": {},
     "output_type": "display_data"
    },
    {
     "data": {
      "text/plain": [
       "<IPython.core.display.HTML object>"
      ],
      "text/html": [
       "Syncing run <strong><a href='https://wandb.ai/ionut-calin-uaic/assignment-4/runs/2mzrzh1e' target=\"_blank\">swept-sweep-30</a></strong> to <a href='https://wandb.ai/ionut-calin-uaic/assignment-4' target=\"_blank\">Weights & Biases</a> (<a href='https://wandb.me/developer-guide' target=\"_blank\">docs</a>)<br/>Sweep page: <a href='https://wandb.ai/ionut-calin-uaic/assignment-4/sweeps/2hr7fem4' target=\"_blank\">https://wandb.ai/ionut-calin-uaic/assignment-4/sweeps/2hr7fem4</a>"
      ]
     },
     "metadata": {},
     "output_type": "display_data"
    },
    {
     "data": {
      "text/plain": [
       "<IPython.core.display.HTML object>"
      ],
      "text/html": [
       " View project at <a href='https://wandb.ai/ionut-calin-uaic/assignment-4' target=\"_blank\">https://wandb.ai/ionut-calin-uaic/assignment-4</a>"
      ]
     },
     "metadata": {},
     "output_type": "display_data"
    },
    {
     "data": {
      "text/plain": [
       "<IPython.core.display.HTML object>"
      ],
      "text/html": [
       " View sweep at <a href='https://wandb.ai/ionut-calin-uaic/assignment-4/sweeps/2hr7fem4' target=\"_blank\">https://wandb.ai/ionut-calin-uaic/assignment-4/sweeps/2hr7fem4</a>"
      ]
     },
     "metadata": {},
     "output_type": "display_data"
    },
    {
     "data": {
      "text/plain": [
       "<IPython.core.display.HTML object>"
      ],
      "text/html": [
       " View run at <a href='https://wandb.ai/ionut-calin-uaic/assignment-4/runs/2mzrzh1e' target=\"_blank\">https://wandb.ai/ionut-calin-uaic/assignment-4/runs/2mzrzh1e</a>"
      ]
     },
     "metadata": {},
     "output_type": "display_data"
    },
    {
     "name": "stderr",
     "output_type": "stream",
     "text": [
      "100%|██████████| 234/234 [00:07<00:00, 29.61it/s]\n",
      "100%|██████████| 234/234 [00:07<00:00, 31.53it/s]\n",
      "100%|██████████| 234/234 [00:07<00:00, 32.54it/s]\n",
      "100%|██████████| 234/234 [00:07<00:00, 32.73it/s]\n",
      "100%|██████████| 234/234 [00:07<00:00, 32.12it/s]\n",
      "100%|██████████| 234/234 [00:07<00:00, 29.48it/s]\n",
      "100%|██████████| 234/234 [00:07<00:00, 32.41it/s]\n",
      "100%|██████████| 234/234 [00:07<00:00, 32.24it/s]\n",
      "100%|██████████| 234/234 [00:07<00:00, 31.86it/s]\n",
      "100%|██████████| 234/234 [00:07<00:00, 32.19it/s]\n",
      "100%|██████████| 234/234 [00:07<00:00, 32.67it/s]\n",
      "100%|██████████| 234/234 [00:07<00:00, 31.99it/s]\n",
      "100%|██████████| 234/234 [00:07<00:00, 32.39it/s]\n",
      "100%|██████████| 234/234 [00:07<00:00, 32.46it/s]\n",
      "100%|██████████| 234/234 [00:07<00:00, 31.92it/s]\n",
      "100%|██████████| 234/234 [00:07<00:00, 32.43it/s]\n",
      "100%|██████████| 234/234 [00:08<00:00, 27.24it/s]\n",
      "100%|██████████| 234/234 [00:08<00:00, 28.11it/s]\n",
      "100%|██████████| 234/234 [00:07<00:00, 32.18it/s]\n",
      "100%|██████████| 234/234 [00:07<00:00, 31.54it/s]\n",
      "100%|██████████| 234/234 [00:07<00:00, 29.38it/s]\n",
      "100%|██████████| 234/234 [00:09<00:00, 25.85it/s]\n",
      "100%|██████████| 234/234 [00:07<00:00, 30.27it/s]\n",
      "100%|██████████| 234/234 [00:07<00:00, 30.98it/s]\n",
      "100%|██████████| 234/234 [00:07<00:00, 30.40it/s]\n"
     ]
    },
    {
     "data": {
      "text/plain": [
       "<IPython.core.display.HTML object>"
      ],
      "text/html": [
       "\n",
       "    <style>\n",
       "        .wandb-row {\n",
       "            display: flex;\n",
       "            flex-direction: row;\n",
       "            flex-wrap: wrap;\n",
       "            justify-content: flex-start;\n",
       "            width: 100%;\n",
       "        }\n",
       "        .wandb-col {\n",
       "            display: flex;\n",
       "            flex-direction: column;\n",
       "            flex-basis: 100%;\n",
       "            flex: 1;\n",
       "            padding: 10px;\n",
       "        }\n",
       "    </style>\n",
       "<div class=\"wandb-row\"><div class=\"wandb-col\"><h3>Run history:</h3><br/><table class=\"wandb\"><tr><td>accuracy</td><td>▁▄▅▅▆▆▇▇▆▇▇▅▇▇▆█▇█▇█▇▇███</td></tr><tr><td>epoch</td><td>▁▁▂▂▂▂▃▃▃▄▄▄▅▅▅▅▆▆▆▇▇▇▇██</td></tr></table><br/></div><div class=\"wandb-col\"><h3>Run summary:</h3><br/><table class=\"wandb\"><tr><td>accuracy</td><td>0.96925</td></tr><tr><td>epoch</td><td>24</td></tr></table><br/></div></div>"
      ]
     },
     "metadata": {},
     "output_type": "display_data"
    },
    {
     "data": {
      "text/plain": [
       "<IPython.core.display.HTML object>"
      ],
      "text/html": [
       " View run <strong style=\"color:#cdcd00\">swept-sweep-30</strong> at: <a href='https://wandb.ai/ionut-calin-uaic/assignment-4/runs/2mzrzh1e' target=\"_blank\">https://wandb.ai/ionut-calin-uaic/assignment-4/runs/2mzrzh1e</a><br/> View project at: <a href='https://wandb.ai/ionut-calin-uaic/assignment-4' target=\"_blank\">https://wandb.ai/ionut-calin-uaic/assignment-4</a><br/>Synced 5 W&B file(s), 0 media file(s), 0 artifact file(s) and 0 other file(s)"
      ]
     },
     "metadata": {},
     "output_type": "display_data"
    },
    {
     "data": {
      "text/plain": [
       "<IPython.core.display.HTML object>"
      ],
      "text/html": [
       "Find logs at: <code>.\\wandb\\run-20241201_231518-2mzrzh1e\\logs</code>"
      ]
     },
     "metadata": {},
     "output_type": "display_data"
    },
    {
     "name": "stderr",
     "output_type": "stream",
     "text": [
      "wandb: Agent Starting Run: mpfbln5x with config:\n",
      "wandb: \tbatch_size: 256\n",
      "wandb: \tdropout_rate: 0.13328356630139948\n",
      "wandb: \tepochs: 25\n",
      "wandb: \tlearning_rate: 0.0015389202376013202\n",
      "wandb: \tlr_decay_rate: 0.19133724297235777\n",
      "wandb: \toptimizer: adam\n"
     ]
    },
    {
     "data": {
      "text/plain": [
       "<IPython.core.display.HTML object>"
      ],
      "text/html": [
       "Tracking run with wandb version 0.18.7"
      ]
     },
     "metadata": {},
     "output_type": "display_data"
    },
    {
     "data": {
      "text/plain": [
       "<IPython.core.display.HTML object>"
      ],
      "text/html": [
       "Run data is saved locally in <code>C:\\Users\\Ionut\\Documents\\Facultate\\An 3\\RN\\neural-networks\\assignment-4\\wandb\\run-20241201_232035-mpfbln5x</code>"
      ]
     },
     "metadata": {},
     "output_type": "display_data"
    },
    {
     "data": {
      "text/plain": [
       "<IPython.core.display.HTML object>"
      ],
      "text/html": [
       "Syncing run <strong><a href='https://wandb.ai/ionut-calin-uaic/assignment-4/runs/mpfbln5x' target=\"_blank\">glorious-sweep-31</a></strong> to <a href='https://wandb.ai/ionut-calin-uaic/assignment-4' target=\"_blank\">Weights & Biases</a> (<a href='https://wandb.me/developer-guide' target=\"_blank\">docs</a>)<br/>Sweep page: <a href='https://wandb.ai/ionut-calin-uaic/assignment-4/sweeps/2hr7fem4' target=\"_blank\">https://wandb.ai/ionut-calin-uaic/assignment-4/sweeps/2hr7fem4</a>"
      ]
     },
     "metadata": {},
     "output_type": "display_data"
    },
    {
     "data": {
      "text/plain": [
       "<IPython.core.display.HTML object>"
      ],
      "text/html": [
       " View project at <a href='https://wandb.ai/ionut-calin-uaic/assignment-4' target=\"_blank\">https://wandb.ai/ionut-calin-uaic/assignment-4</a>"
      ]
     },
     "metadata": {},
     "output_type": "display_data"
    },
    {
     "data": {
      "text/plain": [
       "<IPython.core.display.HTML object>"
      ],
      "text/html": [
       " View sweep at <a href='https://wandb.ai/ionut-calin-uaic/assignment-4/sweeps/2hr7fem4' target=\"_blank\">https://wandb.ai/ionut-calin-uaic/assignment-4/sweeps/2hr7fem4</a>"
      ]
     },
     "metadata": {},
     "output_type": "display_data"
    },
    {
     "data": {
      "text/plain": [
       "<IPython.core.display.HTML object>"
      ],
      "text/html": [
       " View run at <a href='https://wandb.ai/ionut-calin-uaic/assignment-4/runs/mpfbln5x' target=\"_blank\">https://wandb.ai/ionut-calin-uaic/assignment-4/runs/mpfbln5x</a>"
      ]
     },
     "metadata": {},
     "output_type": "display_data"
    },
    {
     "name": "stderr",
     "output_type": "stream",
     "text": [
      "100%|██████████| 234/234 [00:09<00:00, 24.66it/s]\n",
      "100%|██████████| 234/234 [00:09<00:00, 25.48it/s]\n",
      "100%|██████████| 234/234 [00:08<00:00, 26.83it/s]\n",
      "100%|██████████| 234/234 [00:08<00:00, 28.19it/s]\n",
      "100%|██████████| 234/234 [00:07<00:00, 30.97it/s]\n",
      "100%|██████████| 234/234 [00:08<00:00, 27.57it/s]\n",
      "100%|██████████| 234/234 [00:07<00:00, 32.90it/s]\n",
      "100%|██████████| 234/234 [00:07<00:00, 32.75it/s]\n",
      "100%|██████████| 234/234 [00:07<00:00, 31.94it/s]\n",
      "100%|██████████| 234/234 [00:07<00:00, 32.20it/s]\n",
      "100%|██████████| 234/234 [00:07<00:00, 31.67it/s]\n",
      "100%|██████████| 234/234 [00:07<00:00, 32.83it/s]\n",
      "100%|██████████| 234/234 [00:07<00:00, 32.77it/s]\n",
      "100%|██████████| 234/234 [00:07<00:00, 32.21it/s]\n",
      "100%|██████████| 234/234 [00:07<00:00, 31.52it/s]\n",
      "100%|██████████| 234/234 [00:07<00:00, 31.72it/s]\n",
      "100%|██████████| 234/234 [00:07<00:00, 33.03it/s]\n",
      "100%|██████████| 234/234 [00:08<00:00, 26.72it/s]\n",
      "100%|██████████| 234/234 [00:07<00:00, 31.16it/s]\n",
      "100%|██████████| 234/234 [00:08<00:00, 27.46it/s]\n",
      "100%|██████████| 234/234 [00:07<00:00, 31.04it/s]\n",
      "100%|██████████| 234/234 [00:08<00:00, 28.95it/s]\n",
      "100%|██████████| 234/234 [00:08<00:00, 26.87it/s]\n",
      "100%|██████████| 234/234 [00:07<00:00, 30.85it/s]\n",
      "100%|██████████| 234/234 [00:07<00:00, 32.52it/s]\n"
     ]
    },
    {
     "data": {
      "text/plain": [
       "<IPython.core.display.HTML object>"
      ],
      "text/html": [
       "\n",
       "    <style>\n",
       "        .wandb-row {\n",
       "            display: flex;\n",
       "            flex-direction: row;\n",
       "            flex-wrap: wrap;\n",
       "            justify-content: flex-start;\n",
       "            width: 100%;\n",
       "        }\n",
       "        .wandb-col {\n",
       "            display: flex;\n",
       "            flex-direction: column;\n",
       "            flex-basis: 100%;\n",
       "            flex: 1;\n",
       "            padding: 10px;\n",
       "        }\n",
       "    </style>\n",
       "<div class=\"wandb-row\"><div class=\"wandb-col\"><h3>Run history:</h3><br/><table class=\"wandb\"><tr><td>accuracy</td><td>▁▄▄▆▆▆▆▇▇▇▇▇▇████████████</td></tr><tr><td>epoch</td><td>▁▁▂▂▂▂▃▃▃▄▄▄▅▅▅▅▆▆▆▇▇▇▇██</td></tr></table><br/></div><div class=\"wandb-col\"><h3>Run summary:</h3><br/><table class=\"wandb\"><tr><td>accuracy</td><td>0.98097</td></tr><tr><td>epoch</td><td>24</td></tr></table><br/></div></div>"
      ]
     },
     "metadata": {},
     "output_type": "display_data"
    },
    {
     "data": {
      "text/plain": [
       "<IPython.core.display.HTML object>"
      ],
      "text/html": [
       " View run <strong style=\"color:#cdcd00\">glorious-sweep-31</strong> at: <a href='https://wandb.ai/ionut-calin-uaic/assignment-4/runs/mpfbln5x' target=\"_blank\">https://wandb.ai/ionut-calin-uaic/assignment-4/runs/mpfbln5x</a><br/> View project at: <a href='https://wandb.ai/ionut-calin-uaic/assignment-4' target=\"_blank\">https://wandb.ai/ionut-calin-uaic/assignment-4</a><br/>Synced 5 W&B file(s), 0 media file(s), 0 artifact file(s) and 0 other file(s)"
      ]
     },
     "metadata": {},
     "output_type": "display_data"
    },
    {
     "data": {
      "text/plain": [
       "<IPython.core.display.HTML object>"
      ],
      "text/html": [
       "Find logs at: <code>.\\wandb\\run-20241201_232035-mpfbln5x\\logs</code>"
      ]
     },
     "metadata": {},
     "output_type": "display_data"
    },
    {
     "name": "stderr",
     "output_type": "stream",
     "text": [
      "wandb: Sweep Agent: Waiting for job.\n",
      "wandb: Job received.\n",
      "wandb: Agent Starting Run: 39pz3gdy with config:\n",
      "wandb: \tbatch_size: 128\n",
      "wandb: \tdropout_rate: 0.25252406738978295\n",
      "wandb: \tepochs: 25\n",
      "wandb: \tlearning_rate: 0.009508800805859596\n",
      "wandb: \tlr_decay_rate: 0.16256932002576924\n",
      "wandb: \toptimizer: adam\n"
     ]
    },
    {
     "data": {
      "text/plain": [
       "<IPython.core.display.HTML object>"
      ],
      "text/html": [
       "Tracking run with wandb version 0.18.7"
      ]
     },
     "metadata": {},
     "output_type": "display_data"
    },
    {
     "data": {
      "text/plain": [
       "<IPython.core.display.HTML object>"
      ],
      "text/html": [
       "Run data is saved locally in <code>C:\\Users\\Ionut\\Documents\\Facultate\\An 3\\RN\\neural-networks\\assignment-4\\wandb\\run-20241201_232612-39pz3gdy</code>"
      ]
     },
     "metadata": {},
     "output_type": "display_data"
    },
    {
     "data": {
      "text/plain": [
       "<IPython.core.display.HTML object>"
      ],
      "text/html": [
       "Syncing run <strong><a href='https://wandb.ai/ionut-calin-uaic/assignment-4/runs/39pz3gdy' target=\"_blank\">cosmic-sweep-32</a></strong> to <a href='https://wandb.ai/ionut-calin-uaic/assignment-4' target=\"_blank\">Weights & Biases</a> (<a href='https://wandb.me/developer-guide' target=\"_blank\">docs</a>)<br/>Sweep page: <a href='https://wandb.ai/ionut-calin-uaic/assignment-4/sweeps/2hr7fem4' target=\"_blank\">https://wandb.ai/ionut-calin-uaic/assignment-4/sweeps/2hr7fem4</a>"
      ]
     },
     "metadata": {},
     "output_type": "display_data"
    },
    {
     "data": {
      "text/plain": [
       "<IPython.core.display.HTML object>"
      ],
      "text/html": [
       " View project at <a href='https://wandb.ai/ionut-calin-uaic/assignment-4' target=\"_blank\">https://wandb.ai/ionut-calin-uaic/assignment-4</a>"
      ]
     },
     "metadata": {},
     "output_type": "display_data"
    },
    {
     "data": {
      "text/plain": [
       "<IPython.core.display.HTML object>"
      ],
      "text/html": [
       " View sweep at <a href='https://wandb.ai/ionut-calin-uaic/assignment-4/sweeps/2hr7fem4' target=\"_blank\">https://wandb.ai/ionut-calin-uaic/assignment-4/sweeps/2hr7fem4</a>"
      ]
     },
     "metadata": {},
     "output_type": "display_data"
    },
    {
     "data": {
      "text/plain": [
       "<IPython.core.display.HTML object>"
      ],
      "text/html": [
       " View run at <a href='https://wandb.ai/ionut-calin-uaic/assignment-4/runs/39pz3gdy' target=\"_blank\">https://wandb.ai/ionut-calin-uaic/assignment-4/runs/39pz3gdy</a>"
      ]
     },
     "metadata": {},
     "output_type": "display_data"
    },
    {
     "name": "stderr",
     "output_type": "stream",
     "text": [
      "100%|██████████| 468/468 [00:07<00:00, 63.97it/s] \n",
      "100%|██████████| 468/468 [00:08<00:00, 55.39it/s] \n",
      "100%|██████████| 468/468 [00:07<00:00, 62.73it/s] \n",
      "100%|██████████| 468/468 [00:08<00:00, 53.12it/s] \n",
      "100%|██████████| 468/468 [00:07<00:00, 64.31it/s] \n",
      "100%|██████████| 468/468 [00:09<00:00, 47.85it/s] \n",
      "100%|██████████| 468/468 [00:07<00:00, 62.23it/s] \n",
      "100%|██████████| 468/468 [00:07<00:00, 63.10it/s] \n",
      "100%|██████████| 468/468 [00:07<00:00, 60.11it/s] \n",
      "100%|██████████| 468/468 [00:08<00:00, 56.02it/s] \n",
      "100%|██████████| 468/468 [00:09<00:00, 51.17it/s] \n",
      "100%|██████████| 468/468 [00:08<00:00, 52.22it/s] \n",
      "100%|██████████| 468/468 [00:08<00:00, 54.91it/s] \n",
      "100%|██████████| 468/468 [00:07<00:00, 58.69it/s] \n",
      "100%|██████████| 468/468 [00:07<00:00, 60.97it/s] \n",
      "100%|██████████| 468/468 [00:07<00:00, 61.88it/s] \n",
      "100%|██████████| 468/468 [00:08<00:00, 54.41it/s] \n",
      "100%|██████████| 468/468 [00:07<00:00, 64.32it/s] \n",
      "100%|██████████| 468/468 [00:07<00:00, 61.80it/s] \n",
      "100%|██████████| 468/468 [00:07<00:00, 62.35it/s] \n",
      "100%|██████████| 468/468 [00:07<00:00, 62.10it/s] \n",
      "100%|██████████| 468/468 [00:08<00:00, 55.97it/s] \n",
      "100%|██████████| 468/468 [00:07<00:00, 65.00it/s] \n",
      "100%|██████████| 468/468 [00:07<00:00, 64.46it/s] \n",
      "100%|██████████| 468/468 [00:07<00:00, 62.59it/s] \n"
     ]
    },
    {
     "data": {
      "text/plain": [
       "<IPython.core.display.HTML object>"
      ],
      "text/html": [
       "\n",
       "    <style>\n",
       "        .wandb-row {\n",
       "            display: flex;\n",
       "            flex-direction: row;\n",
       "            flex-wrap: wrap;\n",
       "            justify-content: flex-start;\n",
       "            width: 100%;\n",
       "        }\n",
       "        .wandb-col {\n",
       "            display: flex;\n",
       "            flex-direction: column;\n",
       "            flex-basis: 100%;\n",
       "            flex: 1;\n",
       "            padding: 10px;\n",
       "        }\n",
       "    </style>\n",
       "<div class=\"wandb-row\"><div class=\"wandb-col\"><h3>Run history:</h3><br/><table class=\"wandb\"><tr><td>accuracy</td><td>▂▁▅▆▆▅▆▆▇█▆▇██▇▇▇█▆▇▇▇▆██</td></tr><tr><td>epoch</td><td>▁▁▂▂▂▂▃▃▃▄▄▄▅▅▅▅▆▆▆▇▇▇▇██</td></tr></table><br/></div><div class=\"wandb-col\"><h3>Run summary:</h3><br/><table class=\"wandb\"><tr><td>accuracy</td><td>0.96524</td></tr><tr><td>epoch</td><td>24</td></tr></table><br/></div></div>"
      ]
     },
     "metadata": {},
     "output_type": "display_data"
    },
    {
     "data": {
      "text/plain": [
       "<IPython.core.display.HTML object>"
      ],
      "text/html": [
       " View run <strong style=\"color:#cdcd00\">cosmic-sweep-32</strong> at: <a href='https://wandb.ai/ionut-calin-uaic/assignment-4/runs/39pz3gdy' target=\"_blank\">https://wandb.ai/ionut-calin-uaic/assignment-4/runs/39pz3gdy</a><br/> View project at: <a href='https://wandb.ai/ionut-calin-uaic/assignment-4' target=\"_blank\">https://wandb.ai/ionut-calin-uaic/assignment-4</a><br/>Synced 5 W&B file(s), 0 media file(s), 0 artifact file(s) and 0 other file(s)"
      ]
     },
     "metadata": {},
     "output_type": "display_data"
    },
    {
     "data": {
      "text/plain": [
       "<IPython.core.display.HTML object>"
      ],
      "text/html": [
       "Find logs at: <code>.\\wandb\\run-20241201_232612-39pz3gdy\\logs</code>"
      ]
     },
     "metadata": {},
     "output_type": "display_data"
    }
   ],
   "execution_count": 20
  },
  {
   "metadata": {},
   "cell_type": "markdown",
   "source": "### Rularea cu hiperparametrii relativ optimi",
   "id": "6d7cef75f2f2eaad"
  },
  {
   "metadata": {
    "ExecuteTime": {
     "end_time": "2024-12-01T23:32:35.117629Z",
     "start_time": "2024-12-01T22:53:42.215036Z"
    }
   },
   "cell_type": "code",
   "source": [
    "submission_data = {\n",
    "    \"ID\": [],\n",
    "    \"target\": [],\n",
    "}\n",
    "\n",
    "train_loader, test_loader = gen_loader(BATCH_SIZE)\n",
    "model, optimizer, rate_reducer = gen_model(LEARNING_RATE, 'adam', DROPOUT_RATE, LR_DECAY_RATE)\n",
    "\n",
    "max_accuracy = 0.0\n",
    "\n",
    "for epoch in range(EPOCHS):\n",
    "    train_epoch(train_loader, model, optimizer)\n",
    "    test_accuracy = check_accuracy(test_loader, model)\n",
    "    train_accuracy = check_accuracy(train_loader, model)\n",
    "    if test_accuracy > max_accuracy:\n",
    "        max_accuracy = test_accuracy\n",
    "        generate_submission(test_set, model)\n",
    "    print(f'Epoch {epoch}\\n\\ttrain accuracy: {train_accuracy*100:.2f}\\n\\tvalidation accuracy: {test_accuracy*100:.2f}')\n",
    "    \n",
    "print(f'Max accuracy on validation: {max_accuracy*100:.2f}')"
   ],
   "id": "9a35a54e04c1e273",
   "outputs": [
    {
     "name": "stderr",
     "output_type": "stream",
     "text": [
      "100%|██████████| 234/234 [00:08<00:00, 27.41it/s]\n"
     ]
    },
    {
     "name": "stdout",
     "output_type": "stream",
     "text": [
      "Epoch 0\n",
      "\ttrain accuracy: 91.75\n",
      "\tvalidation accuracy: 92.26\n"
     ]
    },
    {
     "name": "stderr",
     "output_type": "stream",
     "text": [
      "100%|██████████| 234/234 [00:08<00:00, 28.14it/s]\n"
     ]
    },
    {
     "name": "stdout",
     "output_type": "stream",
     "text": [
      "Epoch 1\n",
      "\ttrain accuracy: 94.80\n",
      "\tvalidation accuracy: 94.89\n"
     ]
    },
    {
     "name": "stderr",
     "output_type": "stream",
     "text": [
      "100%|██████████| 234/234 [00:08<00:00, 28.50it/s]\n"
     ]
    },
    {
     "name": "stdout",
     "output_type": "stream",
     "text": [
      "Epoch 2\n",
      "\ttrain accuracy: 95.47\n",
      "\tvalidation accuracy: 95.48\n"
     ]
    },
    {
     "name": "stderr",
     "output_type": "stream",
     "text": [
      "100%|██████████| 234/234 [00:11<00:00, 19.85it/s]\n"
     ]
    },
    {
     "name": "stdout",
     "output_type": "stream",
     "text": [
      "Epoch 3\n",
      "\ttrain accuracy: 96.48\n",
      "\tvalidation accuracy: 96.13\n"
     ]
    },
    {
     "name": "stderr",
     "output_type": "stream",
     "text": [
      "100%|██████████| 234/234 [00:10<00:00, 23.08it/s]\n"
     ]
    },
    {
     "name": "stdout",
     "output_type": "stream",
     "text": [
      "Epoch 4\n",
      "\ttrain accuracy: 96.55\n",
      "\tvalidation accuracy: 96.16\n"
     ]
    },
    {
     "name": "stderr",
     "output_type": "stream",
     "text": [
      "100%|██████████| 234/234 [00:08<00:00, 26.04it/s]\n"
     ]
    },
    {
     "name": "stdout",
     "output_type": "stream",
     "text": [
      "Epoch 5\n",
      "\ttrain accuracy: 97.06\n",
      "\tvalidation accuracy: 96.60\n"
     ]
    },
    {
     "name": "stderr",
     "output_type": "stream",
     "text": [
      "100%|██████████| 234/234 [00:09<00:00, 24.29it/s]\n"
     ]
    },
    {
     "name": "stdout",
     "output_type": "stream",
     "text": [
      "Epoch 6\n",
      "\ttrain accuracy: 97.55\n",
      "\tvalidation accuracy: 97.18\n"
     ]
    },
    {
     "name": "stderr",
     "output_type": "stream",
     "text": [
      "100%|██████████| 234/234 [00:09<00:00, 24.52it/s]\n"
     ]
    },
    {
     "name": "stdout",
     "output_type": "stream",
     "text": [
      "Epoch 7\n",
      "\ttrain accuracy: 97.74\n",
      "\tvalidation accuracy: 97.05\n"
     ]
    },
    {
     "name": "stderr",
     "output_type": "stream",
     "text": [
      "100%|██████████| 234/234 [00:09<00:00, 25.72it/s]\n"
     ]
    },
    {
     "name": "stdout",
     "output_type": "stream",
     "text": [
      "Epoch 8\n",
      "\ttrain accuracy: 97.96\n",
      "\tvalidation accuracy: 97.22\n"
     ]
    },
    {
     "name": "stderr",
     "output_type": "stream",
     "text": [
      "100%|██████████| 234/234 [00:07<00:00, 30.71it/s]\n"
     ]
    },
    {
     "name": "stdout",
     "output_type": "stream",
     "text": [
      "Epoch 9\n",
      "\ttrain accuracy: 98.18\n",
      "\tvalidation accuracy: 97.38\n"
     ]
    },
    {
     "name": "stderr",
     "output_type": "stream",
     "text": [
      "100%|██████████| 234/234 [00:07<00:00, 29.54it/s]\n"
     ]
    },
    {
     "name": "stdout",
     "output_type": "stream",
     "text": [
      "Epoch 10\n",
      "\ttrain accuracy: 98.10\n",
      "\tvalidation accuracy: 97.23\n"
     ]
    },
    {
     "name": "stderr",
     "output_type": "stream",
     "text": [
      "100%|██████████| 234/234 [00:08<00:00, 28.47it/s]\n"
     ]
    },
    {
     "name": "stdout",
     "output_type": "stream",
     "text": [
      "Epoch 11\n",
      "\ttrain accuracy: 98.48\n",
      "\tvalidation accuracy: 97.63\n"
     ]
    },
    {
     "name": "stderr",
     "output_type": "stream",
     "text": [
      "100%|██████████| 234/234 [00:08<00:00, 27.37it/s]\n"
     ]
    },
    {
     "name": "stdout",
     "output_type": "stream",
     "text": [
      "Epoch 12\n",
      "\ttrain accuracy: 98.51\n",
      "\tvalidation accuracy: 97.62\n"
     ]
    },
    {
     "name": "stderr",
     "output_type": "stream",
     "text": [
      "100%|██████████| 234/234 [00:08<00:00, 27.05it/s]\n"
     ]
    },
    {
     "name": "stdout",
     "output_type": "stream",
     "text": [
      "Epoch 13\n",
      "\ttrain accuracy: 98.46\n",
      "\tvalidation accuracy: 97.64\n"
     ]
    },
    {
     "name": "stderr",
     "output_type": "stream",
     "text": [
      "100%|██████████| 234/234 [00:08<00:00, 28.52it/s]\n"
     ]
    },
    {
     "name": "stdout",
     "output_type": "stream",
     "text": [
      "Epoch 14\n",
      "\ttrain accuracy: 98.79\n",
      "\tvalidation accuracy: 97.95\n"
     ]
    },
    {
     "name": "stderr",
     "output_type": "stream",
     "text": [
      "100%|██████████| 234/234 [00:07<00:00, 29.35it/s]\n"
     ]
    },
    {
     "name": "stdout",
     "output_type": "stream",
     "text": [
      "Epoch 15\n",
      "\ttrain accuracy: 98.84\n",
      "\tvalidation accuracy: 97.91\n"
     ]
    },
    {
     "name": "stderr",
     "output_type": "stream",
     "text": [
      "100%|██████████| 234/234 [00:07<00:00, 29.48it/s]\n"
     ]
    },
    {
     "name": "stdout",
     "output_type": "stream",
     "text": [
      "Epoch 16\n",
      "\ttrain accuracy: 98.84\n",
      "\tvalidation accuracy: 97.89\n"
     ]
    },
    {
     "name": "stderr",
     "output_type": "stream",
     "text": [
      "100%|██████████| 234/234 [00:08<00:00, 29.03it/s]\n"
     ]
    },
    {
     "name": "stdout",
     "output_type": "stream",
     "text": [
      "Epoch 17\n",
      "\ttrain accuracy: 98.77\n",
      "\tvalidation accuracy: 97.72\n"
     ]
    },
    {
     "name": "stderr",
     "output_type": "stream",
     "text": [
      "100%|██████████| 234/234 [00:08<00:00, 28.24it/s]\n"
     ]
    },
    {
     "name": "stdout",
     "output_type": "stream",
     "text": [
      "Epoch 18\n",
      "\ttrain accuracy: 98.95\n",
      "\tvalidation accuracy: 97.94\n"
     ]
    },
    {
     "name": "stderr",
     "output_type": "stream",
     "text": [
      "100%|██████████| 234/234 [00:08<00:00, 26.49it/s]\n"
     ]
    },
    {
     "name": "stdout",
     "output_type": "stream",
     "text": [
      "Epoch 19\n",
      "\ttrain accuracy: 99.16\n",
      "\tvalidation accuracy: 98.05\n"
     ]
    },
    {
     "name": "stderr",
     "output_type": "stream",
     "text": [
      "100%|██████████| 234/234 [00:08<00:00, 28.89it/s]\n"
     ]
    },
    {
     "name": "stdout",
     "output_type": "stream",
     "text": [
      "Epoch 20\n",
      "\ttrain accuracy: 99.19\n",
      "\tvalidation accuracy: 98.30\n"
     ]
    },
    {
     "name": "stderr",
     "output_type": "stream",
     "text": [
      "100%|██████████| 234/234 [00:08<00:00, 27.95it/s]\n"
     ]
    },
    {
     "name": "stdout",
     "output_type": "stream",
     "text": [
      "Epoch 21\n",
      "\ttrain accuracy: 99.16\n",
      "\tvalidation accuracy: 98.02\n"
     ]
    },
    {
     "name": "stderr",
     "output_type": "stream",
     "text": [
      "100%|██████████| 234/234 [00:08<00:00, 28.83it/s]\n"
     ]
    },
    {
     "name": "stdout",
     "output_type": "stream",
     "text": [
      "Epoch 22\n",
      "\ttrain accuracy: 99.16\n",
      "\tvalidation accuracy: 98.12\n"
     ]
    },
    {
     "name": "stderr",
     "output_type": "stream",
     "text": [
      "100%|██████████| 234/234 [00:08<00:00, 27.75it/s]\n"
     ]
    },
    {
     "name": "stdout",
     "output_type": "stream",
     "text": [
      "Epoch 23\n",
      "\ttrain accuracy: 99.18\n",
      "\tvalidation accuracy: 98.13\n"
     ]
    },
    {
     "name": "stderr",
     "output_type": "stream",
     "text": [
      "100%|██████████| 234/234 [00:08<00:00, 28.41it/s]\n"
     ]
    },
    {
     "name": "stdout",
     "output_type": "stream",
     "text": [
      "Epoch 24\n",
      "\ttrain accuracy: 99.28\n",
      "\tvalidation accuracy: 98.12\n"
     ]
    },
    {
     "name": "stderr",
     "output_type": "stream",
     "text": [
      "100%|██████████| 234/234 [00:09<00:00, 25.12it/s]\n"
     ]
    },
    {
     "name": "stdout",
     "output_type": "stream",
     "text": [
      "Epoch 25\n",
      "\ttrain accuracy: 99.31\n",
      "\tvalidation accuracy: 98.10\n"
     ]
    },
    {
     "name": "stderr",
     "output_type": "stream",
     "text": [
      "100%|██████████| 234/234 [00:08<00:00, 28.75it/s]\n"
     ]
    },
    {
     "name": "stdout",
     "output_type": "stream",
     "text": [
      "Epoch 26\n",
      "\ttrain accuracy: 99.35\n",
      "\tvalidation accuracy: 98.15\n"
     ]
    },
    {
     "name": "stderr",
     "output_type": "stream",
     "text": [
      "100%|██████████| 234/234 [00:08<00:00, 28.45it/s]\n"
     ]
    },
    {
     "name": "stdout",
     "output_type": "stream",
     "text": [
      "Epoch 27\n",
      "\ttrain accuracy: 99.20\n",
      "\tvalidation accuracy: 97.99\n"
     ]
    },
    {
     "name": "stderr",
     "output_type": "stream",
     "text": [
      "100%|██████████| 234/234 [00:09<00:00, 24.70it/s]\n"
     ]
    },
    {
     "name": "stdout",
     "output_type": "stream",
     "text": [
      "Epoch 28\n",
      "\ttrain accuracy: 99.43\n",
      "\tvalidation accuracy: 98.26\n"
     ]
    },
    {
     "name": "stderr",
     "output_type": "stream",
     "text": [
      "100%|██████████| 234/234 [00:08<00:00, 28.64it/s]\n"
     ]
    },
    {
     "name": "stdout",
     "output_type": "stream",
     "text": [
      "Epoch 29\n",
      "\ttrain accuracy: 99.37\n",
      "\tvalidation accuracy: 98.20\n"
     ]
    },
    {
     "name": "stderr",
     "output_type": "stream",
     "text": [
      "100%|██████████| 234/234 [00:08<00:00, 28.69it/s]\n"
     ]
    },
    {
     "name": "stdout",
     "output_type": "stream",
     "text": [
      "Epoch 30\n",
      "\ttrain accuracy: 99.36\n",
      "\tvalidation accuracy: 98.02\n"
     ]
    },
    {
     "name": "stderr",
     "output_type": "stream",
     "text": [
      "100%|██████████| 234/234 [00:08<00:00, 28.44it/s]\n"
     ]
    },
    {
     "name": "stdout",
     "output_type": "stream",
     "text": [
      "Epoch 31\n",
      "\ttrain accuracy: 99.48\n",
      "\tvalidation accuracy: 98.17\n"
     ]
    },
    {
     "name": "stderr",
     "output_type": "stream",
     "text": [
      "100%|██████████| 234/234 [00:08<00:00, 28.48it/s]\n"
     ]
    },
    {
     "name": "stdout",
     "output_type": "stream",
     "text": [
      "Epoch 32\n",
      "\ttrain accuracy: 99.60\n",
      "\tvalidation accuracy: 98.35\n"
     ]
    },
    {
     "name": "stderr",
     "output_type": "stream",
     "text": [
      "100%|██████████| 234/234 [00:08<00:00, 27.61it/s]\n"
     ]
    },
    {
     "name": "stdout",
     "output_type": "stream",
     "text": [
      "Epoch 33\n",
      "\ttrain accuracy: 99.61\n",
      "\tvalidation accuracy: 98.29\n"
     ]
    },
    {
     "name": "stderr",
     "output_type": "stream",
     "text": [
      "100%|██████████| 234/234 [00:08<00:00, 28.67it/s]\n"
     ]
    },
    {
     "name": "stdout",
     "output_type": "stream",
     "text": [
      "Epoch 34\n",
      "\ttrain accuracy: 99.52\n",
      "\tvalidation accuracy: 98.27\n"
     ]
    },
    {
     "name": "stderr",
     "output_type": "stream",
     "text": [
      "100%|██████████| 234/234 [00:08<00:00, 28.61it/s]\n"
     ]
    },
    {
     "name": "stdout",
     "output_type": "stream",
     "text": [
      "Epoch 35\n",
      "\ttrain accuracy: 99.54\n",
      "\tvalidation accuracy: 98.07\n"
     ]
    },
    {
     "name": "stderr",
     "output_type": "stream",
     "text": [
      "100%|██████████| 234/234 [00:08<00:00, 28.59it/s]\n"
     ]
    },
    {
     "name": "stdout",
     "output_type": "stream",
     "text": [
      "Epoch 36\n",
      "\ttrain accuracy: 99.53\n",
      "\tvalidation accuracy: 98.32\n"
     ]
    },
    {
     "name": "stderr",
     "output_type": "stream",
     "text": [
      "100%|██████████| 234/234 [00:08<00:00, 29.02it/s]\n"
     ]
    },
    {
     "name": "stdout",
     "output_type": "stream",
     "text": [
      "Epoch 37\n",
      "\ttrain accuracy: 99.62\n",
      "\tvalidation accuracy: 98.24\n"
     ]
    },
    {
     "name": "stderr",
     "output_type": "stream",
     "text": [
      "100%|██████████| 234/234 [00:08<00:00, 28.95it/s]\n"
     ]
    },
    {
     "name": "stdout",
     "output_type": "stream",
     "text": [
      "Epoch 38\n",
      "\ttrain accuracy: 99.59\n",
      "\tvalidation accuracy: 98.54\n"
     ]
    },
    {
     "name": "stderr",
     "output_type": "stream",
     "text": [
      "100%|██████████| 234/234 [00:07<00:00, 29.26it/s]\n"
     ]
    },
    {
     "name": "stdout",
     "output_type": "stream",
     "text": [
      "Epoch 39\n",
      "\ttrain accuracy: 99.62\n",
      "\tvalidation accuracy: 98.43\n"
     ]
    },
    {
     "name": "stderr",
     "output_type": "stream",
     "text": [
      "100%|██████████| 234/234 [00:08<00:00, 28.30it/s]\n"
     ]
    },
    {
     "name": "stdout",
     "output_type": "stream",
     "text": [
      "Epoch 40\n",
      "\ttrain accuracy: 99.66\n",
      "\tvalidation accuracy: 98.31\n"
     ]
    },
    {
     "name": "stderr",
     "output_type": "stream",
     "text": [
      "100%|██████████| 234/234 [00:08<00:00, 28.97it/s]\n"
     ]
    },
    {
     "name": "stdout",
     "output_type": "stream",
     "text": [
      "Epoch 41\n",
      "\ttrain accuracy: 99.69\n",
      "\tvalidation accuracy: 98.45\n"
     ]
    },
    {
     "name": "stderr",
     "output_type": "stream",
     "text": [
      "100%|██████████| 234/234 [00:08<00:00, 29.14it/s]\n"
     ]
    },
    {
     "name": "stdout",
     "output_type": "stream",
     "text": [
      "Epoch 42\n",
      "\ttrain accuracy: 99.64\n",
      "\tvalidation accuracy: 98.35\n"
     ]
    },
    {
     "name": "stderr",
     "output_type": "stream",
     "text": [
      "100%|██████████| 234/234 [00:08<00:00, 28.66it/s]\n"
     ]
    },
    {
     "name": "stdout",
     "output_type": "stream",
     "text": [
      "Epoch 43\n",
      "\ttrain accuracy: 99.63\n",
      "\tvalidation accuracy: 98.44\n"
     ]
    },
    {
     "name": "stderr",
     "output_type": "stream",
     "text": [
      "100%|██████████| 234/234 [00:08<00:00, 29.00it/s]\n"
     ]
    },
    {
     "name": "stdout",
     "output_type": "stream",
     "text": [
      "Epoch 44\n",
      "\ttrain accuracy: 99.64\n",
      "\tvalidation accuracy: 98.28\n"
     ]
    },
    {
     "name": "stderr",
     "output_type": "stream",
     "text": [
      "100%|██████████| 234/234 [00:08<00:00, 29.18it/s]\n"
     ]
    },
    {
     "name": "stdout",
     "output_type": "stream",
     "text": [
      "Epoch 45\n",
      "\ttrain accuracy: 99.74\n",
      "\tvalidation accuracy: 98.37\n"
     ]
    },
    {
     "name": "stderr",
     "output_type": "stream",
     "text": [
      "100%|██████████| 234/234 [00:08<00:00, 27.57it/s]\n"
     ]
    },
    {
     "name": "stdout",
     "output_type": "stream",
     "text": [
      "Epoch 46\n",
      "\ttrain accuracy: 99.51\n",
      "\tvalidation accuracy: 98.14\n"
     ]
    },
    {
     "name": "stderr",
     "output_type": "stream",
     "text": [
      "100%|██████████| 234/234 [00:08<00:00, 29.06it/s]\n"
     ]
    },
    {
     "name": "stdout",
     "output_type": "stream",
     "text": [
      "Epoch 47\n",
      "\ttrain accuracy: 99.68\n",
      "\tvalidation accuracy: 98.24\n"
     ]
    },
    {
     "name": "stderr",
     "output_type": "stream",
     "text": [
      "100%|██████████| 234/234 [00:08<00:00, 27.73it/s]\n"
     ]
    },
    {
     "name": "stdout",
     "output_type": "stream",
     "text": [
      "Epoch 48\n",
      "\ttrain accuracy: 99.60\n",
      "\tvalidation accuracy: 98.30\n"
     ]
    },
    {
     "name": "stderr",
     "output_type": "stream",
     "text": [
      "100%|██████████| 234/234 [00:08<00:00, 28.79it/s]\n"
     ]
    },
    {
     "name": "stdout",
     "output_type": "stream",
     "text": [
      "Epoch 49\n",
      "\ttrain accuracy: 99.69\n",
      "\tvalidation accuracy: 98.24\n"
     ]
    },
    {
     "name": "stderr",
     "output_type": "stream",
     "text": [
      "100%|██████████| 234/234 [00:08<00:00, 28.68it/s]\n"
     ]
    },
    {
     "name": "stdout",
     "output_type": "stream",
     "text": [
      "Epoch 50\n",
      "\ttrain accuracy: 99.71\n",
      "\tvalidation accuracy: 98.38\n"
     ]
    },
    {
     "name": "stderr",
     "output_type": "stream",
     "text": [
      "100%|██████████| 234/234 [00:08<00:00, 28.07it/s]\n"
     ]
    },
    {
     "name": "stdout",
     "output_type": "stream",
     "text": [
      "Epoch 51\n",
      "\ttrain accuracy: 99.68\n",
      "\tvalidation accuracy: 98.32\n"
     ]
    },
    {
     "name": "stderr",
     "output_type": "stream",
     "text": [
      "100%|██████████| 234/234 [00:08<00:00, 29.10it/s]\n"
     ]
    },
    {
     "name": "stdout",
     "output_type": "stream",
     "text": [
      "Epoch 52\n",
      "\ttrain accuracy: 99.65\n",
      "\tvalidation accuracy: 98.35\n"
     ]
    },
    {
     "name": "stderr",
     "output_type": "stream",
     "text": [
      "100%|██████████| 234/234 [00:08<00:00, 27.73it/s]\n"
     ]
    },
    {
     "name": "stdout",
     "output_type": "stream",
     "text": [
      "Epoch 53\n",
      "\ttrain accuracy: 99.79\n",
      "\tvalidation accuracy: 98.40\n"
     ]
    },
    {
     "name": "stderr",
     "output_type": "stream",
     "text": [
      "100%|██████████| 234/234 [00:08<00:00, 28.61it/s]\n"
     ]
    },
    {
     "name": "stdout",
     "output_type": "stream",
     "text": [
      "Epoch 54\n",
      "\ttrain accuracy: 99.74\n",
      "\tvalidation accuracy: 98.44\n"
     ]
    },
    {
     "name": "stderr",
     "output_type": "stream",
     "text": [
      "100%|██████████| 234/234 [00:08<00:00, 28.92it/s]\n"
     ]
    },
    {
     "name": "stdout",
     "output_type": "stream",
     "text": [
      "Epoch 55\n",
      "\ttrain accuracy: 99.78\n",
      "\tvalidation accuracy: 98.25\n"
     ]
    },
    {
     "name": "stderr",
     "output_type": "stream",
     "text": [
      "100%|██████████| 234/234 [00:08<00:00, 28.91it/s]\n"
     ]
    },
    {
     "name": "stdout",
     "output_type": "stream",
     "text": [
      "Epoch 56\n",
      "\ttrain accuracy: 99.73\n",
      "\tvalidation accuracy: 98.17\n"
     ]
    },
    {
     "name": "stderr",
     "output_type": "stream",
     "text": [
      "100%|██████████| 234/234 [00:08<00:00, 27.91it/s]\n"
     ]
    },
    {
     "name": "stdout",
     "output_type": "stream",
     "text": [
      "Epoch 57\n",
      "\ttrain accuracy: 99.78\n",
      "\tvalidation accuracy: 98.34\n"
     ]
    },
    {
     "name": "stderr",
     "output_type": "stream",
     "text": [
      "100%|██████████| 234/234 [00:08<00:00, 26.48it/s]\n"
     ]
    },
    {
     "name": "stdout",
     "output_type": "stream",
     "text": [
      "Epoch 58\n",
      "\ttrain accuracy: 99.71\n",
      "\tvalidation accuracy: 98.27\n"
     ]
    },
    {
     "name": "stderr",
     "output_type": "stream",
     "text": [
      "100%|██████████| 234/234 [00:09<00:00, 26.00it/s]\n"
     ]
    },
    {
     "name": "stdout",
     "output_type": "stream",
     "text": [
      "Epoch 59\n",
      "\ttrain accuracy: 99.80\n",
      "\tvalidation accuracy: 98.26\n"
     ]
    },
    {
     "name": "stderr",
     "output_type": "stream",
     "text": [
      "100%|██████████| 234/234 [00:08<00:00, 26.46it/s]\n"
     ]
    },
    {
     "name": "stdout",
     "output_type": "stream",
     "text": [
      "Epoch 60\n",
      "\ttrain accuracy: 99.76\n",
      "\tvalidation accuracy: 98.39\n"
     ]
    },
    {
     "name": "stderr",
     "output_type": "stream",
     "text": [
      "100%|██████████| 234/234 [00:08<00:00, 28.87it/s]\n"
     ]
    },
    {
     "name": "stdout",
     "output_type": "stream",
     "text": [
      "Epoch 61\n",
      "\ttrain accuracy: 99.82\n",
      "\tvalidation accuracy: 98.38\n"
     ]
    },
    {
     "name": "stderr",
     "output_type": "stream",
     "text": [
      "100%|██████████| 234/234 [00:08<00:00, 28.77it/s]\n"
     ]
    },
    {
     "name": "stdout",
     "output_type": "stream",
     "text": [
      "Epoch 62\n",
      "\ttrain accuracy: 99.82\n",
      "\tvalidation accuracy: 98.39\n"
     ]
    },
    {
     "name": "stderr",
     "output_type": "stream",
     "text": [
      "100%|██████████| 234/234 [00:08<00:00, 29.08it/s]\n"
     ]
    },
    {
     "name": "stdout",
     "output_type": "stream",
     "text": [
      "Epoch 63\n",
      "\ttrain accuracy: 99.79\n",
      "\tvalidation accuracy: 98.48\n"
     ]
    },
    {
     "name": "stderr",
     "output_type": "stream",
     "text": [
      "100%|██████████| 234/234 [00:08<00:00, 27.29it/s]\n"
     ]
    },
    {
     "name": "stdout",
     "output_type": "stream",
     "text": [
      "Epoch 64\n",
      "\ttrain accuracy: 99.82\n",
      "\tvalidation accuracy: 98.43\n"
     ]
    },
    {
     "name": "stderr",
     "output_type": "stream",
     "text": [
      "100%|██████████| 234/234 [00:08<00:00, 27.01it/s]\n"
     ]
    },
    {
     "name": "stdout",
     "output_type": "stream",
     "text": [
      "Epoch 65\n",
      "\ttrain accuracy: 99.83\n",
      "\tvalidation accuracy: 98.41\n"
     ]
    },
    {
     "name": "stderr",
     "output_type": "stream",
     "text": [
      "100%|██████████| 234/234 [00:09<00:00, 25.16it/s]\n"
     ]
    },
    {
     "name": "stdout",
     "output_type": "stream",
     "text": [
      "Epoch 66\n",
      "\ttrain accuracy: 99.77\n",
      "\tvalidation accuracy: 98.33\n"
     ]
    },
    {
     "name": "stderr",
     "output_type": "stream",
     "text": [
      "100%|██████████| 234/234 [00:08<00:00, 29.03it/s]\n"
     ]
    },
    {
     "name": "stdout",
     "output_type": "stream",
     "text": [
      "Epoch 67\n",
      "\ttrain accuracy: 99.77\n",
      "\tvalidation accuracy: 98.41\n"
     ]
    },
    {
     "name": "stderr",
     "output_type": "stream",
     "text": [
      "100%|██████████| 234/234 [00:08<00:00, 27.48it/s]\n"
     ]
    },
    {
     "name": "stdout",
     "output_type": "stream",
     "text": [
      "Epoch 68\n",
      "\ttrain accuracy: 99.80\n",
      "\tvalidation accuracy: 98.31\n"
     ]
    },
    {
     "name": "stderr",
     "output_type": "stream",
     "text": [
      "100%|██████████| 234/234 [00:08<00:00, 28.18it/s]\n"
     ]
    },
    {
     "name": "stdout",
     "output_type": "stream",
     "text": [
      "Epoch 69\n",
      "\ttrain accuracy: 99.88\n",
      "\tvalidation accuracy: 98.57\n"
     ]
    },
    {
     "name": "stderr",
     "output_type": "stream",
     "text": [
      "100%|██████████| 234/234 [00:08<00:00, 26.32it/s]\n"
     ]
    },
    {
     "name": "stdout",
     "output_type": "stream",
     "text": [
      "Epoch 70\n",
      "\ttrain accuracy: 99.77\n",
      "\tvalidation accuracy: 98.33\n"
     ]
    },
    {
     "name": "stderr",
     "output_type": "stream",
     "text": [
      "100%|██████████| 234/234 [00:08<00:00, 28.62it/s]\n"
     ]
    },
    {
     "name": "stdout",
     "output_type": "stream",
     "text": [
      "Epoch 71\n",
      "\ttrain accuracy: 99.84\n",
      "\tvalidation accuracy: 98.48\n"
     ]
    },
    {
     "name": "stderr",
     "output_type": "stream",
     "text": [
      "100%|██████████| 234/234 [00:08<00:00, 28.60it/s]\n"
     ]
    },
    {
     "name": "stdout",
     "output_type": "stream",
     "text": [
      "Epoch 72\n",
      "\ttrain accuracy: 99.84\n",
      "\tvalidation accuracy: 98.42\n"
     ]
    },
    {
     "name": "stderr",
     "output_type": "stream",
     "text": [
      "100%|██████████| 234/234 [00:08<00:00, 28.83it/s]\n"
     ]
    },
    {
     "name": "stdout",
     "output_type": "stream",
     "text": [
      "Epoch 73\n",
      "\ttrain accuracy: 99.72\n",
      "\tvalidation accuracy: 98.39\n"
     ]
    },
    {
     "name": "stderr",
     "output_type": "stream",
     "text": [
      "100%|██████████| 234/234 [00:08<00:00, 28.97it/s]\n"
     ]
    },
    {
     "name": "stdout",
     "output_type": "stream",
     "text": [
      "Epoch 74\n",
      "\ttrain accuracy: 99.86\n",
      "\tvalidation accuracy: 98.47\n"
     ]
    },
    {
     "name": "stderr",
     "output_type": "stream",
     "text": [
      "100%|██████████| 234/234 [00:08<00:00, 28.69it/s]\n"
     ]
    },
    {
     "name": "stdout",
     "output_type": "stream",
     "text": [
      "Epoch 75\n",
      "\ttrain accuracy: 99.87\n",
      "\tvalidation accuracy: 98.39\n"
     ]
    },
    {
     "name": "stderr",
     "output_type": "stream",
     "text": [
      "100%|██████████| 234/234 [00:08<00:00, 28.91it/s]\n"
     ]
    },
    {
     "name": "stdout",
     "output_type": "stream",
     "text": [
      "Epoch 76\n",
      "\ttrain accuracy: 99.90\n",
      "\tvalidation accuracy: 98.49\n"
     ]
    },
    {
     "name": "stderr",
     "output_type": "stream",
     "text": [
      "100%|██████████| 234/234 [00:08<00:00, 29.08it/s]\n"
     ]
    },
    {
     "name": "stdout",
     "output_type": "stream",
     "text": [
      "Epoch 77\n",
      "\ttrain accuracy: 99.79\n",
      "\tvalidation accuracy: 98.36\n"
     ]
    },
    {
     "name": "stderr",
     "output_type": "stream",
     "text": [
      "100%|██████████| 234/234 [00:08<00:00, 28.71it/s]\n"
     ]
    },
    {
     "name": "stdout",
     "output_type": "stream",
     "text": [
      "Epoch 78\n",
      "\ttrain accuracy: 99.78\n",
      "\tvalidation accuracy: 98.34\n"
     ]
    },
    {
     "name": "stderr",
     "output_type": "stream",
     "text": [
      "100%|██████████| 234/234 [00:08<00:00, 28.01it/s]\n"
     ]
    },
    {
     "name": "stdout",
     "output_type": "stream",
     "text": [
      "Epoch 79\n",
      "\ttrain accuracy: 99.85\n",
      "\tvalidation accuracy: 98.49\n"
     ]
    },
    {
     "name": "stderr",
     "output_type": "stream",
     "text": [
      "100%|██████████| 234/234 [00:08<00:00, 29.02it/s]\n"
     ]
    },
    {
     "name": "stdout",
     "output_type": "stream",
     "text": [
      "Epoch 80\n",
      "\ttrain accuracy: 99.84\n",
      "\tvalidation accuracy: 98.42\n"
     ]
    },
    {
     "name": "stderr",
     "output_type": "stream",
     "text": [
      "100%|██████████| 234/234 [00:08<00:00, 28.83it/s]\n"
     ]
    },
    {
     "name": "stdout",
     "output_type": "stream",
     "text": [
      "Epoch 81\n",
      "\ttrain accuracy: 99.86\n",
      "\tvalidation accuracy: 98.40\n"
     ]
    },
    {
     "name": "stderr",
     "output_type": "stream",
     "text": [
      "100%|██████████| 234/234 [00:08<00:00, 28.76it/s]\n"
     ]
    },
    {
     "name": "stdout",
     "output_type": "stream",
     "text": [
      "Epoch 82\n",
      "\ttrain accuracy: 99.77\n",
      "\tvalidation accuracy: 98.18\n"
     ]
    },
    {
     "name": "stderr",
     "output_type": "stream",
     "text": [
      "100%|██████████| 234/234 [00:07<00:00, 29.34it/s]\n"
     ]
    },
    {
     "name": "stdout",
     "output_type": "stream",
     "text": [
      "Epoch 83\n",
      "\ttrain accuracy: 99.88\n",
      "\tvalidation accuracy: 98.49\n"
     ]
    },
    {
     "name": "stderr",
     "output_type": "stream",
     "text": [
      "100%|██████████| 234/234 [00:08<00:00, 28.63it/s]\n"
     ]
    },
    {
     "name": "stdout",
     "output_type": "stream",
     "text": [
      "Epoch 84\n",
      "\ttrain accuracy: 99.91\n",
      "\tvalidation accuracy: 98.51\n"
     ]
    },
    {
     "name": "stderr",
     "output_type": "stream",
     "text": [
      "100%|██████████| 234/234 [00:08<00:00, 28.31it/s]\n"
     ]
    },
    {
     "name": "stdout",
     "output_type": "stream",
     "text": [
      "Epoch 85\n",
      "\ttrain accuracy: 99.85\n",
      "\tvalidation accuracy: 98.40\n"
     ]
    },
    {
     "name": "stderr",
     "output_type": "stream",
     "text": [
      "100%|██████████| 234/234 [00:08<00:00, 28.93it/s]\n"
     ]
    },
    {
     "name": "stdout",
     "output_type": "stream",
     "text": [
      "Epoch 86\n",
      "\ttrain accuracy: 99.86\n",
      "\tvalidation accuracy: 98.52\n"
     ]
    },
    {
     "name": "stderr",
     "output_type": "stream",
     "text": [
      "100%|██████████| 234/234 [00:08<00:00, 28.45it/s]\n"
     ]
    },
    {
     "name": "stdout",
     "output_type": "stream",
     "text": [
      "Epoch 87\n",
      "\ttrain accuracy: 99.90\n",
      "\tvalidation accuracy: 98.40\n"
     ]
    },
    {
     "name": "stderr",
     "output_type": "stream",
     "text": [
      "100%|██████████| 234/234 [00:08<00:00, 28.27it/s]\n"
     ]
    },
    {
     "name": "stdout",
     "output_type": "stream",
     "text": [
      "Epoch 88\n",
      "\ttrain accuracy: 99.90\n",
      "\tvalidation accuracy: 98.44\n"
     ]
    },
    {
     "name": "stderr",
     "output_type": "stream",
     "text": [
      "100%|██████████| 234/234 [00:08<00:00, 27.66it/s]\n"
     ]
    },
    {
     "name": "stdout",
     "output_type": "stream",
     "text": [
      "Epoch 89\n",
      "\ttrain accuracy: 99.84\n",
      "\tvalidation accuracy: 98.39\n"
     ]
    },
    {
     "name": "stderr",
     "output_type": "stream",
     "text": [
      "100%|██████████| 234/234 [00:08<00:00, 28.85it/s]\n"
     ]
    },
    {
     "name": "stdout",
     "output_type": "stream",
     "text": [
      "Epoch 90\n",
      "\ttrain accuracy: 99.89\n",
      "\tvalidation accuracy: 98.33\n"
     ]
    },
    {
     "name": "stderr",
     "output_type": "stream",
     "text": [
      "100%|██████████| 234/234 [00:08<00:00, 28.37it/s]\n"
     ]
    },
    {
     "name": "stdout",
     "output_type": "stream",
     "text": [
      "Epoch 91\n",
      "\ttrain accuracy: 99.87\n",
      "\tvalidation accuracy: 98.45\n"
     ]
    },
    {
     "name": "stderr",
     "output_type": "stream",
     "text": [
      "100%|██████████| 234/234 [00:08<00:00, 26.58it/s]\n"
     ]
    },
    {
     "name": "stdout",
     "output_type": "stream",
     "text": [
      "Epoch 92\n",
      "\ttrain accuracy: 99.80\n",
      "\tvalidation accuracy: 98.41\n"
     ]
    },
    {
     "name": "stderr",
     "output_type": "stream",
     "text": [
      "100%|██████████| 234/234 [00:08<00:00, 27.74it/s]\n"
     ]
    },
    {
     "name": "stdout",
     "output_type": "stream",
     "text": [
      "Epoch 93\n",
      "\ttrain accuracy: 99.85\n",
      "\tvalidation accuracy: 98.23\n"
     ]
    },
    {
     "name": "stderr",
     "output_type": "stream",
     "text": [
      "100%|██████████| 234/234 [00:08<00:00, 28.39it/s]\n"
     ]
    },
    {
     "name": "stdout",
     "output_type": "stream",
     "text": [
      "Epoch 94\n",
      "\ttrain accuracy: 99.83\n",
      "\tvalidation accuracy: 98.37\n"
     ]
    },
    {
     "name": "stderr",
     "output_type": "stream",
     "text": [
      "100%|██████████| 234/234 [00:08<00:00, 28.81it/s]\n"
     ]
    },
    {
     "name": "stdout",
     "output_type": "stream",
     "text": [
      "Epoch 95\n",
      "\ttrain accuracy: 99.92\n",
      "\tvalidation accuracy: 98.45\n"
     ]
    },
    {
     "name": "stderr",
     "output_type": "stream",
     "text": [
      "100%|██████████| 234/234 [00:08<00:00, 28.61it/s]\n"
     ]
    },
    {
     "name": "stdout",
     "output_type": "stream",
     "text": [
      "Epoch 96\n",
      "\ttrain accuracy: 99.90\n",
      "\tvalidation accuracy: 98.39\n"
     ]
    },
    {
     "name": "stderr",
     "output_type": "stream",
     "text": [
      "100%|██████████| 234/234 [00:08<00:00, 29.21it/s]\n"
     ]
    },
    {
     "name": "stdout",
     "output_type": "stream",
     "text": [
      "Epoch 97\n",
      "\ttrain accuracy: 99.89\n",
      "\tvalidation accuracy: 98.34\n"
     ]
    },
    {
     "name": "stderr",
     "output_type": "stream",
     "text": [
      "100%|██████████| 234/234 [00:08<00:00, 29.03it/s]\n"
     ]
    },
    {
     "name": "stdout",
     "output_type": "stream",
     "text": [
      "Epoch 98\n",
      "\ttrain accuracy: 99.94\n",
      "\tvalidation accuracy: 98.43\n"
     ]
    },
    {
     "name": "stderr",
     "output_type": "stream",
     "text": [
      "100%|██████████| 234/234 [00:08<00:00, 28.41it/s]\n"
     ]
    },
    {
     "name": "stdout",
     "output_type": "stream",
     "text": [
      "Epoch 99\n",
      "\ttrain accuracy: 99.90\n",
      "\tvalidation accuracy: 98.45\n",
      "Max accuracy on validation: 98.57\n"
     ]
    }
   ],
   "execution_count": 30
  }
 ],
 "metadata": {
  "kernelspec": {
   "display_name": "Python 3",
   "language": "python",
   "name": "python3"
  },
  "language_info": {
   "codemirror_mode": {
    "name": "ipython",
    "version": 2
   },
   "file_extension": ".py",
   "mimetype": "text/x-python",
   "name": "python",
   "nbconvert_exporter": "python",
   "pygments_lexer": "ipython2",
   "version": "2.7.6"
  }
 },
 "nbformat": 4,
 "nbformat_minor": 5
}
