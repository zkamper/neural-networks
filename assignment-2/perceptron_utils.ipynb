{
 "cells": [
  {
   "cell_type": "code",
   "execution_count": 2,
   "id": "initial_id",
   "metadata": {
    "ExecuteTime": {
     "end_time": "2024-10-16T21:25:48.538332Z",
     "start_time": "2024-10-16T21:25:45.622185Z"
    },
    "collapsed": true
   },
   "outputs": [],
   "source": [
    "import queue\n",
    "\n",
    "import numpy as np\n",
    "from torchvision.datasets import MNIST\n",
    "\n",
    "def download_mnist(is_train: bool):\n",
    "    dataset = MNIST(root='./data',\n",
    "                    transform=lambda x: np.array(x).flatten(),\n",
    "                    download=True,\n",
    "                    train=is_train)\n",
    "    mnist_data = []\n",
    "    mnist_labels = []\n",
    "    for image, label in dataset:\n",
    "        mnist_data.append(image)\n",
    "        mnist_labels.append(label)\n",
    "        \n",
    "    return mnist_data, mnist_labels"
   ]
  },
  {
   "cell_type": "code",
   "execution_count": 4,
   "id": "8bed2677066e8ed1",
   "metadata": {
    "ExecuteTime": {
     "end_time": "2024-10-16T20:24:52.246423Z",
     "start_time": "2024-10-16T20:24:49.178262Z"
    }
   },
   "outputs": [
    {
     "name": "stdout",
     "output_type": "stream",
     "text": [
      "Downloading http://yann.lecun.com/exdb/mnist/train-images-idx3-ubyte.gz\n",
      "Failed to download (trying next):\n",
      "<urlopen error [SSL: CERTIFICATE_VERIFY_FAILED] certificate verify failed: certificate has expired (_ssl.c:1000)>\n",
      "\n",
      "Downloading https://ossci-datasets.s3.amazonaws.com/mnist/train-images-idx3-ubyte.gz\n",
      "Downloading https://ossci-datasets.s3.amazonaws.com/mnist/train-images-idx3-ubyte.gz to ./data/MNIST/raw/train-images-idx3-ubyte.gz\n"
     ]
    },
    {
     "name": "stderr",
     "output_type": "stream",
     "text": [
      "100.0%\n"
     ]
    },
    {
     "name": "stdout",
     "output_type": "stream",
     "text": [
      "Extracting ./data/MNIST/raw/train-images-idx3-ubyte.gz to ./data/MNIST/raw\n",
      "\n",
      "Downloading http://yann.lecun.com/exdb/mnist/train-labels-idx1-ubyte.gz\n",
      "Failed to download (trying next):\n",
      "<urlopen error [SSL: CERTIFICATE_VERIFY_FAILED] certificate verify failed: certificate has expired (_ssl.c:1000)>\n",
      "\n",
      "Downloading https://ossci-datasets.s3.amazonaws.com/mnist/train-labels-idx1-ubyte.gz\n",
      "Downloading https://ossci-datasets.s3.amazonaws.com/mnist/train-labels-idx1-ubyte.gz to ./data/MNIST/raw/train-labels-idx1-ubyte.gz\n"
     ]
    },
    {
     "name": "stderr",
     "output_type": "stream",
     "text": [
      "100.0%\n"
     ]
    },
    {
     "name": "stdout",
     "output_type": "stream",
     "text": [
      "Extracting ./data/MNIST/raw/train-labels-idx1-ubyte.gz to ./data/MNIST/raw\n",
      "\n",
      "Downloading http://yann.lecun.com/exdb/mnist/t10k-images-idx3-ubyte.gz\n",
      "Failed to download (trying next):\n",
      "<urlopen error [SSL: CERTIFICATE_VERIFY_FAILED] certificate verify failed: certificate has expired (_ssl.c:1000)>\n",
      "\n",
      "Downloading https://ossci-datasets.s3.amazonaws.com/mnist/t10k-images-idx3-ubyte.gz\n",
      "Downloading https://ossci-datasets.s3.amazonaws.com/mnist/t10k-images-idx3-ubyte.gz to ./data/MNIST/raw/t10k-images-idx3-ubyte.gz\n"
     ]
    },
    {
     "name": "stderr",
     "output_type": "stream",
     "text": [
      "100.0%\n"
     ]
    },
    {
     "name": "stdout",
     "output_type": "stream",
     "text": [
      "Extracting ./data/MNIST/raw/t10k-images-idx3-ubyte.gz to ./data/MNIST/raw\n",
      "\n",
      "Downloading http://yann.lecun.com/exdb/mnist/t10k-labels-idx1-ubyte.gz\n",
      "Failed to download (trying next):\n",
      "<urlopen error [SSL: CERTIFICATE_VERIFY_FAILED] certificate verify failed: certificate has expired (_ssl.c:1000)>\n",
      "\n",
      "Downloading https://ossci-datasets.s3.amazonaws.com/mnist/t10k-labels-idx1-ubyte.gz\n",
      "Downloading https://ossci-datasets.s3.amazonaws.com/mnist/t10k-labels-idx1-ubyte.gz to ./data/MNIST/raw/t10k-labels-idx1-ubyte.gz\n"
     ]
    },
    {
     "name": "stderr",
     "output_type": "stream",
     "text": [
      "100.0%\n"
     ]
    },
    {
     "name": "stdout",
     "output_type": "stream",
     "text": [
      "Extracting ./data/MNIST/raw/t10k-labels-idx1-ubyte.gz to ./data/MNIST/raw\n",
      "\n"
     ]
    }
   ],
   "source": [
    "train_X, train_Y = download_mnist(is_train=True)\n",
    "test_X, test_Y = download_mnist(is_train=False)"
   ]
  },
  {
   "cell_type": "markdown",
   "id": "83603436548ad2fd",
   "metadata": {},
   "source": [
    "# Normalizarea inputului\n"
   ]
  },
  {
   "cell_type": "code",
   "execution_count": 5,
   "id": "6ec9e47e45bf12e4",
   "metadata": {
    "ExecuteTime": {
     "end_time": "2024-10-16T20:24:57.927512Z",
     "start_time": "2024-10-16T20:24:57.489699Z"
    }
   },
   "outputs": [],
   "source": [
    "def normalize_input(lst: list[int]):\n",
    "    return [x / 255 for x in lst]\n",
    "\n",
    "train_X = normalize_input(train_X)\n",
    "test_X = normalize_input(test_X)"
   ]
  },
  {
   "cell_type": "code",
   "execution_count": 6,
   "id": "622a63fd8d3fab90",
   "metadata": {
    "ExecuteTime": {
     "end_time": "2024-10-16T20:24:59.690222Z",
     "start_time": "2024-10-16T20:24:59.539382Z"
    }
   },
   "outputs": [],
   "source": [
    "def label_encoding(labels: list[int]) -> list[list[int]]:\n",
    "    return [[1 if label == i else 0 for i in range(10)] for label in labels]\n",
    "\n",
    "train_Y = label_encoding(train_Y)\n",
    "test_Y = label_encoding(test_Y)"
   ]
  },
  {
   "cell_type": "markdown",
   "id": "53f549ec1f3fc743",
   "metadata": {},
   "source": [
    "### Salvare/Incarcare date\n",
    "Pentru a nu descărca de atâtea ori, salvam si incarcam de pe disc datele deja prelucrate"
   ]
  },
  {
   "cell_type": "code",
   "execution_count": 7,
   "id": "c615cc04345e7475",
   "metadata": {
    "ExecuteTime": {
     "end_time": "2024-10-16T20:25:03.522086Z",
     "start_time": "2024-10-16T20:25:02.627055Z"
    }
   },
   "outputs": [],
   "source": [
    "np.savez('mnist_data.npz',\n",
    "         train_X=train_X,\n",
    "         train_Y=train_Y,\n",
    "         test_X=test_X,\n",
    "         test_Y=test_Y)"
   ]
  },
  {
   "cell_type": "code",
   "execution_count": 1,
   "id": "123e93d68598794c",
   "metadata": {
    "ExecuteTime": {
     "end_time": "2024-10-16T21:25:43.853994Z",
     "start_time": "2024-10-16T21:25:43.506326Z"
    }
   },
   "outputs": [],
   "source": [
    "import numpy as np\n",
    "\n",
    "data = np.load('mnist_data.npz')\n",
    "train_X = data['train_X']\n",
    "train_Y = data['train_Y']\n",
    "test_X = data['test_X']\n",
    "test_Y = data['test_Y']"
   ]
  },
  {
   "cell_type": "markdown",
   "id": "5ad1e63bea275ac8",
   "metadata": {},
   "source": [
    "### Grafic pentru acuratețe"
   ]
  },
  {
   "cell_type": "code",
   "execution_count": 1,
   "id": "1a188774",
   "metadata": {},
   "outputs": [
    {
     "data": {
      "text/plain": [
       "[<matplotlib.lines.Line2D at 0x789dd2ffea80>]"
      ]
     },
     "execution_count": 1,
     "metadata": {},
     "output_type": "execute_result"
    },
    {
     "data": {
      "image/png": "[encoded data removed]",
      "text/plain": [
       "<Figure size 640x480 with 1 Axes>"
      ]
     },
     "metadata": {},
     "output_type": "display_data"
    }
   ],
   "source": [
    "import numpy as np\n",
    "\n",
    "data = np.load('model.npz')\n",
    "accuracies = data['accuracies']\n",
    "\n",
    "import matplotlib.pyplot as plt\n",
    "\n",
    "plt.plot(accuracies)"
   ]
  }
 ],
 "metadata": {
  "kernelspec": {
   "display_name": ".venv",
   "language": "python",
   "name": "python3"
  },
  "language_info": {
   "codemirror_mode": {
    "name": "ipython",
    "version": 3
   },
   "file_extension": ".py",
   "mimetype": "text/x-python",
   "name": "python",
   "nbconvert_exporter": "python",
   "pygments_lexer": "ipython3",
   "version": "3.12.7"
  }
 },
 "nbformat": 4,
 "nbformat_minor": 5
}
