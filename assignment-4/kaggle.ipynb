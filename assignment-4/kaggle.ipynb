{
 "cells": [
  {
   "metadata": {
    "ExecuteTime": {
     "end_time": "2024-11-30T10:45:10.760763Z",
     "start_time": "2024-11-30T10:45:10.754037Z"
    }
   },
   "cell_type": "code",
   "source": [
    "import torch\n",
    "import torchvision\n",
    "import torchvision.transforms as transforms\n",
    "from torch.nn import Module, Sequential\n",
    "from torch.utils.data import DataLoader\n",
    "from torch import optim\n",
    "from tqdm import tqdm\n",
    "import pandas as pd"
   ],
   "id": "f0a41220ca86fcaa",
   "outputs": [],
   "execution_count": 21
  },
  {
   "metadata": {},
   "cell_type": "markdown",
   "source": "### Descărcare și normalizare date",
   "id": "70f0f0c63fb78eb2"
  },
  {
   "metadata": {
    "ExecuteTime": {
     "end_time": "2024-11-30T10:45:10.897458Z",
     "start_time": "2024-11-30T10:45:10.789332Z"
    }
   },
   "cell_type": "code",
   "source": [
    "image_to_tensor = transforms.Compose([\n",
    "    transforms.ToTensor(),\n",
    "    transforms.Normalize((0.5,), (0.5,)),\n",
    "    transforms.Lambda(torch.flatten)\n",
    "])\n",
    "train_set = torchvision.datasets.MNIST(\n",
    "    root='./training',\n",
    "    train=True,\n",
    "    download=True,\n",
    "    transform=image_to_tensor,\n",
    ")\n",
    "\n",
    "test_set = torchvision.datasets.MNIST(\n",
    "    root='./test',\n",
    "    train=False,\n",
    "    download=True,\n",
    "    transform=image_to_tensor\n",
    ")"
   ],
   "id": "8ff2c3563da08f3b",
   "outputs": [],
   "execution_count": 22
  },
  {
   "metadata": {},
   "cell_type": "markdown",
   "source": "### Definirea modelului",
   "id": "bff26a589226554"
  },
  {
   "metadata": {
    "ExecuteTime": {
     "end_time": "2024-11-30T10:45:11.048582Z",
     "start_time": "2024-11-30T10:45:11.040519Z"
    }
   },
   "cell_type": "code",
   "source": [
    "class MyNN(Module):\n",
    "    def __init__(self, input_size, num_classes):\n",
    "        super(MyNN, self).__init__()\n",
    "        self.model = Sequential(\n",
    "            torch.nn.Linear(input_size, 256),\n",
    "            torch.nn.ReLU(),\n",
    "            torch.nn.Dropout(0.2),\n",
    "            torch.nn.Linear(256, 100),\n",
    "            torch.nn.ReLU(),\n",
    "            torch.nn.Dropout(0.2),\n",
    "            torch.nn.Linear(100, num_classes)\n",
    "        )\n",
    "    def forward(self, x):\n",
    "        return self.model(x)"
   ],
   "id": "10a69fb179aeb99",
   "outputs": [],
   "execution_count": 23
  },
  {
   "metadata": {},
   "cell_type": "markdown",
   "source": "### Dataloaders, optimizatori, hiperparametrii",
   "id": "a1a91a15a39a3257"
  },
  {
   "metadata": {
    "ExecuteTime": {
     "end_time": "2024-11-30T10:45:11.091543Z",
     "start_time": "2024-11-30T10:45:11.069027Z"
    }
   },
   "cell_type": "code",
   "source": [
    "# HYPERPARAMETERS\n",
    "INPUT_SIZE = 784\n",
    "OUTPUT_CLASSES = 10\n",
    "LEARNING_RATE = 0.001\n",
    "EPOCHS = 125\n",
    "BATCH_SIZE = 32\n",
    "\n",
    "train_loader = DataLoader(train_set, batch_size=BATCH_SIZE, shuffle=True,drop_last=True,num_workers=4)\n",
    "test_loader = DataLoader(test_set, batch_size=BATCH_SIZE, shuffle=True, drop_last=True,num_workers=4)\n",
    "\n",
    "device = torch.device('cuda')\n",
    "model = MyNN(INPUT_SIZE, OUTPUT_CLASSES).to(device)\n",
    "\n",
    "criterion = torch.nn.CrossEntropyLoss()\n",
    "optimizer = optim.Adam(model.parameters(), lr=LEARNING_RATE)\n"
   ],
   "id": "b138819a7b2a3ae8",
   "outputs": [],
   "execution_count": 24
  },
  {
   "metadata": {
    "ExecuteTime": {
     "end_time": "2024-11-30T10:45:11.189230Z",
     "start_time": "2024-11-30T10:45:11.178215Z"
    }
   },
   "cell_type": "code",
   "source": [
    "def check_accuracy(loader, model: Module):\n",
    "    num_correct = 0\n",
    "    num_samples = 0\n",
    "    model.eval()\n",
    "    \n",
    "    with torch.no_grad():\n",
    "        for image, target in loader:\n",
    "            image, target = image.to(device), target.to(device)\n",
    "            output = model(image)\n",
    "            pred = output.argmax(dim=1, keepdim=True)\n",
    "            num_correct += pred.eq(target.view_as(pred)).sum().item()\n",
    "            num_samples += image.size()[0]\n",
    "            \n",
    "    model.train()\n",
    "    return num_correct / num_samples"
   ],
   "id": "e349b5ed6b8d7072",
   "outputs": [],
   "execution_count": 25
  },
  {
   "metadata": {
    "ExecuteTime": {
     "end_time": "2024-11-30T10:45:11.269602Z",
     "start_time": "2024-11-30T10:45:11.260920Z"
    }
   },
   "cell_type": "code",
   "source": [
    "def generate_submission(test_set, model: Module):\n",
    "    model.eval()\n",
    "    \n",
    "    with torch.no_grad():\n",
    "        for i, (image, _) in enumerate(test_set):\n",
    "            image = image.to(device)\n",
    "            output = model(image)\n",
    "            pred = output.argmax(dim=0)\n",
    "            submission_data[\"ID\"].append(i)\n",
    "            submission_data[\"target\"].append(pred.item())\n",
    "    data_frame = pd.DataFrame(submission_data)\n",
    "    data_frame.to_csv('submission.csv', index=False)\n",
    "    model.train()"
   ],
   "id": "f682e107aa7509ba",
   "outputs": [],
   "execution_count": 26
  },
  {
   "metadata": {},
   "cell_type": "markdown",
   "source": "### Antrenarea și uploadarea modelului",
   "id": "4b9935e161c30583"
  },
  {
   "metadata": {
    "ExecuteTime": {
     "end_time": "2024-11-30T11:10:09.706260Z",
     "start_time": "2024-11-30T10:45:11.350472Z"
    }
   },
   "cell_type": "code",
   "source": [
    "submission_data = {\n",
    "    \"ID\": [],\n",
    "    \"target\": [],\n",
    "}\n",
    "\n",
    "for epoch in enumerate(tqdm(range(EPOCHS))):\n",
    "    model.train()\n",
    "    for _, (images, labels) in enumerate(train_loader):\n",
    "        images = images.to(device)\n",
    "        labels = labels.to(device)\n",
    "        \n",
    "        scores = model(images)\n",
    "        loss = criterion(scores, labels)\n",
    "        \n",
    "        optimizer.zero_grad()\n",
    "        loss.backward()\n",
    "        \n",
    "        optimizer.step()\n",
    "        \n",
    "print(f'Accuracy on training set: {check_accuracy(train_loader, model)*100:.2f}%')\n",
    "print(f'Accuracy on test set: {check_accuracy(test_loader, model)*100:.2f}%')\n",
    "generate_submission(test_set, model)"
   ],
   "id": "5c4ac24e3d5a4688",
   "outputs": [
    {
     "name": "stderr",
     "output_type": "stream",
     "text": [
      "100%|██████████| 125/125 [24:33<00:00, 11.79s/it]\n"
     ]
    },
    {
     "name": "stdout",
     "output_type": "stream",
     "text": [
      "Accuracy on training set: 99.78%\n",
      "Accuracy on test set: 98.07%\n"
     ]
    }
   ],
   "execution_count": 27
  }
 ],
 "metadata": {
  "kernelspec": {
   "display_name": "Python 3",
   "language": "python",
   "name": "python3"
  },
  "language_info": {
   "codemirror_mode": {
    "name": "ipython",
    "version": 2
   },
   "file_extension": ".py",
   "mimetype": "text/x-python",
   "name": "python",
   "nbconvert_exporter": "python",
   "pygments_lexer": "ipython2",
   "version": "2.7.6"
  }
 },
 "nbformat": 4,
 "nbformat_minor": 5
}
